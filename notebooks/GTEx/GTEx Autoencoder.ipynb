{
 "cells": [
  {
   "cell_type": "markdown",
   "id": "432062704d49cf6f",
   "metadata": {
    "collapsed": false,
    "jupyter": {
     "outputs_hidden": false
    }
   },
   "source": [
    "# GTEx Data Exploration"
   ]
  },
  {
   "cell_type": "code",
   "execution_count": null,
   "id": "6df4cc8ac1910a84",
   "metadata": {
    "collapsed": false,
    "is_executing": true,
    "jupyter": {
     "outputs_hidden": false
    }
   },
   "outputs": [],
   "source": [
    "import pandas as pd\n",
    "import seaborn as sns\n",
    "import matplotlib.pyplot as plt\n",
    "import torch\n",
    "import torch.nn as nn\n",
    "import torch.optim as optim\n",
    "from torch.utils.data import DataLoader, TensorDataset, Dataset\n",
    "from sklearn.preprocessing import StandardScaler, MinMaxScaler\n",
    "from tqdm.auto import tqdm\n",
    "from cmapPy.pandasGEXpress.parse_gct import parse\n",
    "from cmapPy.pandasGEXpress.write_gct import write\n",
    "from sklearn.model_selection import train_test_split"
   ]
  },
  {
   "cell_type": "code",
   "execution_count": null,
   "id": "f6cad959a53b9a2e",
   "metadata": {
    "ExecuteTime": {
     "end_time": "2024-01-15T16:58:28.761067733Z",
     "start_time": "2024-01-15T16:58:28.013656605Z"
    },
    "collapsed": false,
    "jupyter": {
     "outputs_hidden": false
    }
   },
   "outputs": [],
   "source": [
    "# data_path = '../../data/GTEx_Analysis_2017-06-05_v8_RNASeQCv1.1.9_gene_tpm.gct.gz'\n",
    "# data_path = '../../data/GTEx_Analysis_2016-01-15_v7_RNASeQCv1.1.8_gene_tpm.gct'\n",
    "data_path = '../../data/GTEx_mini.gct'\n",
    "data = parse(data_path)"
   ]
  },
  {
   "cell_type": "code",
   "execution_count": null,
   "id": "3f385f5d48e85199",
   "metadata": {
    "ExecuteTime": {
     "end_time": "2024-01-15T16:58:30.732853450Z",
     "start_time": "2024-01-15T16:58:30.720067996Z"
    },
    "collapsed": false,
    "jupyter": {
     "outputs_hidden": false
    }
   },
   "outputs": [],
   "source": [
    "# remove nan values from row_metadata (description column)\n",
    "data.row_metadata_df.dropna(inplace=True)\n",
    "# remove the entries of .data_df where nan values are in row_metadata\n",
    "data.data_df = data.data_df.loc[data.row_metadata_df.index]"
   ]
  },
  {
   "cell_type": "code",
   "execution_count": null,
   "id": "69d29c1eeb2e95ba",
   "metadata": {
    "ExecuteTime": {
     "end_time": "2024-01-15T16:59:58.389781452Z",
     "start_time": "2024-01-15T16:59:49.405231508Z"
    },
    "collapsed": false,
    "jupyter": {
     "outputs_hidden": false
    }
   },
   "outputs": [],
   "source": [
    "df = data.data_df\n",
    "df"
   ]
  },
  {
   "cell_type": "code",
   "execution_count": null,
   "id": "cb55c223ef58ad52",
   "metadata": {
    "collapsed": false,
    "jupyter": {
     "outputs_hidden": false
    }
   },
   "outputs": [],
   "source": [
    "# df = df.T  # Transpose for samples as rows\n",
    "scaler = MinMaxScaler()\n",
    "scaled_data = scaler.fit_transform(df)\n",
    "tensor_data = torch.FloatTensor(scaled_data)"
   ]
  },
  {
   "cell_type": "code",
   "execution_count": null,
   "id": "af22cb61-a2a1-449a-b267-d5d9de6670e7",
   "metadata": {},
   "outputs": [],
   "source": [
    "tensor_data.shape"
   ]
  },
  {
   "cell_type": "code",
   "execution_count": null,
   "id": "a7a962ea-0517-4cf8-ac59-91cdd9782184",
   "metadata": {},
   "outputs": [],
   "source": [
    "final_df = pd.DataFrame(tensor_data.numpy())"
   ]
  },
  {
   "cell_type": "code",
   "execution_count": null,
   "id": "3c368a8f-709a-4656-8381-29fc7a3819c6",
   "metadata": {},
   "outputs": [],
   "source": [
    "final_df"
   ]
  },
  {
   "cell_type": "code",
   "execution_count": null,
   "id": "7616824f-b9ed-4666-89da-e8dc5cd5cb9e",
   "metadata": {},
   "outputs": [],
   "source": [
    "final_df.describe()"
   ]
  },
  {
   "cell_type": "code",
   "execution_count": null,
   "id": "bfed656e-72a5-4e63-97b3-aca54db0629b",
   "metadata": {},
   "outputs": [],
   "source": [
    "train_df, test_df = train_test_split(final_df, test_size=0.2, random_state=42)\n",
    "train_df, val_df = train_test_split(train_df, test_size=0.1, random_state=42)"
   ]
  },
  {
   "cell_type": "code",
   "execution_count": null,
   "id": "e597ca4c-33ac-49c0-9746-360f3a7b0aed",
   "metadata": {},
   "outputs": [],
   "source": [
    "print(len(train_df))\n",
    "print(len(val_df))\n",
    "print(len(test_df))"
   ]
  },
  {
   "cell_type": "code",
   "execution_count": null,
   "id": "14998d25-7dae-4fee-b0e8-e0a32f61c056",
   "metadata": {},
   "outputs": [],
   "source": [
    "class GTExDataset(Dataset):\n",
    "    def __init__(self, dataframe, transform=None):\n",
    "        self.dataframe = dataframe\n",
    "        self.transform = transform\n",
    "\n",
    "    def __len__(self):\n",
    "        return len(self.dataframe)\n",
    "\n",
    "    def __getitem__(self, idx):\n",
    "        features = torch.tensor(self.dataframe.iloc[idx], dtype=torch.float32)\n",
    "\n",
    "        if self.transform:\n",
    "            features = self.transform(features)\n",
    "\n",
    "        return features, features # for Autoencoder"
   ]
  },
  {
   "cell_type": "code",
   "execution_count": null,
   "id": "e79ce141-3ce5-4155-95a4-44c167d4faac",
   "metadata": {},
   "outputs": [],
   "source": [
    "# Set hyperparameters\n",
    "input_size = len(df.columns)\n",
    "encoding_size = 500\n",
    "learning_rate = 1e-9\n",
    "epochs = 50\n",
    "batch_size = 256"
   ]
  },
  {
   "cell_type": "code",
   "execution_count": null,
   "id": "d2fc167e-29a9-4b5c-9bd0-aa6a67cf9b4e",
   "metadata": {},
   "outputs": [],
   "source": [
    "train_dataset = GTExDataset(train_df)\n",
    "val_dataset = GTExDataset(val_df)\n",
    "test_dataset = GTExDataset(test_df)\n",
    "\n",
    "# Define DataLoader for each set\n",
    "train_loader = DataLoader(train_dataset, batch_size=batch_size, shuffle=True)\n",
    "val_loader = DataLoader(val_dataset, batch_size=batch_size, shuffle=False)\n",
    "test_loader = DataLoader(test_dataset, batch_size=batch_size, shuffle=False)"
   ]
  },
  {
   "cell_type": "code",
   "execution_count": null,
   "id": "e69df8f543fdaa0b",
   "metadata": {
    "collapsed": false,
    "jupyter": {
     "outputs_hidden": false
    }
   },
   "outputs": [],
   "source": [
    "# Define Autoencoder model\n",
    "class Autoencoder(nn.Module):\n",
    "    def __init__(self, input_size, encoding_size):\n",
    "        super(Autoencoder, self).__init__()\n",
    "        self.encoder = nn.Linear(input_size, encoding_size)\n",
    "        self.decoder = nn.Linear(encoding_size, input_size)\n",
    "        self.nonlin = nn.ReLU()\n",
    "\n",
    "    def forward(self, x):\n",
    "        x = self.encoder(x)\n",
    "        x = self.nonlin(x)\n",
    "        x = self.decoder(x)\n",
    "        x = self.nonlin(x)\n",
    "        return x"
   ]
  },
  {
   "cell_type": "code",
   "execution_count": null,
   "id": "f9161fa3-a8e8-4426-b847-9f7d99a7d6a9",
   "metadata": {},
   "outputs": [],
   "source": [
    "len(df.columns)"
   ]
  },
  {
   "cell_type": "code",
   "execution_count": null,
   "id": "5e945eff-355c-4c14-9927-cf56e0730964",
   "metadata": {},
   "outputs": [],
   "source": [
    "# Initialize model, loss function, and optimizer\n",
    "model = Autoencoder(input_size, encoding_size)\n",
    "criterion = nn.MSELoss()\n",
    "optimizer = optim.Adam(model.parameters(), lr=learning_rate)\n",
    "\n",
    "# Training loop\n",
    "for epoch in range(epochs):\n",
    "    for inputs, targets in train_loader:\n",
    "        optimizer.zero_grad()\n",
    "        outputs = model(inputs)\n",
    "        loss = criterion(outputs, targets)\n",
    "        loss.backward()\n",
    "        optimizer.step()\n",
    "    print(f'Epoch [{epoch+1}/{epochs}], Loss: {loss.item():.4f}')\n",
    "\n",
    "# Extract embeddings\n",
    "with torch.no_grad():\n",
    "    model.eval()\n",
    "    for inputs, _ in train_loader:\n",
    "        embeddings = model.encoder(inputs)"
   ]
  }
 ],
 "metadata": {
  "kernelspec": {
   "display_name": "Python 3 (ipykernel)",
   "language": "python",
   "name": "python3"
  },
  "language_info": {
   "codemirror_mode": {
    "name": "ipython",
    "version": 3
   },
   "file_extension": ".py",
   "mimetype": "text/x-python",
   "name": "python",
   "nbconvert_exporter": "python",
   "pygments_lexer": "ipython3",
   "version": "3.11.7"
  }
 },
 "nbformat": 4,
 "nbformat_minor": 5
}

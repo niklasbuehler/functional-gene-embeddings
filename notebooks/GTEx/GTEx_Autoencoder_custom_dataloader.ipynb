{
 "cells": [
  {
   "cell_type": "markdown",
   "id": "432062704d49cf6f",
   "metadata": {
    "collapsed": false,
    "jupyter": {
     "outputs_hidden": false
    }
   },
   "source": [
    "# GTEx Data Exploration"
   ]
  },
  {
   "cell_type": "code",
   "execution_count": 246,
   "id": "6df4cc8ac1910a84",
   "metadata": {
    "collapsed": false,
    "is_executing": true,
    "jupyter": {
     "outputs_hidden": false
    }
   },
   "outputs": [],
   "source": [
    "import pandas as pd\n",
    "import seaborn as sns\n",
    "import matplotlib.pyplot as plt\n",
    "import torch\n",
    "import torch.nn as nn\n",
    "import torch.optim as optim\n",
    "from torch.utils.data import DataLoader, TensorDataset, Dataset\n",
    "from sklearn.preprocessing import StandardScaler, MinMaxScaler\n",
    "from tqdm.auto import tqdm\n",
    "from cmapPy.pandasGEXpress.parse_gct import parse\n",
    "from sklearn.model_selection import train_test_split\n",
    "import numpy as np\n"
   ]
  },
  {
   "cell_type": "code",
   "execution_count": 211,
   "id": "da932e69",
   "metadata": {},
   "outputs": [],
   "source": [
    "# The full dataset is not tracked in the repo. You need to download it\n",
    "full_data_path = '../../data/input/GTEx/GTEx_Analysis_2017-06-05_v8_RNASeQCv1.1.9_gene_tpm.gct'\n",
    "mini_data_path = '../../data/input/GTEx/GTEx_mini_random.gct'"
   ]
  },
  {
   "cell_type": "code",
   "execution_count": 212,
   "id": "01fb8afe",
   "metadata": {},
   "outputs": [
    {
     "name": "stdout",
     "output_type": "stream",
     "text": [
      "56200\n",
      "1000\n",
      "33720\n",
      "11240\n",
      "11240\n"
     ]
    }
   ],
   "source": [
    "# calculate data split and metadata\n",
    "file = open(mini_data_path)\n",
    "file.readline()\n",
    "metadata = file.readline()\n",
    "metadata = metadata.split('\\t')\n",
    "data_nr_rows = int(metadata[0])\n",
    "print(data_nr_rows)\n",
    "data_nr_cols = int(metadata[1])\n",
    "print(data_nr_cols)\n",
    "train_chunks_size = int(data_nr_rows * 0.6)\n",
    "val_chunks_size = int(data_nr_rows * 0.2)\n",
    "test_chunks_size = int(data_nr_rows * 0.2)\n",
    "print(train_chunks_size)\n",
    "print(val_chunks_size)\n",
    "print(test_chunks_size)\n"
   ]
  },
  {
   "cell_type": "code",
   "execution_count": 293,
   "id": "de04c034",
   "metadata": {},
   "outputs": [],
   "source": [
    "d = pd.read_csv(mini_data_path, skiprows=2, sep=\"\\t\")\n",
    "gene_ids = d['Name']"
   ]
  },
  {
   "cell_type": "code",
   "execution_count": 294,
   "id": "3f385f5d48e85199",
   "metadata": {
    "ExecuteTime": {
     "end_time": "2024-01-15T16:58:30.732853450Z",
     "start_time": "2024-01-15T16:58:30.720067996Z"
    },
    "collapsed": false,
    "jupyter": {
     "outputs_hidden": false
    }
   },
   "outputs": [],
   "source": [
    "def process_batch(batch):\n",
    "    batch.drop(batch.columns[[0, 1]], axis=1, inplace=True)\n",
    "    scaler = MinMaxScaler()\n",
    "    df_scaled = scaler.fit_transform(batch.to_numpy())\n",
    "    df = pd.DataFrame(df_scaled)\n",
    "    return df\n",
    "    "
   ]
  },
  {
   "cell_type": "code",
   "execution_count": 309,
   "id": "14998d25-7dae-4fee-b0e8-e0a32f61c056",
   "metadata": {},
   "outputs": [],
   "source": [
    "class GTExDataset(Dataset):\n",
    "    def __init__(self, nr_rows, type, transform=None):\n",
    "        self.type = type\n",
    "        self.chunks_reader = None\n",
    "        self.nr_rows = nr_rows\n",
    "        self.transform = transform\n",
    "        self.current_chunk_nr = 0\n",
    "        self.gene_names = []\n",
    "\n",
    "    def __len__(self):\n",
    "        return self.nr_rows\n",
    "    \n",
    "    def get_gene_names(self):\n",
    "        return self.gene_names\n",
    "    \n",
    "    def __getitem__(self, idx):\n",
    "        if idx == 0:\n",
    "            self.refresh_reader()\n",
    "            chunk = self.chunks_reader.get_chunk()\n",
    "            self.current_chunk = process_batch(chunk)\n",
    "            self.current_chunk_nr = 0\n",
    "        if (int(idx / self.chunks_reader.chunksize)) > self.current_chunk_nr:\n",
    "            self.current_chunk_nr += 1\n",
    "            chunk = self.chunks_reader.get_chunk()\n",
    "            self.current_chunk = process_batch(chunk)\n",
    "        index = idx % self.chunks_reader.chunksize\n",
    "        features = torch.tensor(self.current_chunk.iloc[index], dtype=torch.float32)\n",
    "\n",
    "        if self.transform:\n",
    "            features = self.transform(features)\n",
    "\n",
    "        return features, features # for Autoencoder\n",
    "    \n",
    "    def refresh_reader(self):\n",
    "        if self.type == 'train':\n",
    "            self.chunks_reader = pd.read_csv(mini_data_path, skiprows=3, sep=\"\\t\", chunksize=256, nrows= int(data_nr_rows * 0.6))\n",
    "        elif self.type == 'val':\n",
    "            self.chunks_reader = pd.read_csv(mini_data_path, skiprows=3 + train_chunks_size, sep=\"\\t\", chunksize=256, nrows= val_chunks_size)\n",
    "        else:\n",
    "            self.chunks_reader = pd.read_csv(mini_data_path, skiprows=2 + train_chunks_size + val_chunks_size, sep=\"\\t\", chunksize=256, nrows= test_chunks_size - 1)\n",
    "\n"
   ]
  },
  {
   "cell_type": "code",
   "execution_count": 310,
   "id": "e79ce141-3ce5-4155-95a4-44c167d4faac",
   "metadata": {},
   "outputs": [],
   "source": [
    "# Set hyperparameters\n",
    "input_size = data_nr_cols\n",
    "encoding_size = 5000\n",
    "learning_rate = 1e-4\n",
    "epochs = 10\n",
    "batch_size = 256"
   ]
  },
  {
   "cell_type": "code",
   "execution_count": 311,
   "id": "d2fc167e-29a9-4b5c-9bd0-aa6a67cf9b4e",
   "metadata": {},
   "outputs": [],
   "source": [
    "train_dataset = GTExDataset(nr_rows=train_chunks_size, type='train')\n",
    "train_loader = DataLoader(train_dataset, batch_size=batch_size)\n",
    "\n",
    "val_dataset = GTExDataset(nr_rows=val_chunks_size, type='val')\n",
    "val_loader = DataLoader(val_dataset, batch_size=batch_size)\n",
    "\n",
    "test_dataset = GTExDataset(nr_rows=test_chunks_size, type='test')\n",
    "test_loader = DataLoader(test_dataset, batch_size=batch_size)"
   ]
  },
  {
   "cell_type": "code",
   "execution_count": 312,
   "id": "e69df8f543fdaa0b",
   "metadata": {
    "collapsed": false,
    "jupyter": {
     "outputs_hidden": false
    }
   },
   "outputs": [],
   "source": [
    "# Define Autoencoder model\n",
    "class Autoencoder(nn.Module):\n",
    "    def __init__(self, input_size, encoding_size):\n",
    "        super(Autoencoder, self).__init__()\n",
    "        self.encoder = nn.Linear(input_size, encoding_size)\n",
    "        self.decoder = nn.Linear(encoding_size, input_size)\n",
    "        self.nonlin = nn.ReLU()\n",
    "\n",
    "    def forward(self, x):\n",
    "        x = self.encoder(x)\n",
    "        x = self.nonlin(x)\n",
    "        x = self.decoder(x)\n",
    "        x = self.nonlin(x)\n",
    "        return x"
   ]
  },
  {
   "cell_type": "code",
   "execution_count": 313,
   "id": "5e945eff-355c-4c14-9927-cf56e0730964",
   "metadata": {},
   "outputs": [
    {
     "name": "stdout",
     "output_type": "stream",
     "text": [
      "Epoch [1/10], Loss: 0.0023\n",
      "Validation Loss: 0.0016\n",
      "Epoch [2/10], Loss: 0.0012\n",
      "Validation Loss: 0.0013\n",
      "Epoch [3/10], Loss: 0.0010\n",
      "Validation Loss: 0.0012\n",
      "Epoch [4/10], Loss: 0.0009\n",
      "Validation Loss: 0.0011\n",
      "Epoch [5/10], Loss: 0.0008\n",
      "Validation Loss: 0.0010\n",
      "Epoch [6/10], Loss: 0.0007\n",
      "Validation Loss: 0.0009\n",
      "Epoch [7/10], Loss: 0.0006\n",
      "Validation Loss: 0.0009\n",
      "Epoch [8/10], Loss: 0.0006\n",
      "Validation Loss: 0.0009\n",
      "Epoch [9/10], Loss: 0.0005\n",
      "Validation Loss: 0.0008\n",
      "Epoch [10/10], Loss: 0.0005\n",
      "Validation Loss: 0.0008\n"
     ]
    }
   ],
   "source": [
    "\n",
    "# Initialize model, loss function, and optimizer\n",
    "model = Autoencoder(input_size, encoding_size)\n",
    "criterion = nn.MSELoss()\n",
    "optimizer = optim.Adam(model.parameters(), lr=learning_rate)\n",
    "train_loss_values = []\n",
    "val_loss_values = []\n",
    "# Training loop\n",
    "for epoch in range(epochs):\n",
    "    train_epoch_losses= []\n",
    "    val_epoch_losses=[]\n",
    "    for inputs, targets in train_loader:\n",
    "        optimizer.zero_grad()\n",
    "        outputs = model(inputs)\n",
    "        loss = criterion(outputs, targets)\n",
    "        train_epoch_losses.append(loss.item())\n",
    "        loss.backward()\n",
    "        optimizer.step()\n",
    "    train_loss_values.append(np.mean(train_epoch_losses))\n",
    "    print(f'Epoch [{epoch+1}/{epochs}], Loss: {np.mean(train_epoch_losses):.4f}')\n",
    "\n",
    "    # Val step\n",
    "    with torch.no_grad():\n",
    "        for inputs, targets in val_loader:\n",
    "            model.eval()\n",
    "            outputs = model(inputs)\n",
    "            loss = criterion(outputs, targets)\n",
    "            val_epoch_losses.append(loss.item())\n",
    "        val_loss_values.append(np.mean(val_epoch_losses))\n",
    "        print(f'Validation Loss: {np.mean(val_epoch_losses):.4f}')"
   ]
  },
  {
   "cell_type": "code",
   "execution_count": 314,
   "id": "308bc686",
   "metadata": {},
   "outputs": [
    {
     "data": {
      "image/png": "[encoded data removed]",
      "text/plain": [
       "<Figure size 640x480 with 1 Axes>"
      ]
     },
     "metadata": {},
     "output_type": "display_data"
    }
   ],
   "source": [
    "with torch.no_grad():\n",
    "    plt.plot(np.array(train_loss_values), 'r')\n",
    "    plt.plot(np.array(val_loss_values), 'b')\n",
    "\n",
    "    "
   ]
  },
  {
   "cell_type": "code",
   "execution_count": 315,
   "id": "330ebaab",
   "metadata": {},
   "outputs": [
    {
     "ename": "IndexError",
     "evalue": "single positional indexer is out-of-bounds",
     "output_type": "error",
     "traceback": [
      "\u001b[0;31m---------------------------------------------------------------------------\u001b[0m",
      "\u001b[0;31mIndexError\u001b[0m                                Traceback (most recent call last)",
      "Cell \u001b[0;32mIn[315], line 5\u001b[0m\n\u001b[1;32m      3\u001b[0m \u001b[38;5;28;01mwith\u001b[39;00m torch\u001b[38;5;241m.\u001b[39mno_grad():\n\u001b[1;32m      4\u001b[0m     model\u001b[38;5;241m.\u001b[39meval()\n\u001b[0;32m----> 5\u001b[0m     \u001b[38;5;28;01mfor\u001b[39;00m inputs, _ \u001b[38;5;129;01min\u001b[39;00m test_loader:\n\u001b[1;32m      6\u001b[0m         x \u001b[38;5;241m=\u001b[39m model\u001b[38;5;241m.\u001b[39mencoder(inputs)\n\u001b[1;32m      7\u001b[0m         embeddings\u001b[38;5;241m.\u001b[39mappend(x)\n",
      "File \u001b[0;32m~/anaconda3/envs/sysgen/lib/python3.9/site-packages/torch/utils/data/dataloader.py:630\u001b[0m, in \u001b[0;36m_BaseDataLoaderIter.__next__\u001b[0;34m(self)\u001b[0m\n\u001b[1;32m    <a href='file:///Users/marco.basmaji/anaconda3/envs/sysgen/lib/python3.9/site-packages/torch/utils/data/dataloader.py?line=626'>627</a>\u001b[0m \u001b[39mif\u001b[39;00m \u001b[39mself\u001b[39m\u001b[39m.\u001b[39m_sampler_iter \u001b[39mis\u001b[39;00m \u001b[39mNone\u001b[39;00m:\n\u001b[1;32m    <a href='file:///Users/marco.basmaji/anaconda3/envs/sysgen/lib/python3.9/site-packages/torch/utils/data/dataloader.py?line=627'>628</a>\u001b[0m     \u001b[39m# TODO(https://github.com/pytorch/pytorch/issues/76750)\u001b[39;00m\n\u001b[1;32m    <a href='file:///Users/marco.basmaji/anaconda3/envs/sysgen/lib/python3.9/site-packages/torch/utils/data/dataloader.py?line=628'>629</a>\u001b[0m     \u001b[39mself\u001b[39m\u001b[39m.\u001b[39m_reset()  \u001b[39m# type: ignore[call-arg]\u001b[39;00m\n\u001b[0;32m--> <a href='file:///Users/marco.basmaji/anaconda3/envs/sysgen/lib/python3.9/site-packages/torch/utils/data/dataloader.py?line=629'>630</a>\u001b[0m data \u001b[39m=\u001b[39m \u001b[39mself\u001b[39;49m\u001b[39m.\u001b[39;49m_next_data()\n\u001b[1;32m    <a href='file:///Users/marco.basmaji/anaconda3/envs/sysgen/lib/python3.9/site-packages/torch/utils/data/dataloader.py?line=630'>631</a>\u001b[0m \u001b[39mself\u001b[39m\u001b[39m.\u001b[39m_num_yielded \u001b[39m+\u001b[39m\u001b[39m=\u001b[39m \u001b[39m1\u001b[39m\n\u001b[1;32m    <a href='file:///Users/marco.basmaji/anaconda3/envs/sysgen/lib/python3.9/site-packages/torch/utils/data/dataloader.py?line=631'>632</a>\u001b[0m \u001b[39mif\u001b[39;00m \u001b[39mself\u001b[39m\u001b[39m.\u001b[39m_dataset_kind \u001b[39m==\u001b[39m _DatasetKind\u001b[39m.\u001b[39mIterable \u001b[39mand\u001b[39;00m \\\n\u001b[1;32m    <a href='file:///Users/marco.basmaji/anaconda3/envs/sysgen/lib/python3.9/site-packages/torch/utils/data/dataloader.py?line=632'>633</a>\u001b[0m         \u001b[39mself\u001b[39m\u001b[39m.\u001b[39m_IterableDataset_len_called \u001b[39mis\u001b[39;00m \u001b[39mnot\u001b[39;00m \u001b[39mNone\u001b[39;00m \u001b[39mand\u001b[39;00m \\\n\u001b[1;32m    <a href='file:///Users/marco.basmaji/anaconda3/envs/sysgen/lib/python3.9/site-packages/torch/utils/data/dataloader.py?line=633'>634</a>\u001b[0m         \u001b[39mself\u001b[39m\u001b[39m.\u001b[39m_num_yielded \u001b[39m>\u001b[39m \u001b[39mself\u001b[39m\u001b[39m.\u001b[39m_IterableDataset_len_called:\n",
      "File \u001b[0;32m~/anaconda3/envs/sysgen/lib/python3.9/site-packages/torch/utils/data/dataloader.py:674\u001b[0m, in \u001b[0;36m_SingleProcessDataLoaderIter._next_data\u001b[0;34m(self)\u001b[0m\n\u001b[1;32m    <a href='file:///Users/marco.basmaji/anaconda3/envs/sysgen/lib/python3.9/site-packages/torch/utils/data/dataloader.py?line=671'>672</a>\u001b[0m \u001b[39mdef\u001b[39;00m \u001b[39m_next_data\u001b[39m(\u001b[39mself\u001b[39m):\n\u001b[1;32m    <a href='file:///Users/marco.basmaji/anaconda3/envs/sysgen/lib/python3.9/site-packages/torch/utils/data/dataloader.py?line=672'>673</a>\u001b[0m     index \u001b[39m=\u001b[39m \u001b[39mself\u001b[39m\u001b[39m.\u001b[39m_next_index()  \u001b[39m# may raise StopIteration\u001b[39;00m\n\u001b[0;32m--> <a href='file:///Users/marco.basmaji/anaconda3/envs/sysgen/lib/python3.9/site-packages/torch/utils/data/dataloader.py?line=673'>674</a>\u001b[0m     data \u001b[39m=\u001b[39m \u001b[39mself\u001b[39;49m\u001b[39m.\u001b[39;49m_dataset_fetcher\u001b[39m.\u001b[39;49mfetch(index)  \u001b[39m# may raise StopIteration\u001b[39;00m\n\u001b[1;32m    <a href='file:///Users/marco.basmaji/anaconda3/envs/sysgen/lib/python3.9/site-packages/torch/utils/data/dataloader.py?line=674'>675</a>\u001b[0m     \u001b[39mif\u001b[39;00m \u001b[39mself\u001b[39m\u001b[39m.\u001b[39m_pin_memory:\n\u001b[1;32m    <a href='file:///Users/marco.basmaji/anaconda3/envs/sysgen/lib/python3.9/site-packages/torch/utils/data/dataloader.py?line=675'>676</a>\u001b[0m         data \u001b[39m=\u001b[39m _utils\u001b[39m.\u001b[39mpin_memory\u001b[39m.\u001b[39mpin_memory(data, \u001b[39mself\u001b[39m\u001b[39m.\u001b[39m_pin_memory_device)\n",
      "File \u001b[0;32m~/anaconda3/envs/sysgen/lib/python3.9/site-packages/torch/utils/data/_utils/fetch.py:51\u001b[0m, in \u001b[0;36m_MapDatasetFetcher.fetch\u001b[0;34m(self, possibly_batched_index)\u001b[0m\n\u001b[1;32m     <a href='file:///Users/marco.basmaji/anaconda3/envs/sysgen/lib/python3.9/site-packages/torch/utils/data/_utils/fetch.py?line=48'>49</a>\u001b[0m         data \u001b[39m=\u001b[39m \u001b[39mself\u001b[39m\u001b[39m.\u001b[39mdataset\u001b[39m.\u001b[39m__getitems__(possibly_batched_index)\n\u001b[1;32m     <a href='file:///Users/marco.basmaji/anaconda3/envs/sysgen/lib/python3.9/site-packages/torch/utils/data/_utils/fetch.py?line=49'>50</a>\u001b[0m     \u001b[39melse\u001b[39;00m:\n\u001b[0;32m---> <a href='file:///Users/marco.basmaji/anaconda3/envs/sysgen/lib/python3.9/site-packages/torch/utils/data/_utils/fetch.py?line=50'>51</a>\u001b[0m         data \u001b[39m=\u001b[39m [\u001b[39mself\u001b[39m\u001b[39m.\u001b[39mdataset[idx] \u001b[39mfor\u001b[39;00m idx \u001b[39min\u001b[39;00m possibly_batched_index]\n\u001b[1;32m     <a href='file:///Users/marco.basmaji/anaconda3/envs/sysgen/lib/python3.9/site-packages/torch/utils/data/_utils/fetch.py?line=51'>52</a>\u001b[0m \u001b[39melse\u001b[39;00m:\n\u001b[1;32m     <a href='file:///Users/marco.basmaji/anaconda3/envs/sysgen/lib/python3.9/site-packages/torch/utils/data/_utils/fetch.py?line=52'>53</a>\u001b[0m     data \u001b[39m=\u001b[39m \u001b[39mself\u001b[39m\u001b[39m.\u001b[39mdataset[possibly_batched_index]\n",
      "File \u001b[0;32m~/anaconda3/envs/sysgen/lib/python3.9/site-packages/torch/utils/data/_utils/fetch.py:51\u001b[0m, in \u001b[0;36m<listcomp>\u001b[0;34m(.0)\u001b[0m\n\u001b[1;32m     <a href='file:///Users/marco.basmaji/anaconda3/envs/sysgen/lib/python3.9/site-packages/torch/utils/data/_utils/fetch.py?line=48'>49</a>\u001b[0m         data \u001b[39m=\u001b[39m \u001b[39mself\u001b[39m\u001b[39m.\u001b[39mdataset\u001b[39m.\u001b[39m__getitems__(possibly_batched_index)\n\u001b[1;32m     <a href='file:///Users/marco.basmaji/anaconda3/envs/sysgen/lib/python3.9/site-packages/torch/utils/data/_utils/fetch.py?line=49'>50</a>\u001b[0m     \u001b[39melse\u001b[39;00m:\n\u001b[0;32m---> <a href='file:///Users/marco.basmaji/anaconda3/envs/sysgen/lib/python3.9/site-packages/torch/utils/data/_utils/fetch.py?line=50'>51</a>\u001b[0m         data \u001b[39m=\u001b[39m [\u001b[39mself\u001b[39;49m\u001b[39m.\u001b[39;49mdataset[idx] \u001b[39mfor\u001b[39;00m idx \u001b[39min\u001b[39;00m possibly_batched_index]\n\u001b[1;32m     <a href='file:///Users/marco.basmaji/anaconda3/envs/sysgen/lib/python3.9/site-packages/torch/utils/data/_utils/fetch.py?line=51'>52</a>\u001b[0m \u001b[39melse\u001b[39;00m:\n\u001b[1;32m     <a href='file:///Users/marco.basmaji/anaconda3/envs/sysgen/lib/python3.9/site-packages/torch/utils/data/_utils/fetch.py?line=52'>53</a>\u001b[0m     data \u001b[39m=\u001b[39m \u001b[39mself\u001b[39m\u001b[39m.\u001b[39mdataset[possibly_batched_index]\n",
      "Cell \u001b[0;32mIn[309], line 27\u001b[0m, in \u001b[0;36mGTExDataset.__getitem__\u001b[0;34m(self, idx)\u001b[0m\n\u001b[1;32m     25\u001b[0m     \u001b[38;5;28mself\u001b[39m\u001b[38;5;241m.\u001b[39mcurrent_chunk \u001b[38;5;241m=\u001b[39m process_batch(chunk)\n\u001b[1;32m     26\u001b[0m index \u001b[38;5;241m=\u001b[39m idx \u001b[38;5;241m%\u001b[39m \u001b[38;5;28mself\u001b[39m\u001b[38;5;241m.\u001b[39mchunks_reader\u001b[38;5;241m.\u001b[39mchunksize\n\u001b[0;32m---> 27\u001b[0m features \u001b[38;5;241m=\u001b[39m torch\u001b[38;5;241m.\u001b[39mtensor(\u001b[38;5;28;43mself\u001b[39;49m\u001b[38;5;241;43m.\u001b[39;49m\u001b[43mcurrent_chunk\u001b[49m\u001b[38;5;241;43m.\u001b[39;49m\u001b[43miloc\u001b[49m\u001b[43m[\u001b[49m\u001b[43mindex\u001b[49m\u001b[43m]\u001b[49m, dtype\u001b[38;5;241m=\u001b[39mtorch\u001b[38;5;241m.\u001b[39mfloat32)\n\u001b[1;32m     29\u001b[0m \u001b[38;5;28;01mif\u001b[39;00m \u001b[38;5;28mself\u001b[39m\u001b[38;5;241m.\u001b[39mtransform:\n\u001b[1;32m     30\u001b[0m     features \u001b[38;5;241m=\u001b[39m \u001b[38;5;28mself\u001b[39m\u001b[38;5;241m.\u001b[39mtransform(features)\n",
      "File \u001b[0;32m~/anaconda3/envs/sysgen/lib/python3.9/site-packages/pandas/core/indexing.py:1153\u001b[0m, in \u001b[0;36m_LocationIndexer.__getitem__\u001b[0;34m(self, key)\u001b[0m\n\u001b[1;32m   <a href='file:///Users/marco.basmaji/anaconda3/envs/sysgen/lib/python3.9/site-packages/pandas/core/indexing.py?line=1149'>1150</a>\u001b[0m axis \u001b[39m=\u001b[39m \u001b[39mself\u001b[39m\u001b[39m.\u001b[39maxis \u001b[39mor\u001b[39;00m \u001b[39m0\u001b[39m\n\u001b[1;32m   <a href='file:///Users/marco.basmaji/anaconda3/envs/sysgen/lib/python3.9/site-packages/pandas/core/indexing.py?line=1151'>1152</a>\u001b[0m maybe_callable \u001b[39m=\u001b[39m com\u001b[39m.\u001b[39mapply_if_callable(key, \u001b[39mself\u001b[39m\u001b[39m.\u001b[39mobj)\n\u001b[0;32m-> <a href='file:///Users/marco.basmaji/anaconda3/envs/sysgen/lib/python3.9/site-packages/pandas/core/indexing.py?line=1152'>1153</a>\u001b[0m \u001b[39mreturn\u001b[39;00m \u001b[39mself\u001b[39;49m\u001b[39m.\u001b[39;49m_getitem_axis(maybe_callable, axis\u001b[39m=\u001b[39;49maxis)\n",
      "File \u001b[0;32m~/anaconda3/envs/sysgen/lib/python3.9/site-packages/pandas/core/indexing.py:1714\u001b[0m, in \u001b[0;36m_iLocIndexer._getitem_axis\u001b[0;34m(self, key, axis)\u001b[0m\n\u001b[1;32m   <a href='file:///Users/marco.basmaji/anaconda3/envs/sysgen/lib/python3.9/site-packages/pandas/core/indexing.py?line=1710'>1711</a>\u001b[0m     \u001b[39mraise\u001b[39;00m \u001b[39mTypeError\u001b[39;00m(\u001b[39m\"\u001b[39m\u001b[39mCannot index by location index with a non-integer key\u001b[39m\u001b[39m\"\u001b[39m)\n\u001b[1;32m   <a href='file:///Users/marco.basmaji/anaconda3/envs/sysgen/lib/python3.9/site-packages/pandas/core/indexing.py?line=1712'>1713</a>\u001b[0m \u001b[39m# validate the location\u001b[39;00m\n\u001b[0;32m-> <a href='file:///Users/marco.basmaji/anaconda3/envs/sysgen/lib/python3.9/site-packages/pandas/core/indexing.py?line=1713'>1714</a>\u001b[0m \u001b[39mself\u001b[39;49m\u001b[39m.\u001b[39;49m_validate_integer(key, axis)\n\u001b[1;32m   <a href='file:///Users/marco.basmaji/anaconda3/envs/sysgen/lib/python3.9/site-packages/pandas/core/indexing.py?line=1715'>1716</a>\u001b[0m \u001b[39mreturn\u001b[39;00m \u001b[39mself\u001b[39m\u001b[39m.\u001b[39mobj\u001b[39m.\u001b[39m_ixs(key, axis\u001b[39m=\u001b[39maxis)\n",
      "File \u001b[0;32m~/anaconda3/envs/sysgen/lib/python3.9/site-packages/pandas/core/indexing.py:1647\u001b[0m, in \u001b[0;36m_iLocIndexer._validate_integer\u001b[0;34m(self, key, axis)\u001b[0m\n\u001b[1;32m   <a href='file:///Users/marco.basmaji/anaconda3/envs/sysgen/lib/python3.9/site-packages/pandas/core/indexing.py?line=1644'>1645</a>\u001b[0m len_axis \u001b[39m=\u001b[39m \u001b[39mlen\u001b[39m(\u001b[39mself\u001b[39m\u001b[39m.\u001b[39mobj\u001b[39m.\u001b[39m_get_axis(axis))\n\u001b[1;32m   <a href='file:///Users/marco.basmaji/anaconda3/envs/sysgen/lib/python3.9/site-packages/pandas/core/indexing.py?line=1645'>1646</a>\u001b[0m \u001b[39mif\u001b[39;00m key \u001b[39m>\u001b[39m\u001b[39m=\u001b[39m len_axis \u001b[39mor\u001b[39;00m key \u001b[39m<\u001b[39m \u001b[39m-\u001b[39mlen_axis:\n\u001b[0;32m-> <a href='file:///Users/marco.basmaji/anaconda3/envs/sysgen/lib/python3.9/site-packages/pandas/core/indexing.py?line=1646'>1647</a>\u001b[0m     \u001b[39mraise\u001b[39;00m \u001b[39mIndexError\u001b[39;00m(\u001b[39m\"\u001b[39m\u001b[39msingle positional indexer is out-of-bounds\u001b[39m\u001b[39m\"\u001b[39m)\n",
      "\u001b[0;31mIndexError\u001b[0m: single positional indexer is out-of-bounds"
     ]
    }
   ],
   "source": [
    "embeddings = []\n",
    "# Extract embeddings\n",
    "with torch.no_grad():\n",
    "    model.eval()\n",
    "    for inputs, _ in test_loader:\n",
    "        x = model.encoder(inputs)\n",
    "        embeddings.append(x)\n",
    "embeddings = torch.vstack(embeddings)\n",
    "len(embeddings)\n"
   ]
  },
  {
   "cell_type": "code",
   "execution_count": 316,
   "id": "2cfe58bf",
   "metadata": {},
   "outputs": [
    {
     "ename": "ValueError",
     "evalue": "Must pass 2-d input. shape=(43, 256, 5000)",
     "output_type": "error",
     "traceback": [
      "\u001b[0;31m---------------------------------------------------------------------------\u001b[0m",
      "\u001b[0;31mValueError\u001b[0m                                Traceback (most recent call last)",
      "Cell \u001b[0;32mIn[316], line 1\u001b[0m\n\u001b[0;32m----> 1\u001b[0m emb_df \u001b[38;5;241m=\u001b[39m \u001b[43mpd\u001b[49m\u001b[38;5;241;43m.\u001b[39;49m\u001b[43mDataFrame\u001b[49m\u001b[43m(\u001b[49m\n\u001b[1;32m      2\u001b[0m \u001b[43m    \u001b[49m\u001b[43mdata\u001b[49m\u001b[43m \u001b[49m\u001b[38;5;241;43m=\u001b[39;49m\u001b[43m \u001b[49m\u001b[43membeddings\u001b[49m\u001b[43m,\u001b[49m\n\u001b[1;32m      3\u001b[0m \u001b[43m    \u001b[49m\u001b[43mindex\u001b[49m\u001b[43m \u001b[49m\u001b[38;5;241;43m=\u001b[39;49m\u001b[43m \u001b[49m\u001b[43m[\u001b[49m\u001b[38;5;124;43mf\u001b[39;49m\u001b[38;5;124;43m'\u001b[39;49m\u001b[38;5;124;43mindex_\u001b[39;49m\u001b[38;5;132;43;01m{\u001b[39;49;00m\u001b[43mi\u001b[49m\u001b[38;5;132;43;01m}\u001b[39;49;00m\u001b[38;5;124;43m'\u001b[39;49m\u001b[43m \u001b[49m\u001b[38;5;28;43;01mfor\u001b[39;49;00m\u001b[43m \u001b[49m\u001b[43mi\u001b[49m\u001b[43m \u001b[49m\u001b[38;5;129;43;01min\u001b[39;49;00m\u001b[43m \u001b[49m\u001b[38;5;28;43mrange\u001b[39;49m\u001b[43m(\u001b[49m\u001b[43mtest_chunks_size\u001b[49m\u001b[43m)\u001b[49m\u001b[43m]\u001b[49m\u001b[43m,\u001b[49m\n\u001b[1;32m      4\u001b[0m \u001b[43m    \u001b[49m\u001b[43mcolumns\u001b[49m\u001b[43m \u001b[49m\u001b[38;5;241;43m=\u001b[39;49m\u001b[43m \u001b[49m\u001b[43m[\u001b[49m\u001b[38;5;124;43mf\u001b[39;49m\u001b[38;5;124;43m'\u001b[39;49m\u001b[38;5;124;43mEMB_\u001b[39;49m\u001b[38;5;132;43;01m{\u001b[39;49;00m\u001b[43mi\u001b[49m\u001b[38;5;132;43;01m}\u001b[39;49;00m\u001b[38;5;124;43m'\u001b[39;49m\u001b[43m \u001b[49m\u001b[38;5;28;43;01mfor\u001b[39;49;00m\u001b[43m \u001b[49m\u001b[43mi\u001b[49m\u001b[43m \u001b[49m\u001b[38;5;129;43;01min\u001b[39;49;00m\u001b[43m \u001b[49m\u001b[38;5;28;43mrange\u001b[39;49m\u001b[43m(\u001b[49m\u001b[43mencoding_size\u001b[49m\u001b[43m)\u001b[49m\u001b[43m]\u001b[49m\n\u001b[1;32m      5\u001b[0m \u001b[43m)\u001b[49m\n\u001b[1;32m      6\u001b[0m emb_df\u001b[38;5;241m.\u001b[39mindex\u001b[38;5;241m.\u001b[39mname \u001b[38;5;241m=\u001b[39m \u001b[38;5;124m\"\u001b[39m\u001b[38;5;124mgene_id\u001b[39m\u001b[38;5;124m\"\u001b[39m\n\u001b[1;32m      7\u001b[0m emb_df\n",
      "File \u001b[0;32m~/anaconda3/envs/sysgen/lib/python3.9/site-packages/pandas/core/frame.py:822\u001b[0m, in \u001b[0;36mDataFrame.__init__\u001b[0;34m(self, data, index, columns, dtype, copy)\u001b[0m\n\u001b[1;32m    <a href='file:///Users/marco.basmaji/anaconda3/envs/sysgen/lib/python3.9/site-packages/pandas/core/frame.py?line=813'>814</a>\u001b[0m         mgr \u001b[39m=\u001b[39m arrays_to_mgr(\n\u001b[1;32m    <a href='file:///Users/marco.basmaji/anaconda3/envs/sysgen/lib/python3.9/site-packages/pandas/core/frame.py?line=814'>815</a>\u001b[0m             arrays,\n\u001b[1;32m    <a href='file:///Users/marco.basmaji/anaconda3/envs/sysgen/lib/python3.9/site-packages/pandas/core/frame.py?line=815'>816</a>\u001b[0m             columns,\n\u001b[0;32m   (...)\u001b[0m\n\u001b[1;32m    <a href='file:///Users/marco.basmaji/anaconda3/envs/sysgen/lib/python3.9/site-packages/pandas/core/frame.py?line=818'>819</a>\u001b[0m             typ\u001b[39m=\u001b[39mmanager,\n\u001b[1;32m    <a href='file:///Users/marco.basmaji/anaconda3/envs/sysgen/lib/python3.9/site-packages/pandas/core/frame.py?line=819'>820</a>\u001b[0m         )\n\u001b[1;32m    <a href='file:///Users/marco.basmaji/anaconda3/envs/sysgen/lib/python3.9/site-packages/pandas/core/frame.py?line=820'>821</a>\u001b[0m     \u001b[39melse\u001b[39;00m:\n\u001b[0;32m--> <a href='file:///Users/marco.basmaji/anaconda3/envs/sysgen/lib/python3.9/site-packages/pandas/core/frame.py?line=821'>822</a>\u001b[0m         mgr \u001b[39m=\u001b[39m ndarray_to_mgr(\n\u001b[1;32m    <a href='file:///Users/marco.basmaji/anaconda3/envs/sysgen/lib/python3.9/site-packages/pandas/core/frame.py?line=822'>823</a>\u001b[0m             data,\n\u001b[1;32m    <a href='file:///Users/marco.basmaji/anaconda3/envs/sysgen/lib/python3.9/site-packages/pandas/core/frame.py?line=823'>824</a>\u001b[0m             index,\n\u001b[1;32m    <a href='file:///Users/marco.basmaji/anaconda3/envs/sysgen/lib/python3.9/site-packages/pandas/core/frame.py?line=824'>825</a>\u001b[0m             columns,\n\u001b[1;32m    <a href='file:///Users/marco.basmaji/anaconda3/envs/sysgen/lib/python3.9/site-packages/pandas/core/frame.py?line=825'>826</a>\u001b[0m             dtype\u001b[39m=\u001b[39;49mdtype,\n\u001b[1;32m    <a href='file:///Users/marco.basmaji/anaconda3/envs/sysgen/lib/python3.9/site-packages/pandas/core/frame.py?line=826'>827</a>\u001b[0m             copy\u001b[39m=\u001b[39;49mcopy,\n\u001b[1;32m    <a href='file:///Users/marco.basmaji/anaconda3/envs/sysgen/lib/python3.9/site-packages/pandas/core/frame.py?line=827'>828</a>\u001b[0m             typ\u001b[39m=\u001b[39;49mmanager,\n\u001b[1;32m    <a href='file:///Users/marco.basmaji/anaconda3/envs/sysgen/lib/python3.9/site-packages/pandas/core/frame.py?line=828'>829</a>\u001b[0m         )\n\u001b[1;32m    <a href='file:///Users/marco.basmaji/anaconda3/envs/sysgen/lib/python3.9/site-packages/pandas/core/frame.py?line=829'>830</a>\u001b[0m \u001b[39melse\u001b[39;00m:\n\u001b[1;32m    <a href='file:///Users/marco.basmaji/anaconda3/envs/sysgen/lib/python3.9/site-packages/pandas/core/frame.py?line=830'>831</a>\u001b[0m     mgr \u001b[39m=\u001b[39m dict_to_mgr(\n\u001b[1;32m    <a href='file:///Users/marco.basmaji/anaconda3/envs/sysgen/lib/python3.9/site-packages/pandas/core/frame.py?line=831'>832</a>\u001b[0m         {},\n\u001b[1;32m    <a href='file:///Users/marco.basmaji/anaconda3/envs/sysgen/lib/python3.9/site-packages/pandas/core/frame.py?line=832'>833</a>\u001b[0m         index,\n\u001b[0;32m   (...)\u001b[0m\n\u001b[1;32m    <a href='file:///Users/marco.basmaji/anaconda3/envs/sysgen/lib/python3.9/site-packages/pandas/core/frame.py?line=835'>836</a>\u001b[0m         typ\u001b[39m=\u001b[39mmanager,\n\u001b[1;32m    <a href='file:///Users/marco.basmaji/anaconda3/envs/sysgen/lib/python3.9/site-packages/pandas/core/frame.py?line=836'>837</a>\u001b[0m     )\n",
      "File \u001b[0;32m~/anaconda3/envs/sysgen/lib/python3.9/site-packages/pandas/core/internals/construction.py:319\u001b[0m, in \u001b[0;36mndarray_to_mgr\u001b[0;34m(values, index, columns, dtype, copy, typ)\u001b[0m\n\u001b[1;32m    <a href='file:///Users/marco.basmaji/anaconda3/envs/sysgen/lib/python3.9/site-packages/pandas/core/internals/construction.py?line=313'>314</a>\u001b[0m     values \u001b[39m=\u001b[39m _ensure_2d(values)\n\u001b[1;32m    <a href='file:///Users/marco.basmaji/anaconda3/envs/sysgen/lib/python3.9/site-packages/pandas/core/internals/construction.py?line=315'>316</a>\u001b[0m \u001b[39melse\u001b[39;00m:\n\u001b[1;32m    <a href='file:///Users/marco.basmaji/anaconda3/envs/sysgen/lib/python3.9/site-packages/pandas/core/internals/construction.py?line=316'>317</a>\u001b[0m     \u001b[39m# by definition an array here\u001b[39;00m\n\u001b[1;32m    <a href='file:///Users/marco.basmaji/anaconda3/envs/sysgen/lib/python3.9/site-packages/pandas/core/internals/construction.py?line=317'>318</a>\u001b[0m     \u001b[39m# the dtypes will be coerced to a single dtype\u001b[39;00m\n\u001b[0;32m--> <a href='file:///Users/marco.basmaji/anaconda3/envs/sysgen/lib/python3.9/site-packages/pandas/core/internals/construction.py?line=318'>319</a>\u001b[0m     values \u001b[39m=\u001b[39m _prep_ndarraylike(values, copy\u001b[39m=\u001b[39;49mcopy_on_sanitize)\n\u001b[1;32m    <a href='file:///Users/marco.basmaji/anaconda3/envs/sysgen/lib/python3.9/site-packages/pandas/core/internals/construction.py?line=320'>321</a>\u001b[0m \u001b[39mif\u001b[39;00m dtype \u001b[39mis\u001b[39;00m \u001b[39mnot\u001b[39;00m \u001b[39mNone\u001b[39;00m \u001b[39mand\u001b[39;00m values\u001b[39m.\u001b[39mdtype \u001b[39m!=\u001b[39m dtype:\n\u001b[1;32m    <a href='file:///Users/marco.basmaji/anaconda3/envs/sysgen/lib/python3.9/site-packages/pandas/core/internals/construction.py?line=321'>322</a>\u001b[0m     \u001b[39m# GH#40110 see similar check inside sanitize_array\u001b[39;00m\n\u001b[1;32m    <a href='file:///Users/marco.basmaji/anaconda3/envs/sysgen/lib/python3.9/site-packages/pandas/core/internals/construction.py?line=322'>323</a>\u001b[0m     values \u001b[39m=\u001b[39m sanitize_array(\n\u001b[1;32m    <a href='file:///Users/marco.basmaji/anaconda3/envs/sysgen/lib/python3.9/site-packages/pandas/core/internals/construction.py?line=323'>324</a>\u001b[0m         values,\n\u001b[1;32m    <a href='file:///Users/marco.basmaji/anaconda3/envs/sysgen/lib/python3.9/site-packages/pandas/core/internals/construction.py?line=324'>325</a>\u001b[0m         \u001b[39mNone\u001b[39;00m,\n\u001b[0;32m   (...)\u001b[0m\n\u001b[1;32m    <a href='file:///Users/marco.basmaji/anaconda3/envs/sysgen/lib/python3.9/site-packages/pandas/core/internals/construction.py?line=327'>328</a>\u001b[0m         allow_2d\u001b[39m=\u001b[39m\u001b[39mTrue\u001b[39;00m,\n\u001b[1;32m    <a href='file:///Users/marco.basmaji/anaconda3/envs/sysgen/lib/python3.9/site-packages/pandas/core/internals/construction.py?line=328'>329</a>\u001b[0m     )\n",
      "File \u001b[0;32m~/anaconda3/envs/sysgen/lib/python3.9/site-packages/pandas/core/internals/construction.py:582\u001b[0m, in \u001b[0;36m_prep_ndarraylike\u001b[0;34m(values, copy)\u001b[0m\n\u001b[1;32m    <a href='file:///Users/marco.basmaji/anaconda3/envs/sysgen/lib/python3.9/site-packages/pandas/core/internals/construction.py?line=578'>579</a>\u001b[0m \u001b[39melse\u001b[39;00m:\n\u001b[1;32m    <a href='file:///Users/marco.basmaji/anaconda3/envs/sysgen/lib/python3.9/site-packages/pandas/core/internals/construction.py?line=579'>580</a>\u001b[0m     values \u001b[39m=\u001b[39m convert(values)\n\u001b[0;32m--> <a href='file:///Users/marco.basmaji/anaconda3/envs/sysgen/lib/python3.9/site-packages/pandas/core/internals/construction.py?line=581'>582</a>\u001b[0m \u001b[39mreturn\u001b[39;00m _ensure_2d(values)\n",
      "File \u001b[0;32m~/anaconda3/envs/sysgen/lib/python3.9/site-packages/pandas/core/internals/construction.py:592\u001b[0m, in \u001b[0;36m_ensure_2d\u001b[0;34m(values)\u001b[0m\n\u001b[1;32m    <a href='file:///Users/marco.basmaji/anaconda3/envs/sysgen/lib/python3.9/site-packages/pandas/core/internals/construction.py?line=589'>590</a>\u001b[0m     values \u001b[39m=\u001b[39m values\u001b[39m.\u001b[39mreshape((values\u001b[39m.\u001b[39mshape[\u001b[39m0\u001b[39m], \u001b[39m1\u001b[39m))\n\u001b[1;32m    <a href='file:///Users/marco.basmaji/anaconda3/envs/sysgen/lib/python3.9/site-packages/pandas/core/internals/construction.py?line=590'>591</a>\u001b[0m \u001b[39melif\u001b[39;00m values\u001b[39m.\u001b[39mndim \u001b[39m!=\u001b[39m \u001b[39m2\u001b[39m:\n\u001b[0;32m--> <a href='file:///Users/marco.basmaji/anaconda3/envs/sysgen/lib/python3.9/site-packages/pandas/core/internals/construction.py?line=591'>592</a>\u001b[0m     \u001b[39mraise\u001b[39;00m \u001b[39mValueError\u001b[39;00m(\u001b[39mf\u001b[39m\u001b[39m\"\u001b[39m\u001b[39mMust pass 2-d input. shape=\u001b[39m\u001b[39m{\u001b[39;00mvalues\u001b[39m.\u001b[39mshape\u001b[39m}\u001b[39;00m\u001b[39m\"\u001b[39m)\n\u001b[1;32m    <a href='file:///Users/marco.basmaji/anaconda3/envs/sysgen/lib/python3.9/site-packages/pandas/core/internals/construction.py?line=592'>593</a>\u001b[0m \u001b[39mreturn\u001b[39;00m values\n",
      "\u001b[0;31mValueError\u001b[0m: Must pass 2-d input. shape=(43, 256, 5000)"
     ]
    }
   ],
   "source": [
    "emb_df = pd.DataFrame(\n",
    "    data = embeddings,\n",
    "    index = [f'index_{i}' for i in range(test_chunks_size)],\n",
    "    columns = [f'EMB_{i}' for i in range(encoding_size)]\n",
    ")\n",
    "emb_df.index.name = \"gene_id\"\n",
    "emb_df"
   ]
  },
  {
   "cell_type": "code",
   "execution_count": 267,
   "id": "36819a5b",
   "metadata": {},
   "outputs": [],
   "source": [
    "emb_df.to_csv(f\"../../data/embeddings/GTEx_AE_embeddings_d{encoding_size}.tsv\", sep=\"\\t\")"
   ]
  }
 ],
 "metadata": {
  "interpreter": {
   "hash": "2cbd9af743c416a448b7bd76b7d3b5d57d0478ef5d583f623702bb679bd48493"
  },
  "kernelspec": {
   "display_name": "Python 3.9.18 ('sysgen')",
   "language": "python",
   "name": "python3"
  },
  "language_info": {
   "codemirror_mode": {
    "name": "ipython",
    "version": 3
   },
   "file_extension": ".py",
   "mimetype": "text/x-python",
   "name": "python",
   "nbconvert_exporter": "python",
   "pygments_lexer": "ipython3",
   "version": "3.9.18"
  }
 },
 "nbformat": 4,
 "nbformat_minor": 5
}

{
 "cells": [
  {
   "cell_type": "markdown",
   "metadata": {},
   "source": [
    "# PCs of Compressed and Uncompressed TS Data"
   ]
  },
  {
   "cell_type": "markdown",
   "metadata": {},
   "source": [
    "### Computing PCs"
   ]
  },
  {
   "cell_type": "markdown",
   "metadata": {},
   "source": [
    "#### for the compressed data"
   ]
  },
  {
   "cell_type": "code",
   "execution_count": 1,
   "metadata": {},
   "outputs": [],
   "source": [
    "import scanpy as sc\n",
    "import numpy as np\n",
    "import pandas as pd\n",
    "from sklearn.decomposition import PCA"
   ]
  },
  {
   "cell_type": "code",
   "execution_count": 2,
   "metadata": {},
   "outputs": [],
   "source": [
    "data_path = \"TabulaSapiens_CO_compressed.h5ad\"\n",
    "ts_adata = sc.read_h5ad(data_path)\n",
    "gene_id = ts_adata.var.ensemblid.to_list()\n",
    "gene_id = [i.split(\".\")[0] for i in gene_id]\n",
    "ds = ts_adata.X.T\n",
    "\n",
    "ds = ds / ds.std()\n",
    "\n",
    "pca = PCA()\n",
    "pca.fit(ds)\n",
    "\n",
    "varaince_ratio = 0.95\n",
    "n_dim = 0\n",
    "ratio = 0\n",
    "while ratio < varaince_ratio:\n",
    "    ratio += pca.explained_variance_ratio_[n_dim]\n",
    "    n_dim += 1\n",
    "\n",
    "scale_pcs = True\n",
    "pcs = pca.transform(ds)[:, 0:n_dim]\n",
    "if scale_pcs:\n",
    "    pcs = pcs / pcs.std(axis = 0)"
   ]
  },
  {
   "cell_type": "code",
   "execution_count": 3,
   "metadata": {},
   "outputs": [],
   "source": [
    "pc_df = pd.DataFrame(\n",
    "    data = pcs,\n",
    "    index = gene_id,\n",
    "    columns = [f\"PC_{i}\" for i in range(n_dim)]\n",
    ")\n",
    "pc_df.index.name = \"gene_id\""
   ]
  },
  {
   "cell_type": "code",
   "execution_count": 4,
   "metadata": {},
   "outputs": [
    {
     "data": {
      "text/html": [
       "<div>\n",
       "<style scoped>\n",
       "    .dataframe tbody tr th:only-of-type {\n",
       "        vertical-align: middle;\n",
       "    }\n",
       "\n",
       "    .dataframe tbody tr th {\n",
       "        vertical-align: top;\n",
       "    }\n",
       "\n",
       "    .dataframe thead th {\n",
       "        text-align: right;\n",
       "    }\n",
       "</style>\n",
       "<table border=\"1\" class=\"dataframe\">\n",
       "  <thead>\n",
       "    <tr style=\"text-align: right;\">\n",
       "      <th></th>\n",
       "      <th>PC_0</th>\n",
       "      <th>PC_1</th>\n",
       "      <th>PC_2</th>\n",
       "      <th>PC_3</th>\n",
       "      <th>PC_4</th>\n",
       "      <th>PC_5</th>\n",
       "      <th>PC_6</th>\n",
       "      <th>PC_7</th>\n",
       "    </tr>\n",
       "    <tr>\n",
       "      <th>gene_id</th>\n",
       "      <th></th>\n",
       "      <th></th>\n",
       "      <th></th>\n",
       "      <th></th>\n",
       "      <th></th>\n",
       "      <th></th>\n",
       "      <th></th>\n",
       "      <th></th>\n",
       "    </tr>\n",
       "  </thead>\n",
       "  <tbody>\n",
       "    <tr>\n",
       "      <th>ENSG00000223972</th>\n",
       "      <td>-0.030459</td>\n",
       "      <td>-0.046630</td>\n",
       "      <td>0.050193</td>\n",
       "      <td>-0.003985</td>\n",
       "      <td>-0.005506</td>\n",
       "      <td>-0.002883</td>\n",
       "      <td>-0.010899</td>\n",
       "      <td>-0.031982</td>\n",
       "    </tr>\n",
       "    <tr>\n",
       "      <th>ENSG00000227232</th>\n",
       "      <td>-0.029517</td>\n",
       "      <td>-0.044730</td>\n",
       "      <td>0.046817</td>\n",
       "      <td>-0.004131</td>\n",
       "      <td>-0.006081</td>\n",
       "      <td>-0.002658</td>\n",
       "      <td>-0.014098</td>\n",
       "      <td>-0.026929</td>\n",
       "    </tr>\n",
       "    <tr>\n",
       "      <th>ENSG00000278267</th>\n",
       "      <td>-0.030576</td>\n",
       "      <td>-0.046582</td>\n",
       "      <td>0.050057</td>\n",
       "      <td>-0.003992</td>\n",
       "      <td>-0.005520</td>\n",
       "      <td>-0.002902</td>\n",
       "      <td>-0.010827</td>\n",
       "      <td>-0.031588</td>\n",
       "    </tr>\n",
       "    <tr>\n",
       "      <th>ENSG00000243485</th>\n",
       "      <td>-0.030595</td>\n",
       "      <td>-0.046651</td>\n",
       "      <td>0.050192</td>\n",
       "      <td>-0.003984</td>\n",
       "      <td>-0.005498</td>\n",
       "      <td>-0.002882</td>\n",
       "      <td>-0.010858</td>\n",
       "      <td>-0.031965</td>\n",
       "    </tr>\n",
       "    <tr>\n",
       "      <th>ENSG00000284332</th>\n",
       "      <td>-0.030601</td>\n",
       "      <td>-0.046661</td>\n",
       "      <td>0.050204</td>\n",
       "      <td>-0.003985</td>\n",
       "      <td>-0.005497</td>\n",
       "      <td>-0.002878</td>\n",
       "      <td>-0.010837</td>\n",
       "      <td>-0.031990</td>\n",
       "    </tr>\n",
       "    <tr>\n",
       "      <th>...</th>\n",
       "      <td>...</td>\n",
       "      <td>...</td>\n",
       "      <td>...</td>\n",
       "      <td>...</td>\n",
       "      <td>...</td>\n",
       "      <td>...</td>\n",
       "      <td>...</td>\n",
       "      <td>...</td>\n",
       "    </tr>\n",
       "    <tr>\n",
       "      <th>ENSG00000198695</th>\n",
       "      <td>0.280292</td>\n",
       "      <td>0.859965</td>\n",
       "      <td>-1.055616</td>\n",
       "      <td>-0.056816</td>\n",
       "      <td>-0.162886</td>\n",
       "      <td>-0.065335</td>\n",
       "      <td>-0.766127</td>\n",
       "      <td>-0.500083</td>\n",
       "    </tr>\n",
       "    <tr>\n",
       "      <th>ENSG00000210194</th>\n",
       "      <td>-0.025514</td>\n",
       "      <td>-0.029707</td>\n",
       "      <td>0.024486</td>\n",
       "      <td>-0.004843</td>\n",
       "      <td>0.007334</td>\n",
       "      <td>0.000354</td>\n",
       "      <td>-0.021450</td>\n",
       "      <td>-0.038944</td>\n",
       "    </tr>\n",
       "    <tr>\n",
       "      <th>ENSG00000198727</th>\n",
       "      <td>8.956719</td>\n",
       "      <td>23.137733</td>\n",
       "      <td>-35.978199</td>\n",
       "      <td>-1.745754</td>\n",
       "      <td>-1.488245</td>\n",
       "      <td>-5.099910</td>\n",
       "      <td>-28.850121</td>\n",
       "      <td>-41.730263</td>\n",
       "    </tr>\n",
       "    <tr>\n",
       "      <th>ENSG00000210195</th>\n",
       "      <td>-0.029401</td>\n",
       "      <td>-0.044258</td>\n",
       "      <td>0.046951</td>\n",
       "      <td>-0.003929</td>\n",
       "      <td>-0.006398</td>\n",
       "      <td>-0.001142</td>\n",
       "      <td>-0.015142</td>\n",
       "      <td>-0.026598</td>\n",
       "    </tr>\n",
       "    <tr>\n",
       "      <th>ENSG00000210196</th>\n",
       "      <td>0.074697</td>\n",
       "      <td>0.309648</td>\n",
       "      <td>-0.461478</td>\n",
       "      <td>-0.025373</td>\n",
       "      <td>-0.014628</td>\n",
       "      <td>0.084718</td>\n",
       "      <td>-0.749731</td>\n",
       "      <td>-0.627373</td>\n",
       "    </tr>\n",
       "  </tbody>\n",
       "</table>\n",
       "<p>58870 rows × 8 columns</p>\n",
       "</div>"
      ],
      "text/plain": [
       "                     PC_0       PC_1       PC_2      PC_3      PC_4      PC_5  \\\n",
       "gene_id                                                                         \n",
       "ENSG00000223972 -0.030459  -0.046630   0.050193 -0.003985 -0.005506 -0.002883   \n",
       "ENSG00000227232 -0.029517  -0.044730   0.046817 -0.004131 -0.006081 -0.002658   \n",
       "ENSG00000278267 -0.030576  -0.046582   0.050057 -0.003992 -0.005520 -0.002902   \n",
       "ENSG00000243485 -0.030595  -0.046651   0.050192 -0.003984 -0.005498 -0.002882   \n",
       "ENSG00000284332 -0.030601  -0.046661   0.050204 -0.003985 -0.005497 -0.002878   \n",
       "...                   ...        ...        ...       ...       ...       ...   \n",
       "ENSG00000198695  0.280292   0.859965  -1.055616 -0.056816 -0.162886 -0.065335   \n",
       "ENSG00000210194 -0.025514  -0.029707   0.024486 -0.004843  0.007334  0.000354   \n",
       "ENSG00000198727  8.956719  23.137733 -35.978199 -1.745754 -1.488245 -5.099910   \n",
       "ENSG00000210195 -0.029401  -0.044258   0.046951 -0.003929 -0.006398 -0.001142   \n",
       "ENSG00000210196  0.074697   0.309648  -0.461478 -0.025373 -0.014628  0.084718   \n",
       "\n",
       "                      PC_6       PC_7  \n",
       "gene_id                                \n",
       "ENSG00000223972  -0.010899  -0.031982  \n",
       "ENSG00000227232  -0.014098  -0.026929  \n",
       "ENSG00000278267  -0.010827  -0.031588  \n",
       "ENSG00000243485  -0.010858  -0.031965  \n",
       "ENSG00000284332  -0.010837  -0.031990  \n",
       "...                    ...        ...  \n",
       "ENSG00000198695  -0.766127  -0.500083  \n",
       "ENSG00000210194  -0.021450  -0.038944  \n",
       "ENSG00000198727 -28.850121 -41.730263  \n",
       "ENSG00000210195  -0.015142  -0.026598  \n",
       "ENSG00000210196  -0.749731  -0.627373  \n",
       "\n",
       "[58870 rows x 8 columns]"
      ]
     },
     "execution_count": 4,
     "metadata": {},
     "output_type": "execute_result"
    }
   ],
   "source": [
    "pc_df"
   ]
  },
  {
   "cell_type": "code",
   "execution_count": 6,
   "metadata": {},
   "outputs": [],
   "source": [
    "pc_df.to_csv(f\"TS_Compressed_d{n_dim}_{varaince_ratio}Variance.tsv\", sep=\"\\t\")"
   ]
  },
  {
   "cell_type": "markdown",
   "metadata": {},
   "source": [
    "#### for the uncompressed data"
   ]
  },
  {
   "cell_type": "code",
   "execution_count": 7,
   "metadata": {},
   "outputs": [
    {
     "data": {
      "text/plain": [
       "'\\ndata_path = \"TabulaSapiens.h5ad\"\\nts_adata = sc.read_h5ad(data_path)\\ngene_id = ts_adata.var.ensemblid.to_list()\\ngene_id = [i.split(\".\")[0] for i in gene_id]\\nds = ts_adata.layers[\"decontXcounts\"].toarray().T\\n\\nds = ds / ds.std()\\n\\npca = PCA()\\npca.fit(ds)\\n\\nvaraince_ratio = 0.8\\nn_dim = 0\\nratio = 0\\nwhile ratio < varaince_ratio:\\n    ratio += pca.explained_variance_ratio_[n_dim]\\n    n_dim += 1\\n\\nscale_pcs = True\\npcs = pca.transform(ds)[:, 0:n_dim]\\nif scale_pcs:\\n    pcs = pcs / pcs.std(axis = 0)\\n'"
      ]
     },
     "execution_count": 7,
     "metadata": {},
     "output_type": "execute_result"
    }
   ],
   "source": [
    "\"\"\"\n",
    "data_path = \"TabulaSapiens.h5ad\"\n",
    "ts_adata = sc.read_h5ad(data_path)\n",
    "gene_id = ts_adata.var.ensemblid.to_list()\n",
    "gene_id = [i.split(\".\")[0] for i in gene_id]\n",
    "ds = ts_adata.layers[\"decontXcounts\"].toarray().T\n",
    "\n",
    "ds = ds / ds.std()\n",
    "\n",
    "pca = PCA()\n",
    "pca.fit(ds)\n",
    "\n",
    "varaince_ratio = 0.8\n",
    "n_dim = 0\n",
    "ratio = 0\n",
    "while ratio < varaince_ratio:\n",
    "    ratio += pca.explained_variance_ratio_[n_dim]\n",
    "    n_dim += 1\n",
    "\n",
    "scale_pcs = True\n",
    "pcs = pca.transform(ds)[:, 0:n_dim]\n",
    "if scale_pcs:\n",
    "    pcs = pcs / pcs.std(axis = 0)\n",
    "\"\"\""
   ]
  },
  {
   "cell_type": "code",
   "execution_count": 8,
   "metadata": {},
   "outputs": [
    {
     "data": {
      "text/plain": [
       "'\\npc_df = pd.DataFrame(\\n    data = pcs,\\n    index = gene_id,\\n    columns = [f\"PC_{i}\" for i in range(n_dim)]\\n)\\npc_df.index.name = \"gene_id\"\\n'"
      ]
     },
     "execution_count": 8,
     "metadata": {},
     "output_type": "execute_result"
    }
   ],
   "source": [
    "\"\"\"\n",
    "pc_df = pd.DataFrame(\n",
    "    data = pcs,\n",
    "    index = gene_id,\n",
    "    columns = [f\"PC_{i}\" for i in range(n_dim)]\n",
    ")\n",
    "pc_df.index.name = \"gene_id\"\n",
    "\"\"\""
   ]
  },
  {
   "cell_type": "code",
   "execution_count": 9,
   "metadata": {},
   "outputs": [],
   "source": [
    "#pc_df.to_csv(f\"TS_uncompressed_d{n_dim}_{varaince_ratio}Variance.tsv\", sep=\"\\t\")\n"
   ]
  },
  {
   "cell_type": "code",
   "execution_count": null,
   "metadata": {},
   "outputs": [],
   "source": []
  },
  {
   "cell_type": "code",
   "execution_count": null,
   "metadata": {},
   "outputs": [],
   "source": []
  },
  {
   "cell_type": "code",
   "execution_count": null,
   "metadata": {},
   "outputs": [],
   "source": []
  },
  {
   "cell_type": "code",
   "execution_count": null,
   "metadata": {},
   "outputs": [],
   "source": []
  }
 ],
 "metadata": {
  "kernelspec": {
   "display_name": "sheet5",
   "language": "python",
   "name": "python3"
  },
  "language_info": {
   "codemirror_mode": {
    "name": "ipython",
    "version": 3
   },
   "file_extension": ".py",
   "mimetype": "text/x-python",
   "name": "python",
   "nbconvert_exporter": "python",
   "pygments_lexer": "ipython3",
   "version": "3.9.15"
  }
 },
 "nbformat": 4,
 "nbformat_minor": 2
}

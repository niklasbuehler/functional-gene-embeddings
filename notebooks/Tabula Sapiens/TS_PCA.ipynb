{
 "cells": [
  {
   "cell_type": "markdown",
   "metadata": {},
   "source": [
    "# PCs of normalized & non-normalized pseudobulk TS Data"
   ]
  },
  {
   "cell_type": "markdown",
   "metadata": {},
   "source": [
    "### Computing PCs"
   ]
  },
  {
   "cell_type": "markdown",
   "metadata": {},
   "source": [
    "#### for the compressed data"
   ]
  },
  {
   "cell_type": "code",
   "execution_count": 63,
   "metadata": {},
   "outputs": [],
   "source": [
    "import scanpy as sc\n",
    "import numpy as np\n",
    "import pandas as pd\n",
    "from sklearn.decomposition import PCA"
   ]
  },
  {
   "cell_type": "code",
   "execution_count": 64,
   "metadata": {},
   "outputs": [],
   "source": [
    "data_path = \"TabulaSapiens_pseudobulk.h5ad\"\n",
    "ts_adata = sc.read_h5ad(data_path)\n",
    "gene_id = ts_adata.var.ensemblid.to_list()\n",
    "gene_id = [i.split(\".\")[0] for i in gene_id]"
   ]
  },
  {
   "cell_type": "code",
   "execution_count": 65,
   "metadata": {},
   "outputs": [],
   "source": [
    "gene_id_used = pd.read_csv(\"gene_index.csv\")"
   ]
  },
  {
   "cell_type": "code",
   "execution_count": 66,
   "metadata": {},
   "outputs": [],
   "source": [
    "ts_adata.var.ensemblid = gene_id"
   ]
  },
  {
   "cell_type": "code",
   "execution_count": 67,
   "metadata": {},
   "outputs": [],
   "source": [
    "ts_adata = ts_adata[:,ts_adata.var['ensemblid'].isin(gene_id_used.gene_id.to_list())]"
   ]
  },
  {
   "cell_type": "code",
   "execution_count": 68,
   "metadata": {},
   "outputs": [],
   "source": [
    "gene_id = ts_adata.var.ensemblid.to_list()"
   ]
  },
  {
   "cell_type": "code",
   "execution_count": 69,
   "metadata": {},
   "outputs": [
    {
     "name": "stdout",
     "output_type": "stream",
     "text": [
      "239171.52\n"
     ]
    }
   ],
   "source": [
    "ds = ts_adata.X.T\n",
    "print(ds.std())\n",
    "ds = ds / ds.std()\n",
    "\n",
    "pca = PCA()\n",
    "pca.fit(ds)\n",
    "\n",
    "varaince_ratio = 0.8\n",
    "n_dim = 0\n",
    "ratio = 0\n",
    "while ratio < varaince_ratio:\n",
    "    ratio += pca.explained_variance_ratio_[n_dim]\n",
    "    n_dim += 1\n",
    "\n",
    "scale_pcs = True\n",
    "pcs = pca.transform(ds)[:, 0:n_dim]\n",
    "if scale_pcs:\n",
    "    pcs = pcs / pcs.std(axis = 0)"
   ]
  },
  {
   "cell_type": "code",
   "execution_count": 70,
   "metadata": {},
   "outputs": [
    {
     "data": {
      "text/plain": [
       "array([3.48950654e-01, 1.70526609e-01, 1.49578601e-01, 1.15988411e-01,\n",
       "       9.20247585e-02, 4.15456817e-02, 2.35386919e-02, 1.99283827e-02,\n",
       "       1.00092776e-02, 7.01796357e-03, 3.50113912e-03, 2.50464794e-03,\n",
       "       2.38366215e-03, 1.71907782e-03, 1.45992462e-03, 1.34967954e-03,\n",
       "       8.96127371e-04, 7.89867830e-04, 6.92730944e-04, 5.95389633e-04,\n",
       "       5.30114747e-04, 5.09267556e-04, 4.56899899e-04, 3.86001630e-04,\n",
       "       3.32055177e-04, 2.69321667e-04, 2.45060713e-04, 1.99476533e-04,\n",
       "       1.75702779e-04, 1.71062944e-04, 1.62647397e-04, 1.57392031e-04,\n",
       "       1.43881218e-04, 1.21865356e-04, 1.13768241e-04, 9.07294816e-05,\n",
       "       7.77965470e-05, 6.62549428e-05, 5.96780446e-05, 5.62782297e-05,\n",
       "       5.18125926e-05, 4.99415328e-05, 4.54444998e-05, 4.42932578e-05,\n",
       "       3.90769128e-05, 3.84694358e-05, 3.43592219e-05, 3.32315431e-05,\n",
       "       3.06533620e-05, 2.51787242e-05, 2.38170069e-05, 1.87285550e-05,\n",
       "       1.74229208e-05, 1.53102519e-05, 1.32171290e-05, 1.25912156e-05,\n",
       "       1.25012830e-05, 1.16508563e-05, 1.13301548e-05, 1.01848882e-05,\n",
       "       1.01452679e-05, 9.52166374e-06, 8.28678367e-06, 7.56547161e-06,\n",
       "       6.93384663e-06, 6.34765684e-06, 6.14226155e-06, 5.45627790e-06,\n",
       "       5.07851746e-06, 4.82213318e-06, 4.67608334e-06, 4.14942042e-06,\n",
       "       3.91666299e-06, 3.78412051e-06, 3.68086899e-06, 3.28760188e-06,\n",
       "       3.12528528e-06, 2.89528361e-06, 2.65314407e-06, 2.51475740e-06,\n",
       "       2.38359826e-06, 2.15790715e-06, 1.97171198e-06, 1.83544682e-06,\n",
       "       1.76903723e-06, 1.64349433e-06, 1.60504680e-06, 1.41066960e-06,\n",
       "       1.31708316e-06, 1.27590044e-06, 1.14846887e-06, 1.06650771e-06,\n",
       "       9.09440018e-07, 8.22660184e-07, 6.93544337e-07, 6.80593189e-07,\n",
       "       6.55943609e-07, 5.02248611e-07, 4.83893587e-07, 4.35650179e-07,\n",
       "       4.17750897e-07, 3.36970089e-07, 3.12946753e-07, 3.03679172e-07,\n",
       "       2.54758106e-07, 2.45496608e-07, 2.31975946e-07, 2.28910835e-07,\n",
       "       1.94320521e-07, 1.85971757e-07, 1.78438398e-07, 1.63788471e-07,\n",
       "       1.58401136e-07, 1.42821719e-07, 1.26535298e-07, 1.20014633e-07,\n",
       "       9.83206974e-08, 8.75493100e-08, 8.65927845e-08, 7.20252800e-08,\n",
       "       6.19195646e-08, 5.85052504e-08, 4.96811481e-08, 4.44985169e-08,\n",
       "       4.20797370e-08, 3.11949968e-08, 2.49517811e-08, 2.28810162e-08,\n",
       "       2.16990248e-08, 1.96291516e-08, 1.79951414e-08, 1.63640479e-08,\n",
       "       1.50593067e-08, 1.19193260e-08, 1.14949099e-08, 1.13089005e-08,\n",
       "       8.97989061e-09, 8.86713902e-09, 7.40610906e-09, 7.31778149e-09,\n",
       "       6.99822289e-09, 4.78231099e-09, 4.69585082e-09, 4.26059543e-09,\n",
       "       3.83558119e-09, 3.63147890e-09, 3.33097905e-09, 2.76454060e-09,\n",
       "       2.60915334e-09, 2.43215070e-09, 2.21941843e-09, 1.88028748e-09,\n",
       "       1.71594094e-09, 1.46621759e-09, 1.12701337e-09, 8.87697638e-10,\n",
       "       7.45205564e-10, 7.21544491e-10, 5.91316551e-10, 5.08409259e-10,\n",
       "       2.28351837e-10, 1.95643265e-10, 1.46534854e-10, 1.31193986e-10,\n",
       "       1.04962317e-10, 7.15917603e-11, 5.42847677e-11, 4.41232328e-11,\n",
       "       3.89157734e-11, 2.13461106e-11, 1.96474885e-11, 1.15732883e-11,\n",
       "       7.56191550e-12, 5.31425251e-12, 3.25855553e-12, 2.62272387e-12,\n",
       "       1.35060355e-12], dtype=float32)"
      ]
     },
     "execution_count": 70,
     "metadata": {},
     "output_type": "execute_result"
    }
   ],
   "source": [
    "pca.explained_variance_ratio_"
   ]
  },
  {
   "cell_type": "code",
   "execution_count": 71,
   "metadata": {},
   "outputs": [],
   "source": [
    "pc_df = pd.DataFrame(\n",
    "    data = pcs,\n",
    "    index = gene_id,\n",
    "    columns = [f\"PC_{i}\" for i in range(n_dim)]\n",
    ")\n",
    "pc_df.index.name = \"gene_id\""
   ]
  },
  {
   "cell_type": "code",
   "execution_count": 72,
   "metadata": {},
   "outputs": [
    {
     "data": {
      "text/html": [
       "<div>\n",
       "<style scoped>\n",
       "    .dataframe tbody tr th:only-of-type {\n",
       "        vertical-align: middle;\n",
       "    }\n",
       "\n",
       "    .dataframe tbody tr th {\n",
       "        vertical-align: top;\n",
       "    }\n",
       "\n",
       "    .dataframe thead th {\n",
       "        text-align: right;\n",
       "    }\n",
       "</style>\n",
       "<table border=\"1\" class=\"dataframe\">\n",
       "  <thead>\n",
       "    <tr style=\"text-align: right;\">\n",
       "      <th></th>\n",
       "      <th>PC_0</th>\n",
       "      <th>PC_1</th>\n",
       "      <th>PC_2</th>\n",
       "      <th>PC_3</th>\n",
       "      <th>PC_4</th>\n",
       "    </tr>\n",
       "    <tr>\n",
       "      <th>gene_id</th>\n",
       "      <th></th>\n",
       "      <th></th>\n",
       "      <th></th>\n",
       "      <th></th>\n",
       "      <th></th>\n",
       "    </tr>\n",
       "  </thead>\n",
       "  <tbody>\n",
       "    <tr>\n",
       "      <th>ENSG00000186092</th>\n",
       "      <td>-0.036084</td>\n",
       "      <td>-0.013993</td>\n",
       "      <td>-0.066648</td>\n",
       "      <td>-0.136982</td>\n",
       "      <td>0.049808</td>\n",
       "    </tr>\n",
       "    <tr>\n",
       "      <th>ENSG00000284733</th>\n",
       "      <td>-0.036084</td>\n",
       "      <td>-0.013993</td>\n",
       "      <td>-0.066649</td>\n",
       "      <td>-0.136987</td>\n",
       "      <td>0.049811</td>\n",
       "    </tr>\n",
       "    <tr>\n",
       "      <th>ENSG00000284662</th>\n",
       "      <td>-0.036084</td>\n",
       "      <td>-0.013993</td>\n",
       "      <td>-0.066649</td>\n",
       "      <td>-0.136987</td>\n",
       "      <td>0.049811</td>\n",
       "    </tr>\n",
       "    <tr>\n",
       "      <th>ENSG00000187634</th>\n",
       "      <td>-0.035707</td>\n",
       "      <td>-0.013943</td>\n",
       "      <td>-0.065661</td>\n",
       "      <td>-0.132524</td>\n",
       "      <td>0.046678</td>\n",
       "    </tr>\n",
       "    <tr>\n",
       "      <th>ENSG00000188976</th>\n",
       "      <td>-0.010399</td>\n",
       "      <td>-0.012931</td>\n",
       "      <td>-0.050670</td>\n",
       "      <td>-0.079080</td>\n",
       "      <td>0.024772</td>\n",
       "    </tr>\n",
       "    <tr>\n",
       "      <th>...</th>\n",
       "      <td>...</td>\n",
       "      <td>...</td>\n",
       "      <td>...</td>\n",
       "      <td>...</td>\n",
       "      <td>...</td>\n",
       "    </tr>\n",
       "    <tr>\n",
       "      <th>ENSG00000212907</th>\n",
       "      <td>0.115951</td>\n",
       "      <td>0.023983</td>\n",
       "      <td>0.904277</td>\n",
       "      <td>2.195232</td>\n",
       "      <td>-1.041602</td>\n",
       "    </tr>\n",
       "    <tr>\n",
       "      <th>ENSG00000198886</th>\n",
       "      <td>1.199168</td>\n",
       "      <td>0.236864</td>\n",
       "      <td>5.977500</td>\n",
       "      <td>14.034909</td>\n",
       "      <td>-6.839797</td>\n",
       "    </tr>\n",
       "    <tr>\n",
       "      <th>ENSG00000198786</th>\n",
       "      <td>0.581092</td>\n",
       "      <td>0.096015</td>\n",
       "      <td>1.659438</td>\n",
       "      <td>5.905251</td>\n",
       "      <td>-2.968685</td>\n",
       "    </tr>\n",
       "    <tr>\n",
       "      <th>ENSG00000198695</th>\n",
       "      <td>0.035644</td>\n",
       "      <td>0.003394</td>\n",
       "      <td>0.269675</td>\n",
       "      <td>0.924570</td>\n",
       "      <td>-0.390944</td>\n",
       "    </tr>\n",
       "    <tr>\n",
       "      <th>ENSG00000198727</th>\n",
       "      <td>2.151710</td>\n",
       "      <td>0.452569</td>\n",
       "      <td>11.538728</td>\n",
       "      <td>29.556719</td>\n",
       "      <td>-13.928337</td>\n",
       "    </tr>\n",
       "  </tbody>\n",
       "</table>\n",
       "<p>19164 rows × 5 columns</p>\n",
       "</div>"
      ],
      "text/plain": [
       "                     PC_0      PC_1       PC_2       PC_3       PC_4\n",
       "gene_id                                                             \n",
       "ENSG00000186092 -0.036084 -0.013993  -0.066648  -0.136982   0.049808\n",
       "ENSG00000284733 -0.036084 -0.013993  -0.066649  -0.136987   0.049811\n",
       "ENSG00000284662 -0.036084 -0.013993  -0.066649  -0.136987   0.049811\n",
       "ENSG00000187634 -0.035707 -0.013943  -0.065661  -0.132524   0.046678\n",
       "ENSG00000188976 -0.010399 -0.012931  -0.050670  -0.079080   0.024772\n",
       "...                   ...       ...        ...        ...        ...\n",
       "ENSG00000212907  0.115951  0.023983   0.904277   2.195232  -1.041602\n",
       "ENSG00000198886  1.199168  0.236864   5.977500  14.034909  -6.839797\n",
       "ENSG00000198786  0.581092  0.096015   1.659438   5.905251  -2.968685\n",
       "ENSG00000198695  0.035644  0.003394   0.269675   0.924570  -0.390944\n",
       "ENSG00000198727  2.151710  0.452569  11.538728  29.556719 -13.928337\n",
       "\n",
       "[19164 rows x 5 columns]"
      ]
     },
     "execution_count": 72,
     "metadata": {},
     "output_type": "execute_result"
    }
   ],
   "source": [
    "pc_df"
   ]
  },
  {
   "cell_type": "code",
   "execution_count": 73,
   "metadata": {},
   "outputs": [],
   "source": [
    "pc_df.to_csv(f\"TS_pb_d{n_dim}_{varaince_ratio}Variance.tsv\", sep=\"\\t\")"
   ]
  },
  {
   "cell_type": "markdown",
   "metadata": {},
   "source": [
    "#### for the uncompressed data"
   ]
  },
  {
   "cell_type": "code",
   "execution_count": 74,
   "metadata": {},
   "outputs": [
    {
     "data": {
      "text/plain": [
       "'\\ndata_path = \"TabulaSapiens.h5ad\"\\nts_adata = sc.read_h5ad(data_path)\\ngene_id = ts_adata.var.ensemblid.to_list()\\ngene_id = [i.split(\".\")[0] for i in gene_id]\\nds = ts_adata.layers[\"decontXcounts\"].toarray().T\\n\\nds = ds / ds.std()\\n\\npca = PCA()\\npca.fit(ds)\\n\\nvaraince_ratio = 0.8\\nn_dim = 0\\nratio = 0\\nwhile ratio < varaince_ratio:\\n    ratio += pca.explained_variance_ratio_[n_dim]\\n    n_dim += 1\\n\\nscale_pcs = True\\npcs = pca.transform(ds)[:, 0:n_dim]\\nif scale_pcs:\\n    pcs = pcs / pcs.std(axis = 0)\\n'"
      ]
     },
     "execution_count": 74,
     "metadata": {},
     "output_type": "execute_result"
    }
   ],
   "source": [
    "\"\"\"\n",
    "data_path = \"TabulaSapiens.h5ad\"\n",
    "ts_adata = sc.read_h5ad(data_path)\n",
    "gene_id = ts_adata.var.ensemblid.to_list()\n",
    "gene_id = [i.split(\".\")[0] for i in gene_id]\n",
    "ds = ts_adata.layers[\"decontXcounts\"].toarray().T\n",
    "\n",
    "ds = ds / ds.std()\n",
    "\n",
    "pca = PCA()\n",
    "pca.fit(ds)\n",
    "\n",
    "varaince_ratio = 0.8\n",
    "n_dim = 0\n",
    "ratio = 0\n",
    "while ratio < varaince_ratio:\n",
    "    ratio += pca.explained_variance_ratio_[n_dim]\n",
    "    n_dim += 1\n",
    "\n",
    "scale_pcs = True\n",
    "pcs = pca.transform(ds)[:, 0:n_dim]\n",
    "if scale_pcs:\n",
    "    pcs = pcs / pcs.std(axis = 0)\n",
    "\"\"\""
   ]
  },
  {
   "cell_type": "code",
   "execution_count": 75,
   "metadata": {},
   "outputs": [
    {
     "data": {
      "text/plain": [
       "'\\npc_df = pd.DataFrame(\\n    data = pcs,\\n    index = gene_id,\\n    columns = [f\"PC_{i}\" for i in range(n_dim)]\\n)\\npc_df.index.name = \"gene_id\"\\n'"
      ]
     },
     "execution_count": 75,
     "metadata": {},
     "output_type": "execute_result"
    }
   ],
   "source": [
    "\"\"\"\n",
    "pc_df = pd.DataFrame(\n",
    "    data = pcs,\n",
    "    index = gene_id,\n",
    "    columns = [f\"PC_{i}\" for i in range(n_dim)]\n",
    ")\n",
    "pc_df.index.name = \"gene_id\"\n",
    "\"\"\""
   ]
  },
  {
   "cell_type": "code",
   "execution_count": 76,
   "metadata": {},
   "outputs": [],
   "source": [
    "#pc_df.to_csv(f\"TS_uncompressed_d{n_dim}_{varaince_ratio}Variance.tsv\", sep=\"\\t\")\n"
   ]
  },
  {
   "cell_type": "code",
   "execution_count": null,
   "metadata": {},
   "outputs": [],
   "source": []
  },
  {
   "cell_type": "code",
   "execution_count": null,
   "metadata": {},
   "outputs": [],
   "source": []
  },
  {
   "cell_type": "code",
   "execution_count": null,
   "metadata": {},
   "outputs": [],
   "source": []
  },
  {
   "cell_type": "code",
   "execution_count": null,
   "metadata": {},
   "outputs": [],
   "source": []
  }
 ],
 "metadata": {
  "kernelspec": {
   "display_name": "sheet5",
   "language": "python",
   "name": "python3"
  },
  "language_info": {
   "codemirror_mode": {
    "name": "ipython",
    "version": 3
   },
   "file_extension": ".py",
   "mimetype": "text/x-python",
   "name": "python",
   "nbconvert_exporter": "python",
   "pygments_lexer": "ipython3",
   "version": "3.9.15"
  }
 },
 "nbformat": 4,
 "nbformat_minor": 2
}

{
 "cells": [
  {
   "cell_type": "markdown",
   "id": "79efbe53-49b2-4bfe-a657-09fb66a2ed6f",
   "metadata": {
    "id": "79efbe53-49b2-4bfe-a657-09fb66a2ed6f"
   },
   "source": [
    "# Simple autoencoder for Tabula Sapiens dataset only\n",
    "Apapted from the sample code provided along with the paper\n",
    "\n",
    "Use mse loss\n",
    "\n",
    "With Weights and Bias watch\n"
   ]
  },
  {
   "cell_type": "code",
   "execution_count": 1,
   "id": "d22a072d-c036-4c65-8699-519e25169a1f",
   "metadata": {
    "ExecuteTime": {
     "end_time": "2024-01-09T15:41:58.464044695Z",
     "start_time": "2024-01-09T15:41:42.853323704Z"
    }
   },
   "outputs": [
    {
     "name": "stderr",
     "output_type": "stream",
     "text": [
      "/home/niklas/Documents/TUM/5-WS2324/SysGen/Project/repo/notebooks/venv/lib/python3.11/site-packages/scvi/_settings.py:63: UserWarning: Since v1.0.0, scvi-tools no longer uses a random seed by default. Run `scvi.settings.seed = 0` to reproduce results from previous versions.\n",
      "/home/niklas/Documents/TUM/5-WS2324/SysGen/Project/repo/notebooks/venv/lib/python3.11/site-packages/scvi/_settings.py:70: UserWarning: Setting `dl_pin_memory_gpu_training` is deprecated in v1.0 and will be removed in v1.1. Please pass in `pin_memory` to the data loaders instead.\n"
     ]
    },
    {
     "data": {
      "text/plain": [
       "True"
      ]
     },
     "execution_count": 1,
     "metadata": {},
     "output_type": "execute_result"
    }
   ],
   "source": [
    "import wandb\n",
    "wandb.login()"
   ]
  },
  {
   "cell_type": "code",
   "execution_count": 2,
   "id": "d22a072d-c036-4c65-8699-519e25169a1f",
   "metadata": {
    "id": "d22a072d-c036-4c65-8699-519e25169a1f"
   },
   "outputs": [],
   "source": [
    "import torch\n",
    "import matplotlib.pyplot as plt\n",
    "from plotnine import *\n",
    "from sklearn.metrics import r2_score\n",
    "import torch.nn as nn\n",
    "import numpy as np\n",
    "import pandas as pd\n",
    "import scanpy as sc\n",
    "from torch.distributions.beta import Beta\n",
    "from torch.distributions.normal import Normal\n",
    "from torch.distributions.kl import kl_divergence\n",
    "\n",
    "from dataset import TS_Compressed_Dataset"
   ]
  },
  {
   "cell_type": "code",
   "execution_count": 3,
   "id": "9P6i0WzvkXvR",
   "metadata": {
    "id": "9P6i0WzvkXvR"
   },
   "outputs": [],
   "source": [
    "config = dict(\n",
    "    EPOCHS = 20,\n",
    "    BATCH_SIZE = 1e3,\n",
    "    LEARNING_RATE = 1e-3,\n",
    "    NUM_LAYERS = 4,\n",
    ")"
   ]
  },
  {
   "cell_type": "code",
   "execution_count": 4,
   "id": "0fb8fed3-c2b4-4d4f-a0af-5840e4641998",
   "metadata": {
    "ExecuteTime": {
     "end_time": "2024-01-09T15:42:05.478098011Z",
     "start_time": "2024-01-09T15:41:58.467539114Z"
    }
   },
   "outputs": [],
   "source": [
    "#load the dataframe that contains one to one corresponding of gene id and gene index\n",
    "gene_index = pd.read_csv(\"gene_index.csv\")\n",
    "path = \"TabulaSapiens_CO_compressed.h5ad\"\n",
    "\n",
    "dataset = TS_Compressed_Dataset(gene_index, path)"
   ]
  },
  {
   "cell_type": "code",
   "execution_count": 4,
   "id": "28380d2c-3d06-4143-b6e9-7fb4df011af9",
   "metadata": {
    "ExecuteTime": {
     "end_time": "2024-01-09T15:42:12.848998360Z",
     "start_time": "2024-01-09T15:42:12.780823288Z"
    }
   },
   "outputs": [],
   "source": [
    "device = torch.device(\"cpu\")\n",
    "\n",
    "gene_list = gene_index.gene_id.to_list()\n",
    "n_genes = len(gene_list)  #the number of total genes \n",
    "emb_dim = 128  #the gene embedding dimension\n",
    "\n",
    "NUM_LAYERS = 4  #the number decoder layers\n",
    "\n",
    "assay_prior_log_sigma = float(0)\n",
    "\n",
    "LEARNING_RATE = 0.001\n",
    "\n",
    "EPOCHS = 9\n",
    "BATCH_SIZE = int(1e5)"
   ]
  },
  {
   "cell_type": "code",
   "execution_count": 5,
   "id": "4a4801da-6987-4f0a-8145-d93050dbaa02",
   "metadata": {
    "ExecuteTime": {
     "end_time": "2024-01-09T15:42:14.729011735Z",
     "start_time": "2024-01-09T15:42:14.695383709Z"
    }
   },
   "outputs": [],
   "source": [
    "class GeneEmbedding(torch.nn.Module):\n",
    "    def __init__(self, n_genes, emb_dim, gene_list, emb_init=None):\n",
    "        super(GeneEmbedding, self).__init__()\n",
    "\n",
    "        self.n_genes = n_genes\n",
    "        self.emb_dim = emb_dim\n",
    "        self.genes = gene_list\n",
    "\n",
    "        \"\"\"\n",
    "        model the gene embedding as gaussian distributions computed from the mean embeddings and sd embeddings\n",
    "        \"\"\"\n",
    "        if emb_init is not None:\n",
    "            self.emb_mu = nn.Embedding.from_pretrained(emb_init, freeze=False)\n",
    "        else:\n",
    "            # init as [0, 1], as the dirichlet prior is in [0, 1]\n",
    "            self.emb_mu = nn.Embedding.from_pretrained(\n",
    "                torch.rand((n_genes, emb_dim)), freeze=False\n",
    "            )\n",
    "\n",
    "        self.emb_log_sigma = nn.Embedding.from_pretrained(\n",
    "            torch.full((n_genes, emb_dim), np.log(0.5)), freeze=False\n",
    "        )\n",
    "\n",
    "    def get_emb_table(self):\n",
    "        emb_df = pd.DataFrame(self.emb_mu.weight.detach().cpu(),\n",
    "                              index=self.genes,\n",
    "                              columns=[f'FACT_EMB_{i}' for i in range(self.emb_dim)]\n",
    "                              )\n",
    "        emb_df.index.name = 'gene_id'\n",
    "        return emb_df\n",
    "\n",
    "    def get_log_sigma_table(self):\n",
    "        emb_df = pd.DataFrame(self.emb_log_sigma.weight.detach().cpu(),\n",
    "                              index=self.genes,\n",
    "                              columns=[f'FACT_EMB_{i}' for i in range(self.emb_dim)]\n",
    "                              )\n",
    "        emb_df.index.name = 'gene_id'\n",
    "        return emb_df\n",
    "\n",
    "    def get_shape(self):\n",
    "        return (self.n_genes, self.emb_dim)\n",
    "\n"
   ]
  },
  {
   "cell_type": "code",
   "execution_count": 6,
   "id": "1c6ac161-b1ff-441d-9094-a6f85f5c5072",
   "metadata": {
    "ExecuteTime": {
     "end_time": "2024-01-09T15:42:15.817747541Z",
     "start_time": "2024-01-09T15:42:15.658406581Z"
    }
   },
   "outputs": [],
   "source": [
    "#initialize the gene embedding\n",
    "gene_emb = GeneEmbedding(n_genes,\n",
    "                         emb_dim,\n",
    "                         gene_list,\n",
    "                         emb_init=torch.rand(n_genes, emb_dim) - 0.5,\n",
    "                         )"
   ]
  },
  {
   "cell_type": "code",
   "execution_count": 7,
   "id": "81095ed0-5216-4f4d-86d5-3c9b4445a483",
   "metadata": {
    "ExecuteTime": {
     "end_time": "2024-01-09T15:42:16.591968359Z",
     "start_time": "2024-01-09T15:42:16.426513096Z"
    }
   },
   "outputs": [
    {
     "data": {
      "text/plain": "                 FACT_EMB_0  FACT_EMB_1  FACT_EMB_2  FACT_EMB_3  FACT_EMB_4  \\\ngene_id                                                                       \nENSG00000121410    0.106010   -0.461595    0.052587    0.373025    0.144046   \nENSG00000148584   -0.290709    0.391785   -0.395638   -0.353576   -0.307094   \nENSG00000175899    0.242142   -0.449453    0.157252    0.106424    0.398344   \nENSG00000166535    0.090354   -0.116053   -0.194001   -0.311927   -0.085125   \nENSG00000184389   -0.396374    0.194550    0.477474   -0.388095    0.313079   \n...                     ...         ...         ...         ...         ...   \nENSG00000203995   -0.478342   -0.383682    0.456813    0.457497   -0.185068   \nENSG00000162378    0.081361   -0.076860    0.153846    0.348684    0.393668   \nENSG00000159840    0.076599    0.064329    0.413553    0.155864    0.484874   \nENSG00000074755   -0.029876   -0.359866    0.294530    0.343260   -0.185905   \nENSG00000036549    0.116052   -0.446248    0.384214    0.133849    0.423679   \n\n                 FACT_EMB_5  FACT_EMB_6  FACT_EMB_7  FACT_EMB_8  FACT_EMB_9  \\\ngene_id                                                                       \nENSG00000121410    0.180251    0.340764    0.185999    0.409812   -0.156807   \nENSG00000148584   -0.465218   -0.344927    0.091459   -0.374749    0.199789   \nENSG00000175899   -0.070693    0.465176   -0.439344   -0.015031   -0.157172   \nENSG00000166535    0.097920    0.256587    0.275354    0.382139   -0.126973   \nENSG00000184389   -0.118485   -0.248787    0.346253    0.084341   -0.160892   \n...                     ...         ...         ...         ...         ...   \nENSG00000203995    0.288327   -0.398313    0.276065   -0.458201   -0.036350   \nENSG00000162378   -0.174394   -0.101181   -0.228229    0.271773   -0.046598   \nENSG00000159840    0.292472    0.199863   -0.144120   -0.085168    0.036192   \nENSG00000074755    0.433327   -0.423575    0.315339   -0.200880    0.441477   \nENSG00000036549   -0.223777    0.222229   -0.339136   -0.414088    0.118591   \n\n                 ...  FACT_EMB_118  FACT_EMB_119  FACT_EMB_120  FACT_EMB_121  \\\ngene_id          ...                                                           \nENSG00000121410  ...     -0.460837     -0.066769      0.137612      0.458751   \nENSG00000148584  ...     -0.073596      0.256913     -0.366361     -0.250737   \nENSG00000175899  ...      0.433542     -0.142104     -0.297896     -0.267788   \nENSG00000166535  ...     -0.177966      0.409191     -0.289672      0.060570   \nENSG00000184389  ...     -0.196248     -0.049565     -0.217718      0.309336   \n...              ...           ...           ...           ...           ...   \nENSG00000203995  ...     -0.176912      0.465491     -0.237820     -0.097224   \nENSG00000162378  ...     -0.208113      0.305136     -0.084824      0.215689   \nENSG00000159840  ...     -0.280488      0.295061      0.253246     -0.173650   \nENSG00000074755  ...      0.111797      0.332555     -0.149170      0.300633   \nENSG00000036549  ...      0.305643      0.157031      0.257650      0.054735   \n\n                 FACT_EMB_122  FACT_EMB_123  FACT_EMB_124  FACT_EMB_125  \\\ngene_id                                                                   \nENSG00000121410      0.236506      0.365504     -0.214861      0.176975   \nENSG00000148584     -0.223580     -0.352380     -0.394107      0.092721   \nENSG00000175899     -0.014850     -0.320458      0.419811      0.086315   \nENSG00000166535     -0.248142     -0.117346      0.493707      0.172840   \nENSG00000184389      0.037185      0.039028      0.220830      0.457047   \n...                       ...           ...           ...           ...   \nENSG00000203995     -0.425809      0.100537      0.271502      0.135968   \nENSG00000162378      0.218954      0.076550      0.096553      0.118520   \nENSG00000159840      0.483735     -0.300305      0.296135      0.416069   \nENSG00000074755     -0.256701      0.325356      0.100851      0.131078   \nENSG00000036549     -0.113714      0.054061     -0.287956     -0.117313   \n\n                 FACT_EMB_126  FACT_EMB_127  \ngene_id                                      \nENSG00000121410     -0.072642      0.401280  \nENSG00000148584     -0.399471      0.289553  \nENSG00000175899     -0.131879      0.190226  \nENSG00000166535     -0.390717      0.238202  \nENSG00000184389      0.209597      0.192745  \n...                       ...           ...  \nENSG00000203995     -0.042828     -0.195250  \nENSG00000162378      0.369082     -0.163983  \nENSG00000159840     -0.005561     -0.054826  \nENSG00000074755     -0.308742     -0.337624  \nENSG00000036549      0.385484      0.192072  \n\n[19693 rows x 128 columns]",
      "text/html": "<div>\n<style scoped>\n    .dataframe tbody tr th:only-of-type {\n        vertical-align: middle;\n    }\n\n    .dataframe tbody tr th {\n        vertical-align: top;\n    }\n\n    .dataframe thead th {\n        text-align: right;\n    }\n</style>\n<table border=\"1\" class=\"dataframe\">\n  <thead>\n    <tr style=\"text-align: right;\">\n      <th></th>\n      <th>FACT_EMB_0</th>\n      <th>FACT_EMB_1</th>\n      <th>FACT_EMB_2</th>\n      <th>FACT_EMB_3</th>\n      <th>FACT_EMB_4</th>\n      <th>FACT_EMB_5</th>\n      <th>FACT_EMB_6</th>\n      <th>FACT_EMB_7</th>\n      <th>FACT_EMB_8</th>\n      <th>FACT_EMB_9</th>\n      <th>...</th>\n      <th>FACT_EMB_118</th>\n      <th>FACT_EMB_119</th>\n      <th>FACT_EMB_120</th>\n      <th>FACT_EMB_121</th>\n      <th>FACT_EMB_122</th>\n      <th>FACT_EMB_123</th>\n      <th>FACT_EMB_124</th>\n      <th>FACT_EMB_125</th>\n      <th>FACT_EMB_126</th>\n      <th>FACT_EMB_127</th>\n    </tr>\n    <tr>\n      <th>gene_id</th>\n      <th></th>\n      <th></th>\n      <th></th>\n      <th></th>\n      <th></th>\n      <th></th>\n      <th></th>\n      <th></th>\n      <th></th>\n      <th></th>\n      <th></th>\n      <th></th>\n      <th></th>\n      <th></th>\n      <th></th>\n      <th></th>\n      <th></th>\n      <th></th>\n      <th></th>\n      <th></th>\n      <th></th>\n    </tr>\n  </thead>\n  <tbody>\n    <tr>\n      <th>ENSG00000121410</th>\n      <td>0.106010</td>\n      <td>-0.461595</td>\n      <td>0.052587</td>\n      <td>0.373025</td>\n      <td>0.144046</td>\n      <td>0.180251</td>\n      <td>0.340764</td>\n      <td>0.185999</td>\n      <td>0.409812</td>\n      <td>-0.156807</td>\n      <td>...</td>\n      <td>-0.460837</td>\n      <td>-0.066769</td>\n      <td>0.137612</td>\n      <td>0.458751</td>\n      <td>0.236506</td>\n      <td>0.365504</td>\n      <td>-0.214861</td>\n      <td>0.176975</td>\n      <td>-0.072642</td>\n      <td>0.401280</td>\n    </tr>\n    <tr>\n      <th>ENSG00000148584</th>\n      <td>-0.290709</td>\n      <td>0.391785</td>\n      <td>-0.395638</td>\n      <td>-0.353576</td>\n      <td>-0.307094</td>\n      <td>-0.465218</td>\n      <td>-0.344927</td>\n      <td>0.091459</td>\n      <td>-0.374749</td>\n      <td>0.199789</td>\n      <td>...</td>\n      <td>-0.073596</td>\n      <td>0.256913</td>\n      <td>-0.366361</td>\n      <td>-0.250737</td>\n      <td>-0.223580</td>\n      <td>-0.352380</td>\n      <td>-0.394107</td>\n      <td>0.092721</td>\n      <td>-0.399471</td>\n      <td>0.289553</td>\n    </tr>\n    <tr>\n      <th>ENSG00000175899</th>\n      <td>0.242142</td>\n      <td>-0.449453</td>\n      <td>0.157252</td>\n      <td>0.106424</td>\n      <td>0.398344</td>\n      <td>-0.070693</td>\n      <td>0.465176</td>\n      <td>-0.439344</td>\n      <td>-0.015031</td>\n      <td>-0.157172</td>\n      <td>...</td>\n      <td>0.433542</td>\n      <td>-0.142104</td>\n      <td>-0.297896</td>\n      <td>-0.267788</td>\n      <td>-0.014850</td>\n      <td>-0.320458</td>\n      <td>0.419811</td>\n      <td>0.086315</td>\n      <td>-0.131879</td>\n      <td>0.190226</td>\n    </tr>\n    <tr>\n      <th>ENSG00000166535</th>\n      <td>0.090354</td>\n      <td>-0.116053</td>\n      <td>-0.194001</td>\n      <td>-0.311927</td>\n      <td>-0.085125</td>\n      <td>0.097920</td>\n      <td>0.256587</td>\n      <td>0.275354</td>\n      <td>0.382139</td>\n      <td>-0.126973</td>\n      <td>...</td>\n      <td>-0.177966</td>\n      <td>0.409191</td>\n      <td>-0.289672</td>\n      <td>0.060570</td>\n      <td>-0.248142</td>\n      <td>-0.117346</td>\n      <td>0.493707</td>\n      <td>0.172840</td>\n      <td>-0.390717</td>\n      <td>0.238202</td>\n    </tr>\n    <tr>\n      <th>ENSG00000184389</th>\n      <td>-0.396374</td>\n      <td>0.194550</td>\n      <td>0.477474</td>\n      <td>-0.388095</td>\n      <td>0.313079</td>\n      <td>-0.118485</td>\n      <td>-0.248787</td>\n      <td>0.346253</td>\n      <td>0.084341</td>\n      <td>-0.160892</td>\n      <td>...</td>\n      <td>-0.196248</td>\n      <td>-0.049565</td>\n      <td>-0.217718</td>\n      <td>0.309336</td>\n      <td>0.037185</td>\n      <td>0.039028</td>\n      <td>0.220830</td>\n      <td>0.457047</td>\n      <td>0.209597</td>\n      <td>0.192745</td>\n    </tr>\n    <tr>\n      <th>...</th>\n      <td>...</td>\n      <td>...</td>\n      <td>...</td>\n      <td>...</td>\n      <td>...</td>\n      <td>...</td>\n      <td>...</td>\n      <td>...</td>\n      <td>...</td>\n      <td>...</td>\n      <td>...</td>\n      <td>...</td>\n      <td>...</td>\n      <td>...</td>\n      <td>...</td>\n      <td>...</td>\n      <td>...</td>\n      <td>...</td>\n      <td>...</td>\n      <td>...</td>\n      <td>...</td>\n    </tr>\n    <tr>\n      <th>ENSG00000203995</th>\n      <td>-0.478342</td>\n      <td>-0.383682</td>\n      <td>0.456813</td>\n      <td>0.457497</td>\n      <td>-0.185068</td>\n      <td>0.288327</td>\n      <td>-0.398313</td>\n      <td>0.276065</td>\n      <td>-0.458201</td>\n      <td>-0.036350</td>\n      <td>...</td>\n      <td>-0.176912</td>\n      <td>0.465491</td>\n      <td>-0.237820</td>\n      <td>-0.097224</td>\n      <td>-0.425809</td>\n      <td>0.100537</td>\n      <td>0.271502</td>\n      <td>0.135968</td>\n      <td>-0.042828</td>\n      <td>-0.195250</td>\n    </tr>\n    <tr>\n      <th>ENSG00000162378</th>\n      <td>0.081361</td>\n      <td>-0.076860</td>\n      <td>0.153846</td>\n      <td>0.348684</td>\n      <td>0.393668</td>\n      <td>-0.174394</td>\n      <td>-0.101181</td>\n      <td>-0.228229</td>\n      <td>0.271773</td>\n      <td>-0.046598</td>\n      <td>...</td>\n      <td>-0.208113</td>\n      <td>0.305136</td>\n      <td>-0.084824</td>\n      <td>0.215689</td>\n      <td>0.218954</td>\n      <td>0.076550</td>\n      <td>0.096553</td>\n      <td>0.118520</td>\n      <td>0.369082</td>\n      <td>-0.163983</td>\n    </tr>\n    <tr>\n      <th>ENSG00000159840</th>\n      <td>0.076599</td>\n      <td>0.064329</td>\n      <td>0.413553</td>\n      <td>0.155864</td>\n      <td>0.484874</td>\n      <td>0.292472</td>\n      <td>0.199863</td>\n      <td>-0.144120</td>\n      <td>-0.085168</td>\n      <td>0.036192</td>\n      <td>...</td>\n      <td>-0.280488</td>\n      <td>0.295061</td>\n      <td>0.253246</td>\n      <td>-0.173650</td>\n      <td>0.483735</td>\n      <td>-0.300305</td>\n      <td>0.296135</td>\n      <td>0.416069</td>\n      <td>-0.005561</td>\n      <td>-0.054826</td>\n    </tr>\n    <tr>\n      <th>ENSG00000074755</th>\n      <td>-0.029876</td>\n      <td>-0.359866</td>\n      <td>0.294530</td>\n      <td>0.343260</td>\n      <td>-0.185905</td>\n      <td>0.433327</td>\n      <td>-0.423575</td>\n      <td>0.315339</td>\n      <td>-0.200880</td>\n      <td>0.441477</td>\n      <td>...</td>\n      <td>0.111797</td>\n      <td>0.332555</td>\n      <td>-0.149170</td>\n      <td>0.300633</td>\n      <td>-0.256701</td>\n      <td>0.325356</td>\n      <td>0.100851</td>\n      <td>0.131078</td>\n      <td>-0.308742</td>\n      <td>-0.337624</td>\n    </tr>\n    <tr>\n      <th>ENSG00000036549</th>\n      <td>0.116052</td>\n      <td>-0.446248</td>\n      <td>0.384214</td>\n      <td>0.133849</td>\n      <td>0.423679</td>\n      <td>-0.223777</td>\n      <td>0.222229</td>\n      <td>-0.339136</td>\n      <td>-0.414088</td>\n      <td>0.118591</td>\n      <td>...</td>\n      <td>0.305643</td>\n      <td>0.157031</td>\n      <td>0.257650</td>\n      <td>0.054735</td>\n      <td>-0.113714</td>\n      <td>0.054061</td>\n      <td>-0.287956</td>\n      <td>-0.117313</td>\n      <td>0.385484</td>\n      <td>0.192072</td>\n    </tr>\n  </tbody>\n</table>\n<p>19693 rows × 128 columns</p>\n</div>"
     },
     "execution_count": 7,
     "metadata": {},
     "output_type": "execute_result"
    }
   ],
   "source": [
    "class VAE(nn.Module):\n",
    "    def __init__(self, gene_emb, n_samples, sample_emb_dim, NUM_LAYERS, sample_emb_init = None):\n",
    "        super().__init__()\n",
    "        #initialize the gene embedding\n",
    "        self.gene_emb = gene_emb\n",
    "        #create sample embedding\n",
    "        if sample_emb_init is not None:\n",
    "            self.sample_emb = nn.Embedding.from_pretrained(sample_emb_init, freeze=False)\n",
    "        else:\n",
    "            self.sample_emb = nn.Embedding(n_samples, sample_emb_dim)\n",
    "\n",
    "        joint_emb_dim = sample_emb_dim + self.gene_emb.gene_emb_dim\n",
    "\n",
    "        #the decoder\n",
    "        self.model = nn.Sequential()\n",
    "        for i in range(NUM_LAYERS - 1):\n",
    "            self.model.add_module(f\"layer_{i}\", nn.Linear(joint_emb_dim, joint_emb_dim))\n",
    "            self.model.add_module(f\"relu_{i}\", nn.ReLU())\n",
    "        self.model.add_module(f\"layer_{NUM_LAYERS - 1}\", nn.Linear(joint_emb_dim, 1))\n",
    "\n",
    "\n",
    "    def reparameterization(self, mean, sd):\n",
    "        epsilon = torch.randn_like(sd)    # sampling epsilon\n",
    "        z = mean + sd * epsilon           # reparameterization trick\n",
    "        return z\n",
    "\n",
    "\n",
    "    def get_emb(self, idx):\n",
    "        emb_mu = self.gene_emb.emb_mu.weight\n",
    "        emb_sigma = self.gene_emb.emb_log_sigma.weight.exp()\n",
    "        emb_z = self.reparameterization(emb_mu[idx, :], emb_sigma[idx, :])\n",
    "        return emb_z\n",
    "\n",
    "\n",
    "    def forward(self, gene_index, sample_index):\n",
    "        #get the gene embeddings and sample embeddings from indices\n",
    "        gene_emb_batch = self.get_emb(gene_index)\n",
    "        sample_emb_batch = self.sample_emb(sample_index)\n",
    "        joint_emb = torch.cat((gene_emb_batch, sample_emb_batch), dim = 1)\n",
    "\n",
    "        #use the joint embeddings to predict the score\n",
    "        pred = self.model(joint_emb)\n",
    "        return pred.squeeze()\n",
    "\n"
   ]
  },
  {
   "cell_type": "code",
   "execution_count": 8,
   "id": "2d9de135-d799-4d47-ba84-5f8a247cf505",
   "metadata": {
    "ExecuteTime": {
     "end_time": "2024-01-09T15:42:20.747643190Z",
     "start_time": "2024-01-09T15:42:20.600913337Z"
    }
   },
   "outputs": [],
   "source": [
    "class AssayModel(torch.nn.Module):\n",
    "    def __init__(self, gene_emb, sigma_init=np.log(0.5)):\n",
    "        super().__init__()\n",
    "\n",
    "        self.gene_emb = gene_emb\n",
    "\n",
    "        self.assay_log_sigma = nn.Embedding.from_pretrained(\n",
    "            torch.full(gene_emb.get_shape(), sigma_init), freeze=False\n",
    "        )\n",
    "\n",
    "        self.pass_assay_log_sigma = False\n",
    "\n",
    "    def reparameterization(self, mean, sd):\n",
    "        epsilon = torch.randn_like(sd)  # sampling epsilon        \n",
    "        z = mean + sd * epsilon  # reparameterization trick\n",
    "        return z\n",
    "\n",
    "    # get mean log_sigma of the current assay without gradient. \n",
    "    def get_assay_log_sigma_mean(self, idx):\n",
    "        with torch.no_grad():\n",
    "            assay_log_sigma_mean = self.assay_log_sigma.weight.mean(axis=1, keepdim=True)\n",
    "            assay_log_sigma_mean = assay_log_sigma_mean[idx, :]\n",
    "        return assay_log_sigma_mean\n",
    "\n",
    "    def get_emb(self, idx):\n",
    "        emb_mu = self.gene_emb.emb_mu.weight\n",
    "        emb_sigma = self.gene_emb.emb_log_sigma.weight.exp()\n",
    "        assay_sigma = self.assay_log_sigma.weight.exp()\n",
    "\n",
    "        # replace the sampling twice by sampling only once using mu = mu_1 + mu_2 and sig^2 = sig_1^2 + sig_2^2\n",
    "        sigma = torch.sqrt(emb_sigma.pow(2) + assay_sigma.pow(2))\n",
    "        z_emb_assay = self.reparameterization(emb_mu[idx, :], sigma[idx, :])\n",
    "\n",
    "        # add assay log sigma to embedding without gradient.\n",
    "        if self.pass_assay_log_sigma is True:\n",
    "            assay_log_sigma_mean = self.get_assay_log_sigma_mean(idx)\n",
    "            z_emb_assay = torch.cat((z_emb_assay, assay_log_sigma_mean), dim=1)\n",
    "        return z_emb_assay\n",
    "\n",
    "    def get_assay_log_sigma_table(self):\n",
    "        emb_df = pd.DataFrame(self.assay_log_sigma.weight.detach().cpu(),\n",
    "                              index=self.gene_emb.genes,\n",
    "                              columns=[f'FACT_EMB_{i}' for i in range(self.gene_emb.emb_dim)]\n",
    "                              )\n",
    "        emb_df.index.name = 'gene_id'\n",
    "        return emb_df"
   ]
  },
  {
   "cell_type": "code",
   "execution_count": 9,
   "id": "985e1b64-79e7-4f0d-aed5-1adecb6d0461",
   "metadata": {
    "ExecuteTime": {
     "end_time": "2024-01-09T15:42:22.792618581Z",
     "start_time": "2024-01-09T15:42:22.748701279Z"
    }
   },
   "outputs": [],
   "source": [
    "class TabluarDataModel(AssayModel):\n",
    "    def __init__(self, gene_emb, n_samples, emb_dim, sigma_init, pass_assay_log_sigma=False, emb_init=None):\n",
    "        super().__init__(gene_emb, sigma_init)\n",
    "\n",
    "        self.pass_assay_log_sigma = pass_assay_log_sigma\n",
    "\n",
    "        #create sample embedding\n",
    "        if emb_init is not None:\n",
    "            self.sample_emb = nn.Embedding.from_pretrained(emb_init, freeze=False)\n",
    "            #self.register_parameter(\"sample_emb\",nn.Embedding.from_pretrained(emb_init, freeze=False))\n",
    "        else:\n",
    "            self.sample_emb = nn.Embedding(n_samples, emb_dim)\n",
    "\n",
    "        joint_emb_dim = emb_dim + self.gene_emb.emb_dim\n",
    "        var_model_dim = self.gene_emb.emb_dim\n",
    "\n",
    "        if pass_assay_log_sigma is True:\n",
    "            joint_emb_dim += 1\n",
    "            var_model_dim += 1\n",
    "\n",
    "        self.model = nn.Sequential()\n",
    "\n",
    "        for i in range(NUM_LAYERS - 1):\n",
    "            self.model.add_module(f\"layer_{i}\", nn.Linear(joint_emb_dim, joint_emb_dim))\n",
    "            self.model.add_module(f\"relu_{i}\", nn.ReLU())\n",
    "\n",
    "        self.model.add_module(f\"layer_{NUM_LAYERS - 1}\", nn.Linear(joint_emb_dim, 1))\n",
    "\n",
    "        self.var_model = nn.Sequential()\n",
    "\n",
    "        for i in range(NUM_LAYERS - 1):\n",
    "            self.var_model.add_module(f\"layer_{i}\", nn.Linear(var_model_dim, var_model_dim))\n",
    "            self.var_model.add_module(f\"relu_{i}\", nn.ReLU())\n",
    "\n",
    "        self.var_model.add_module(f\"layer_{NUM_LAYERS - 1}\", nn.Linear(var_model_dim, 1))\n",
    "        # Init bias of last layer with small variance.\n",
    "        nn.init.constant_(self.var_model[-1].bias, -2)\n",
    "\n",
    "    #@torch.jit.script\n",
    "    def forward(self, gene_index, sample_index):\n",
    "\n",
    "        #get the gene embeddings and sample embeddings from indices\n",
    "        gene_emb_batch = self.get_emb(gene_index)\n",
    "        sample_emb_batch = self.sample_emb(sample_index)\n",
    "\n",
    "        joint_emb = torch.cat((gene_emb_batch, sample_emb_batch), dim=1)\n",
    "\n",
    "        #use the joint embeddings to predict the score\n",
    "        pred = self.model(joint_emb)\n",
    "        #use the gene embeddings alone to predict the score???\n",
    "        log_var = self.var_model(gene_emb_batch)\n",
    "        # clip to avoid exp of log var to become inf or 0.\n",
    "        log_var = log_var.clip(min=-40, max=40)\n",
    "\n",
    "        return pred.squeeze(), log_var.squeeze()\n",
    "\n",
    "\n",
    "\n"
   ]
  },
  {
   "cell_type": "code",
   "execution_count": 10,
   "id": "ef4392b2-b300-4dcc-b623-c72bc2bc9631",
   "metadata": {
    "ExecuteTime": {
     "end_time": "2024-01-09T15:42:23.597109172Z",
     "start_time": "2024-01-09T15:42:23.577070866Z"
    }
   },
   "outputs": [],
   "source": [
    "class BaseLoss(nn.Module):\n",
    "    def __init__(self, assay_prior_log_sigma):\n",
    "        super(BaseLoss, self).__init__()\n",
    "\n",
    "        self.assay_ls = torch.as_tensor(np.float32(assay_prior_log_sigma), device=device)\n",
    "        self.emb_log_sigma_prior = torch.as_tensor(0., device=device)\n",
    "\n",
    "    def compute_kl(self, model):\n",
    "        loss_KLD_emb = kl_divergence(Normal(model.gene_emb.emb_mu.weight, model.gene_emb.emb_log_sigma.weight.exp()),\n",
    "                                     Normal(0, self.emb_log_sigma_prior.exp())\n",
    "                                     ).mean()\n",
    "        loss_KLD_assay = kl_divergence(Normal(0, model.assay_log_sigma.weight.exp()),\n",
    "                                       Normal(0, self.assay_ls.exp())\n",
    "                                       ).mean()\n",
    "        return loss_KLD_assay + loss_KLD_emb\n",
    "\n",
    "\n",
    "class MatLoss(BaseLoss):\n",
    "    def __init__(self, assay_prior_log_sigma):\n",
    "        super(MatLoss, self).__init__(assay_prior_log_sigma)\n",
    "\n",
    "        self.mse_loss_mean = nn.MSELoss(reduction=\"mean\")\n",
    "        self.gnll = nn.GaussianNLLLoss(full=True, reduction='mean')\n",
    "\n",
    "    def forward(self, pred_mu, pred_log_var, target, model):\n",
    "        loss_NLL = self.gnll(pred_mu, target, torch.exp(pred_log_var))\n",
    "        kl_term = self.compute_kl(model)\n",
    "\n",
    "        return loss_NLL + kl_term, self.mse_loss_mean(pred_mu, target), loss_NLL  #, loss_KLD_emb + loss_KLD_assay\n"
   ]
  },
  {
   "cell_type": "code",
   "execution_count": 11,
   "id": "1216e6ea-0505-4dc9-b743-46c9d3a46462",
   "metadata": {
    "ExecuteTime": {
     "end_time": "2024-01-09T15:42:30.128578609Z",
     "start_time": "2024-01-09T15:42:24.353264590Z"
    }
   },
   "outputs": [],
   "source": [
    "#initilize the model\n",
    "model = TabluarDataModel(gene_emb,\n",
    "                         n_samples=dataset.dataset[\"sample_idx\"].unique().shape[0],\n",
    "                         emb_dim=128,\n",
    "                         sigma_init=assay_prior_log_sigma,\n",
    "                         emb_init=torch.from_numpy(dataset.compute_sample_init_pca().astype('float32')),\n",
    "                         )\n",
    "\n",
    "loss = MatLoss(assay_prior_log_sigma)\n",
    "\n",
    "opt = torch.optim.Adam(model.parameters(),\n",
    "                       lr=LEARNING_RATE,\n",
    "                       )"
   ]
  },
  {
   "cell_type": "code",
   "execution_count": 12,
   "id": "37dd16b1-dc44-40e0-bd13-1be747418478",
   "metadata": {
    "ExecuteTime": {
     "end_time": "2024-01-09T15:42:30.200077190Z",
     "start_time": "2024-01-09T15:42:30.159685196Z"
    }
   },
   "outputs": [
    {
     "data": {
      "text/plain": "shape: (339_221, 4)\n┌────────────┬─────────────────┬───────────┬──────────┐\n│ sample_idx ┆ gene_id         ┆ score     ┆ gene_idx │\n│ ---        ┆ ---             ┆ ---       ┆ ---      │\n│ i64        ┆ str             ┆ f32       ┆ i64      │\n╞════════════╪═════════════════╪═══════════╪══════════╡\n│ 103        ┆ ENSG00000099284 ┆ -0.024914 ┆ 9382     │\n│ 65         ┆ ENSG00000189431 ┆ -0.027687 ┆ 13792    │\n│ 167        ┆ ENSG00000132405 ┆ -0.027114 ┆ 16711    │\n│ 11         ┆ ENSG00000117090 ┆ -0.027691 ┆ 15186    │\n│ …          ┆ …               ┆ …         ┆ …        │\n│ 118        ┆ ENSG00000170100 ┆ -0.027687 ┆ 19567    │\n│ 17         ┆ ENSG00000126218 ┆ -0.026114 ┆ 5428     │\n│ 88         ┆ ENSG00000216588 ┆ -0.027691 ┆ 7792     │\n│ 150        ┆ ENSG00000154127 ┆ -0.027214 ┆ 18109    │\n└────────────┴─────────────────┴───────────┴──────────┘",
      "text/html": "<div><style>\n.dataframe > thead > tr,\n.dataframe > tbody > tr {\n  text-align: right;\n  white-space: pre-wrap;\n}\n</style>\n<small>shape: (339_221, 4)</small><table border=\"1\" class=\"dataframe\"><thead><tr><th>sample_idx</th><th>gene_id</th><th>score</th><th>gene_idx</th></tr><tr><td>i64</td><td>str</td><td>f32</td><td>i64</td></tr></thead><tbody><tr><td>103</td><td>&quot;ENSG0000009928…</td><td>-0.024914</td><td>9382</td></tr><tr><td>65</td><td>&quot;ENSG0000018943…</td><td>-0.027687</td><td>13792</td></tr><tr><td>167</td><td>&quot;ENSG0000013240…</td><td>-0.027114</td><td>16711</td></tr><tr><td>11</td><td>&quot;ENSG0000011709…</td><td>-0.027691</td><td>15186</td></tr><tr><td>96</td><td>&quot;ENSG0000013569…</td><td>0.060683</td><td>10038</td></tr><tr><td>91</td><td>&quot;ENSG0000017077…</td><td>-0.024835</td><td>6759</td></tr><tr><td>156</td><td>&quot;ENSG0000016667…</td><td>-0.027691</td><td>18041</td></tr><tr><td>87</td><td>&quot;ENSG0000017140…</td><td>-0.027691</td><td>12188</td></tr><tr><td>24</td><td>&quot;ENSG0000018686…</td><td>-0.027691</td><td>12242</td></tr><tr><td>124</td><td>&quot;ENSG0000020557…</td><td>-0.027657</td><td>14890</td></tr><tr><td>122</td><td>&quot;ENSG0000025680…</td><td>-0.027674</td><td>2114</td></tr><tr><td>130</td><td>&quot;ENSG0000012917…</td><td>-0.027691</td><td>3861</td></tr><tr><td>&hellip;</td><td>&hellip;</td><td>&hellip;</td><td>&hellip;</td></tr><tr><td>175</td><td>&quot;ENSG0000012746…</td><td>-0.027553</td><td>5114</td></tr><tr><td>22</td><td>&quot;ENSG0000006843…</td><td>0.033656</td><td>6125</td></tr><tr><td>113</td><td>&quot;ENSG0000015149…</td><td>-0.027682</td><td>5241</td></tr><tr><td>51</td><td>&quot;ENSG0000021212…</td><td>-0.027687</td><td>16653</td></tr><tr><td>67</td><td>&quot;ENSG0000014331…</td><td>-0.027641</td><td>8057</td></tr><tr><td>165</td><td>&quot;ENSG0000018251…</td><td>-0.026286</td><td>6542</td></tr><tr><td>50</td><td>&quot;ENSG0000018855…</td><td>-0.027691</td><td>11460</td></tr><tr><td>155</td><td>&quot;ENSG0000012467…</td><td>-0.027645</td><td>16812</td></tr><tr><td>118</td><td>&quot;ENSG0000017010…</td><td>-0.027687</td><td>19567</td></tr><tr><td>17</td><td>&quot;ENSG0000012621…</td><td>-0.026114</td><td>5428</td></tr><tr><td>88</td><td>&quot;ENSG0000021658…</td><td>-0.027691</td><td>7792</td></tr><tr><td>150</td><td>&quot;ENSG0000015412…</td><td>-0.027214</td><td>18109</td></tr></tbody></table></div>"
     },
     "execution_count": 12,
     "metadata": {},
     "output_type": "execute_result"
    }
   ],
   "source": [
    "dataset.test_table"
   ]
  },
  {
   "cell_type": "code",
   "execution_count": 13,
   "id": "b1617050-15b7-496f-a4b7-0bbd09afd501",
   "metadata": {
    "ExecuteTime": {
     "end_time": "2024-01-09T15:42:31.741684703Z",
     "start_time": "2024-01-09T15:42:31.652785772Z"
    }
   },
   "outputs": [
    {
     "data": {
      "text/plain": "tensor([ 9382, 13792, 16711,  ...,  5428,  7792, 18109])"
     },
     "execution_count": 13,
     "metadata": {},
     "output_type": "execute_result"
    }
   ],
   "source": [
    "torch.from_numpy(np.array(dataset.test_table[\"gene_idx\"]))"
   ]
  },
  {
   "cell_type": "code",
   "execution_count": 16,
   "id": "9732f229-3e99-4add-ae40-86857b6aa81b",
   "metadata": {
    "ExecuteTime": {
     "end_time": "2024-01-09T15:44:52.734052912Z",
     "start_time": "2024-01-09T15:44:52.709818104Z"
    }
   },
   "outputs": [],
   "source": [
    "def train_epoch(model, opt, loss_func, dataset):\n",
    "    for g_idx, s_idx, target in dataset.get_batches(BATCH_SIZE, 'train'):\n",
    "        model.to(device)\n",
    "\n",
    "        opt.zero_grad()\n",
    "        mu, log_var = model(g_idx.to(device, non_blocking=True), s_idx.to(device, non_blocking=True))\n",
    "        target = target.to(device, non_blocking=True)\n",
    "        elbo, mse, nll = loss_func(mu, log_var, target, model)\n",
    "\n",
    "        # sum losses, temporarily use the elbo\n",
    "        loss = elbo\n",
    "        loss.backward()\n",
    "        opt.step()\n",
    "\n",
    "    opt.zero_grad(set_to_none=True)\n",
    "    # torch.mps.empty_cache()\n",
    "\n",
    "    #compute the r2score on the test data\n",
    "    with torch.no_grad():\n",
    "        test_gene_idx = torch.from_numpy(np.array(dataset.test_table[\"gene_idx\"]))\n",
    "        test_sample_idx = torch.from_numpy(np.array(dataset.test_table[\"sample_idx\"]))\n",
    "        test_target = torch.from_numpy(np.array(dataset.test_table[\"score\"]))\n",
    "        mu, log_var = model(test_gene_idx.to(device, non_blocking=True), test_sample_idx.to(device, non_blocking=True))\n",
    "        val_pred = mu.detach().cpu().numpy()\n",
    "        val_target = test_target.detach().cpu().numpy()\n",
    "    \"\"\"\n",
    "    val_pred = []\n",
    "    val_target = []\n",
    "    with torch.no_grad():\n",
    "             for g_idx, s_idx, target in dataset.get_batches(BATCH_SIZE, 'test'):\n",
    "                    mu, log_var = model(g_idx.to(device, non_blocking=True), s_idx.to(device, non_blocking=True))\n",
    "                    target = target.to(device, non_blocking=True)\n",
    "                    elbo, mse, nll = loss_func(mu, \n",
    "                                               log_var, \n",
    "                                               target,\n",
    "                                               model\n",
    "                                               )\n",
    "\n",
    "                    val_pred.append(mu.detach().cpu().numpy())\n",
    "                    val_target.append(target.detach().cpu().numpy())\n",
    "                \n",
    "\n",
    "    ## compute r2\n",
    "    val_pred = np.concatenate(val_pred)\n",
    "    val_target = np.concatenate(val_target)\n",
    "    \"\"\"\n",
    "    r2 = r2_score(val_target, val_pred)\n",
    "    return r2\n",
    "\n",
    "\n",
    "\n",
    "\n",
    "\n",
    "\n"
   ]
  },
  {
   "cell_type": "code",
   "execution_count": 17,
   "id": "3d86bdfd-f7c9-4446-8558-9b147774f735",
   "metadata": {
    "scrolled": true,
    "tags": [],
    "ExecuteTime": {
     "end_time": "2024-01-09T16:08:54.070036446Z",
     "start_time": "2024-01-09T15:44:57.450823749Z"
    }
   },
   "outputs": [
    {
     "name": "stdout",
     "output_type": "stream",
     "text": [
      "r2score:  0.1528988648396311\n"
     ]
    }
   ],
   "source": [
    "r2 = []\n",
    "for i in range(EPOCHS):\n",
    "    print(i)\n",
    "    r2.append(train_epoch(model, opt, loss, dataset))"
   ]
  },
  {
   "cell_type": "code",
   "execution_count": 18,
   "id": "a3a412a7-9ba2-4044-b3c7-85f1662d5394",
   "metadata": {
    "ExecuteTime": {
     "end_time": "2024-01-09T16:08:56.008845893Z",
     "start_time": "2024-01-09T16:08:55.976894857Z"
    }
   },
   "outputs": [
    {
     "data": {
      "text/plain": "[0.0024774620240672895,\n 0.0018061029536360351,\n 0.0024515588413861478,\n 0.0021453899649245267,\n 0.0024973022102946496,\n 0.002463137248999603,\n 0.0021021136575449795,\n 0.001998808288710796,\n 0.0014751710484437464]"
     },
     "execution_count": 18,
     "metadata": {},
     "output_type": "execute_result"
    }
   ],
   "source": [
    "r2"
   ]
  },
  {
   "cell_type": "code",
   "execution_count": 19,
   "id": "a547a983-3ec5-4634-8089-d46a05499c8d",
   "metadata": {
    "ExecuteTime": {
     "end_time": "2024-01-09T16:09:09.753037847Z",
     "start_time": "2024-01-09T16:08:59.710138648Z"
    }
   },
   "outputs": [],
   "source": [
    "with torch.no_grad():\n",
    "    test_gene_idx = torch.from_numpy(np.array(dataset.test_table[\"gene_idx\"]))\n",
    "    test_sample_idx = torch.from_numpy(np.array(dataset.test_table[\"sample_idx\"]))\n",
    "    test_target = torch.from_numpy(np.array(dataset.test_table[\"score\"]))\n",
    "    mu, log_var = model(test_gene_idx.to(device, non_blocking=True), test_sample_idx.to(device, non_blocking=True))\n",
    "    val_pred = mu.detach().cpu().numpy()\n",
    "    val_target = test_target.detach().cpu().numpy()"
   ]
  },
  {
   "cell_type": "code",
   "execution_count": 20,
   "id": "da1e0b10-29ab-469d-a22f-f8acdef2fe64",
   "metadata": {
    "ExecuteTime": {
     "end_time": "2024-01-09T16:09:48.137505426Z",
     "start_time": "2024-01-09T16:09:11.475729274Z"
    }
   },
   "outputs": [
    {
     "data": {
      "text/plain": "<Figure size 640x480 with 1 Axes>",
      "image/png": "[encoded data removed]"
     },
     "metadata": {
      "image/png": {
       "width": 640,
       "height": 480
      }
     },
     "output_type": "display_data"
    },
    {
     "data": {
      "text/plain": "<Figure Size: (640 x 480)>"
     },
     "execution_count": 10,
     "metadata": {},
     "output_type": "execute_result"
    }
   ],
   "source": [
    "with torch.no_grad():\n",
    "        test_gene_idx = torch.from_numpy(np.array(dataset.test_table[\"gene_idx\"]))\n",
    "        test_sample_idx = torch.from_numpy(np.array(dataset.test_table[\"sample_idx\"]))\n",
    "        test_target = torch.from_numpy(np.array(dataset.test_table[\"score\"]))\n",
    "        mu = model(test_gene_idx.to(device, non_blocking=True), test_sample_idx.to(device, non_blocking=True))\n",
    "        val_pred = mu.detach().cpu().numpy()\n",
    "        val_target = test_target.detach().cpu().numpy()\n",
    "result = pd.DataFrame({\n",
    "    \"val_pred\": val_pred,\n",
    "    \"val_target\": val_target})\n",
    "plot = ggplot(result)\n",
    "plot += geom_point(aes(\"val_pred\", \"val_target\"))\n",
    "plot += coord_cartesian(ylim=(0, 1), xlim=(0, 1))\n",
    "plot += geom_smooth(aes(\"val_pred\", \"val_target\"))\n",
    "plot += geom_abline(intercept=0, slope=1)\n",
    "plot"
   ]
  },
  {
   "cell_type": "code",
   "execution_count": 21,
   "id": "20dfd1be-3a90-4475-9441-0962b457be35",
   "metadata": {
    "ExecuteTime": {
     "end_time": "2024-01-09T16:09:48.141907367Z",
     "start_time": "2024-01-09T16:09:47.937957773Z"
    }
   },
   "outputs": [
    {
     "data": {
      "text/plain": "                 FACT_EMB_0  FACT_EMB_1  FACT_EMB_2  FACT_EMB_3  FACT_EMB_4  \\\ngene_id                                                                       \nENSG00000121410    0.397898   -0.619606    0.197080    0.206075    0.487327   \nENSG00000148584    0.019631    0.105285   -0.164675   -0.366149    0.041693   \nENSG00000175899    0.206388   -0.434583    0.135077    0.136972    0.349690   \nENSG00000166535    0.361388   -0.309084    0.044041   -0.345444    0.249813   \nENSG00000184389   -0.084553   -0.079659    0.521774   -0.344599    0.608893   \n...                     ...         ...         ...         ...         ...   \nENSG00000203995   -0.192088   -0.527726    0.564879    0.334749    0.164973   \nENSG00000162378    0.389417   -0.302356    0.226134    0.231177    0.633049   \nENSG00000159840    0.343140   -0.140446    0.471138    0.054814    0.631070   \nENSG00000074755    0.266091   -0.503978    0.428102    0.182519    0.198761   \nENSG00000036549    0.423279   -0.580929    0.496188    0.034237    0.661761   \n\n                 FACT_EMB_5  FACT_EMB_6  FACT_EMB_7  FACT_EMB_8  FACT_EMB_9  \\\ngene_id                                                                       \nENSG00000121410   -0.130210    0.694295    0.066933   -0.002644    0.019016   \nENSG00000148584   -0.605392    0.039391   -0.081647   -0.680132    0.417165   \nENSG00000175899   -0.053918    0.380534   -0.405700    0.025218   -0.166301   \nENSG00000166535   -0.171147    0.622800    0.097036   -0.022604    0.158736   \nENSG00000184389   -0.269933    0.134993    0.208777   -0.292158    0.041449   \n...                     ...         ...         ...         ...         ...   \nENSG00000203995   -0.011938   -0.005079    0.163140   -0.776939    0.165401   \nENSG00000162378   -0.378878    0.270924   -0.321942   -0.136347    0.192838   \nENSG00000159840    0.075271    0.560676   -0.242739   -0.427519    0.212996   \nENSG00000074755    0.126300   -0.011249    0.107005   -0.564683    0.551409   \nENSG00000036549   -0.400316    0.585455   -0.509694   -0.716021    0.214793   \n\n                 ...  FACT_EMB_118  FACT_EMB_119  FACT_EMB_120  FACT_EMB_121  \\\ngene_id          ...                                                           \nENSG00000121410  ...     -0.586537     -0.189327     -0.281588      0.794226   \nENSG00000148584  ...     -0.303413      0.135788     -0.749402      0.081660   \nENSG00000175899  ...      0.444234     -0.126186     -0.215977     -0.316875   \nENSG00000166535  ...     -0.357637      0.251788     -0.656097      0.422899   \nENSG00000184389  ...     -0.331455     -0.152695     -0.602804      0.640094   \n...              ...           ...           ...           ...           ...   \nENSG00000203995  ...     -0.316673      0.324286     -0.619148      0.269568   \nENSG00000162378  ...     -0.366426      0.143965     -0.476664      0.549909   \nENSG00000159840  ...     -0.346511      0.169067     -0.148972      0.167146   \nENSG00000074755  ...     -0.170520      0.176072     -0.537382      0.650437   \nENSG00000036549  ...      0.026374      0.025477     -0.176587      0.411878   \n\n                 FACT_EMB_122  FACT_EMB_123  FACT_EMB_124  FACT_EMB_125  \\\ngene_id                                                                   \nENSG00000121410      0.450134     -0.056704      0.189903      0.090775   \nENSG00000148584      0.071958     -0.663785      0.006457      0.008557   \nENSG00000175899     -0.029652     -0.274389      0.368234      0.035494   \nENSG00000166535      0.086865     -0.457098      0.814789      0.108453   \nENSG00000184389      0.303997     -0.311243      0.588258      0.301015   \n...                       ...           ...           ...           ...   \nENSG00000203995     -0.051767     -0.273430      0.619877      0.170769   \nENSG00000162378      0.454654     -0.310580      0.454901      0.000682   \nENSG00000159840      0.636596     -0.570514      0.616379      0.264107   \nENSG00000074755      0.091706     -0.097338      0.480337      0.037036   \nENSG00000036549      0.245701     -0.311883      0.127958     -0.158784   \n\n                 FACT_EMB_126  FACT_EMB_127  \ngene_id                                      \nENSG00000121410     -0.312061      0.013795  \nENSG00000148584     -0.572154     -0.091617  \nENSG00000175899     -0.097415      0.203788  \nENSG00000166535     -0.549387     -0.137657  \nENSG00000184389     -0.071225     -0.188245  \n...                       ...           ...  \nENSG00000203995     -0.324416     -0.575503  \nENSG00000162378      0.061252     -0.540969  \nENSG00000159840     -0.240854     -0.424334  \nENSG00000074755     -0.513692     -0.722857  \nENSG00000036549      0.056552     -0.197335  \n\n[19693 rows x 128 columns]",
      "text/html": "<div>\n<style scoped>\n    .dataframe tbody tr th:only-of-type {\n        vertical-align: middle;\n    }\n\n    .dataframe tbody tr th {\n        vertical-align: top;\n    }\n\n    .dataframe thead th {\n        text-align: right;\n    }\n</style>\n<table border=\"1\" class=\"dataframe\">\n  <thead>\n    <tr style=\"text-align: right;\">\n      <th></th>\n      <th>FACT_EMB_0</th>\n      <th>FACT_EMB_1</th>\n      <th>FACT_EMB_2</th>\n      <th>FACT_EMB_3</th>\n      <th>FACT_EMB_4</th>\n      <th>FACT_EMB_5</th>\n      <th>FACT_EMB_6</th>\n      <th>FACT_EMB_7</th>\n      <th>FACT_EMB_8</th>\n      <th>FACT_EMB_9</th>\n      <th>...</th>\n      <th>FACT_EMB_118</th>\n      <th>FACT_EMB_119</th>\n      <th>FACT_EMB_120</th>\n      <th>FACT_EMB_121</th>\n      <th>FACT_EMB_122</th>\n      <th>FACT_EMB_123</th>\n      <th>FACT_EMB_124</th>\n      <th>FACT_EMB_125</th>\n      <th>FACT_EMB_126</th>\n      <th>FACT_EMB_127</th>\n    </tr>\n    <tr>\n      <th>gene_id</th>\n      <th></th>\n      <th></th>\n      <th></th>\n      <th></th>\n      <th></th>\n      <th></th>\n      <th></th>\n      <th></th>\n      <th></th>\n      <th></th>\n      <th></th>\n      <th></th>\n      <th></th>\n      <th></th>\n      <th></th>\n      <th></th>\n      <th></th>\n      <th></th>\n      <th></th>\n      <th></th>\n      <th></th>\n    </tr>\n  </thead>\n  <tbody>\n    <tr>\n      <th>ENSG00000121410</th>\n      <td>0.397898</td>\n      <td>-0.619606</td>\n      <td>0.197080</td>\n      <td>0.206075</td>\n      <td>0.487327</td>\n      <td>-0.130210</td>\n      <td>0.694295</td>\n      <td>0.066933</td>\n      <td>-0.002644</td>\n      <td>0.019016</td>\n      <td>...</td>\n      <td>-0.586537</td>\n      <td>-0.189327</td>\n      <td>-0.281588</td>\n      <td>0.794226</td>\n      <td>0.450134</td>\n      <td>-0.056704</td>\n      <td>0.189903</td>\n      <td>0.090775</td>\n      <td>-0.312061</td>\n      <td>0.013795</td>\n    </tr>\n    <tr>\n      <th>ENSG00000148584</th>\n      <td>0.019631</td>\n      <td>0.105285</td>\n      <td>-0.164675</td>\n      <td>-0.366149</td>\n      <td>0.041693</td>\n      <td>-0.605392</td>\n      <td>0.039391</td>\n      <td>-0.081647</td>\n      <td>-0.680132</td>\n      <td>0.417165</td>\n      <td>...</td>\n      <td>-0.303413</td>\n      <td>0.135788</td>\n      <td>-0.749402</td>\n      <td>0.081660</td>\n      <td>0.071958</td>\n      <td>-0.663785</td>\n      <td>0.006457</td>\n      <td>0.008557</td>\n      <td>-0.572154</td>\n      <td>-0.091617</td>\n    </tr>\n    <tr>\n      <th>ENSG00000175899</th>\n      <td>0.206388</td>\n      <td>-0.434583</td>\n      <td>0.135077</td>\n      <td>0.136972</td>\n      <td>0.349690</td>\n      <td>-0.053918</td>\n      <td>0.380534</td>\n      <td>-0.405700</td>\n      <td>0.025218</td>\n      <td>-0.166301</td>\n      <td>...</td>\n      <td>0.444234</td>\n      <td>-0.126186</td>\n      <td>-0.215977</td>\n      <td>-0.316875</td>\n      <td>-0.029652</td>\n      <td>-0.274389</td>\n      <td>0.368234</td>\n      <td>0.035494</td>\n      <td>-0.097415</td>\n      <td>0.203788</td>\n    </tr>\n    <tr>\n      <th>ENSG00000166535</th>\n      <td>0.361388</td>\n      <td>-0.309084</td>\n      <td>0.044041</td>\n      <td>-0.345444</td>\n      <td>0.249813</td>\n      <td>-0.171147</td>\n      <td>0.622800</td>\n      <td>0.097036</td>\n      <td>-0.022604</td>\n      <td>0.158736</td>\n      <td>...</td>\n      <td>-0.357637</td>\n      <td>0.251788</td>\n      <td>-0.656097</td>\n      <td>0.422899</td>\n      <td>0.086865</td>\n      <td>-0.457098</td>\n      <td>0.814789</td>\n      <td>0.108453</td>\n      <td>-0.549387</td>\n      <td>-0.137657</td>\n    </tr>\n    <tr>\n      <th>ENSG00000184389</th>\n      <td>-0.084553</td>\n      <td>-0.079659</td>\n      <td>0.521774</td>\n      <td>-0.344599</td>\n      <td>0.608893</td>\n      <td>-0.269933</td>\n      <td>0.134993</td>\n      <td>0.208777</td>\n      <td>-0.292158</td>\n      <td>0.041449</td>\n      <td>...</td>\n      <td>-0.331455</td>\n      <td>-0.152695</td>\n      <td>-0.602804</td>\n      <td>0.640094</td>\n      <td>0.303997</td>\n      <td>-0.311243</td>\n      <td>0.588258</td>\n      <td>0.301015</td>\n      <td>-0.071225</td>\n      <td>-0.188245</td>\n    </tr>\n    <tr>\n      <th>...</th>\n      <td>...</td>\n      <td>...</td>\n      <td>...</td>\n      <td>...</td>\n      <td>...</td>\n      <td>...</td>\n      <td>...</td>\n      <td>...</td>\n      <td>...</td>\n      <td>...</td>\n      <td>...</td>\n      <td>...</td>\n      <td>...</td>\n      <td>...</td>\n      <td>...</td>\n      <td>...</td>\n      <td>...</td>\n      <td>...</td>\n      <td>...</td>\n      <td>...</td>\n      <td>...</td>\n    </tr>\n    <tr>\n      <th>ENSG00000203995</th>\n      <td>-0.192088</td>\n      <td>-0.527726</td>\n      <td>0.564879</td>\n      <td>0.334749</td>\n      <td>0.164973</td>\n      <td>-0.011938</td>\n      <td>-0.005079</td>\n      <td>0.163140</td>\n      <td>-0.776939</td>\n      <td>0.165401</td>\n      <td>...</td>\n      <td>-0.316673</td>\n      <td>0.324286</td>\n      <td>-0.619148</td>\n      <td>0.269568</td>\n      <td>-0.051767</td>\n      <td>-0.273430</td>\n      <td>0.619877</td>\n      <td>0.170769</td>\n      <td>-0.324416</td>\n      <td>-0.575503</td>\n    </tr>\n    <tr>\n      <th>ENSG00000162378</th>\n      <td>0.389417</td>\n      <td>-0.302356</td>\n      <td>0.226134</td>\n      <td>0.231177</td>\n      <td>0.633049</td>\n      <td>-0.378878</td>\n      <td>0.270924</td>\n      <td>-0.321942</td>\n      <td>-0.136347</td>\n      <td>0.192838</td>\n      <td>...</td>\n      <td>-0.366426</td>\n      <td>0.143965</td>\n      <td>-0.476664</td>\n      <td>0.549909</td>\n      <td>0.454654</td>\n      <td>-0.310580</td>\n      <td>0.454901</td>\n      <td>0.000682</td>\n      <td>0.061252</td>\n      <td>-0.540969</td>\n    </tr>\n    <tr>\n      <th>ENSG00000159840</th>\n      <td>0.343140</td>\n      <td>-0.140446</td>\n      <td>0.471138</td>\n      <td>0.054814</td>\n      <td>0.631070</td>\n      <td>0.075271</td>\n      <td>0.560676</td>\n      <td>-0.242739</td>\n      <td>-0.427519</td>\n      <td>0.212996</td>\n      <td>...</td>\n      <td>-0.346511</td>\n      <td>0.169067</td>\n      <td>-0.148972</td>\n      <td>0.167146</td>\n      <td>0.636596</td>\n      <td>-0.570514</td>\n      <td>0.616379</td>\n      <td>0.264107</td>\n      <td>-0.240854</td>\n      <td>-0.424334</td>\n    </tr>\n    <tr>\n      <th>ENSG00000074755</th>\n      <td>0.266091</td>\n      <td>-0.503978</td>\n      <td>0.428102</td>\n      <td>0.182519</td>\n      <td>0.198761</td>\n      <td>0.126300</td>\n      <td>-0.011249</td>\n      <td>0.107005</td>\n      <td>-0.564683</td>\n      <td>0.551409</td>\n      <td>...</td>\n      <td>-0.170520</td>\n      <td>0.176072</td>\n      <td>-0.537382</td>\n      <td>0.650437</td>\n      <td>0.091706</td>\n      <td>-0.097338</td>\n      <td>0.480337</td>\n      <td>0.037036</td>\n      <td>-0.513692</td>\n      <td>-0.722857</td>\n    </tr>\n    <tr>\n      <th>ENSG00000036549</th>\n      <td>0.423279</td>\n      <td>-0.580929</td>\n      <td>0.496188</td>\n      <td>0.034237</td>\n      <td>0.661761</td>\n      <td>-0.400316</td>\n      <td>0.585455</td>\n      <td>-0.509694</td>\n      <td>-0.716021</td>\n      <td>0.214793</td>\n      <td>...</td>\n      <td>0.026374</td>\n      <td>0.025477</td>\n      <td>-0.176587</td>\n      <td>0.411878</td>\n      <td>0.245701</td>\n      <td>-0.311883</td>\n      <td>0.127958</td>\n      <td>-0.158784</td>\n      <td>0.056552</td>\n      <td>-0.197335</td>\n    </tr>\n  </tbody>\n</table>\n<p>19693 rows × 128 columns</p>\n</div>"
     },
     "execution_count": 21,
     "metadata": {},
     "output_type": "execute_result"
    }
   ],
   "source": [
    "emb_table = gene_emb.get_emb_table()\n",
    "emb_table"
   ]
  },
  {
   "cell_type": "code",
   "execution_count": 23,
   "outputs": [],
   "source": [
    "emb_table.to_csv('../../data/TabulaSapiens_d128.tsv', sep='\\t')"
   ],
   "metadata": {
    "collapsed": false,
    "ExecuteTime": {
     "end_time": "2024-01-09T16:11:30.249560462Z",
     "start_time": "2024-01-09T16:11:26.706131822Z"
    }
   },
   "id": "6dc69cc1e8bee80a"
  },
  {
   "cell_type": "markdown",
   "id": "fe81492f-5264-4f1e-8696-cebeaec41d9f",
   "metadata": {},
   "source": [
    "## remaining questions\n",
    "- which loss function to use\n",
    "- should the domain adaptation model be included (when there are more than one assays)\n",
    "- how to set the hypterparameters\n",
    "- should we use the compressed data after all since compressed data loses information"
   ]
  }
 ],
 "metadata": {
  "accelerator": "GPU",
  "colab": {
   "gpuType": "T4",
   "machine_shape": "hm",
   "provenance": []
  },
  "kernelspec": {
   "display_name": "Python 3 (ipykernel)",
   "language": "python",
   "name": "python3"
  },
  "language_info": {
   "codemirror_mode": {
    "name": "ipython",
    "version": 3
   },
   "file_extension": ".py",
   "mimetype": "text/x-python",
   "name": "python",
   "nbconvert_exporter": "python",
   "pygments_lexer": "ipython3",
   "version": "3.9.15"
  },
  "widgets": {
   "application/vnd.jupyter.widget-state+json": {
    "1136abb5a4b8487fb75cd2c13012e426": {
     "model_module": "@jupyter-widgets/base",
     "model_module_version": "1.2.0",
     "model_name": "LayoutModel",
     "state": {
      "_model_module": "@jupyter-widgets/base",
      "_model_module_version": "1.2.0",
      "_model_name": "LayoutModel",
      "_view_count": null,
      "_view_module": "@jupyter-widgets/base",
      "_view_module_version": "1.2.0",
      "_view_name": "LayoutView",
      "align_content": null,
      "align_items": null,
      "align_self": null,
      "border": null,
      "bottom": null,
      "display": null,
      "flex": null,
      "flex_flow": null,
      "grid_area": null,
      "grid_auto_columns": null,
      "grid_auto_flow": null,
      "grid_auto_rows": null,
      "grid_column": null,
      "grid_gap": null,
      "grid_row": null,
      "grid_template_areas": null,
      "grid_template_columns": null,
      "grid_template_rows": null,
      "height": null,
      "justify_content": null,
      "justify_items": null,
      "left": null,
      "margin": null,
      "max_height": null,
      "max_width": null,
      "min_height": null,
      "min_width": null,
      "object_fit": null,
      "object_position": null,
      "order": null,
      "overflow": null,
      "overflow_x": null,
      "overflow_y": null,
      "padding": null,
      "right": null,
      "top": null,
      "visibility": null,
      "width": null
     }
    },
    "301ab4ad468a41c8bc67d4893e7ef778": {
     "model_module": "@jupyter-widgets/controls",
     "model_module_version": "1.5.0",
     "model_name": "ProgressStyleModel",
     "state": {
      "_model_module": "@jupyter-widgets/controls",
      "_model_module_version": "1.5.0",
      "_model_name": "ProgressStyleModel",
      "_view_count": null,
      "_view_module": "@jupyter-widgets/base",
      "_view_module_version": "1.2.0",
      "_view_name": "StyleView",
      "bar_color": null,
      "description_width": ""
     }
    },
    "4c18822b98204a47a7e4ef960f5f7131": {
     "model_module": "@jupyter-widgets/controls",
     "model_module_version": "1.5.0",
     "model_name": "DescriptionStyleModel",
     "state": {
      "_model_module": "@jupyter-widgets/controls",
      "_model_module_version": "1.5.0",
      "_model_name": "DescriptionStyleModel",
      "_view_count": null,
      "_view_module": "@jupyter-widgets/base",
      "_view_module_version": "1.2.0",
      "_view_name": "StyleView",
      "description_width": ""
     }
    },
    "581371004b1b4943ba3f4f3155c40f77": {
     "model_module": "@jupyter-widgets/base",
     "model_module_version": "1.2.0",
     "model_name": "LayoutModel",
     "state": {
      "_model_module": "@jupyter-widgets/base",
      "_model_module_version": "1.2.0",
      "_model_name": "LayoutModel",
      "_view_count": null,
      "_view_module": "@jupyter-widgets/base",
      "_view_module_version": "1.2.0",
      "_view_name": "LayoutView",
      "align_content": null,
      "align_items": null,
      "align_self": null,
      "border": null,
      "bottom": null,
      "display": null,
      "flex": null,
      "flex_flow": null,
      "grid_area": null,
      "grid_auto_columns": null,
      "grid_auto_flow": null,
      "grid_auto_rows": null,
      "grid_column": null,
      "grid_gap": null,
      "grid_row": null,
      "grid_template_areas": null,
      "grid_template_columns": null,
      "grid_template_rows": null,
      "height": null,
      "justify_content": null,
      "justify_items": null,
      "left": null,
      "margin": null,
      "max_height": null,
      "max_width": null,
      "min_height": null,
      "min_width": null,
      "object_fit": null,
      "object_position": null,
      "order": null,
      "overflow": null,
      "overflow_x": null,
      "overflow_y": null,
      "padding": null,
      "right": null,
      "top": null,
      "visibility": null,
      "width": null
     }
    },
    "6b4755979e174e2a91c654593736b7b3": {
     "model_module": "@jupyter-widgets/controls",
     "model_module_version": "1.5.0",
     "model_name": "FloatProgressModel",
     "state": {
      "_dom_classes": [],
      "_model_module": "@jupyter-widgets/controls",
      "_model_module_version": "1.5.0",
      "_model_name": "FloatProgressModel",
      "_view_count": null,
      "_view_module": "@jupyter-widgets/controls",
      "_view_module_version": "1.5.0",
      "_view_name": "ProgressView",
      "bar_style": "",
      "description": "",
      "description_tooltip": null,
      "layout": "IPY_MODEL_581371004b1b4943ba3f4f3155c40f77",
      "max": 1,
      "min": 0,
      "orientation": "horizontal",
      "style": "IPY_MODEL_301ab4ad468a41c8bc67d4893e7ef778",
      "value": 1
     }
    },
    "a7414374dd604efcb19408757680c7dd": {
     "model_module": "@jupyter-widgets/base",
     "model_module_version": "1.2.0",
     "model_name": "LayoutModel",
     "state": {
      "_model_module": "@jupyter-widgets/base",
      "_model_module_version": "1.2.0",
      "_model_name": "LayoutModel",
      "_view_count": null,
      "_view_module": "@jupyter-widgets/base",
      "_view_module_version": "1.2.0",
      "_view_name": "LayoutView",
      "align_content": null,
      "align_items": null,
      "align_self": null,
      "border": null,
      "bottom": null,
      "display": null,
      "flex": null,
      "flex_flow": null,
      "grid_area": null,
      "grid_auto_columns": null,
      "grid_auto_flow": null,
      "grid_auto_rows": null,
      "grid_column": null,
      "grid_gap": null,
      "grid_row": null,
      "grid_template_areas": null,
      "grid_template_columns": null,
      "grid_template_rows": null,
      "height": null,
      "justify_content": null,
      "justify_items": null,
      "left": null,
      "margin": null,
      "max_height": null,
      "max_width": null,
      "min_height": null,
      "min_width": null,
      "object_fit": null,
      "object_position": null,
      "order": null,
      "overflow": null,
      "overflow_x": null,
      "overflow_y": null,
      "padding": null,
      "right": null,
      "top": null,
      "visibility": null,
      "width": null
     }
    },
    "b7b3132efca347cd80a382041ff7c1b9": {
     "model_module": "@jupyter-widgets/controls",
     "model_module_version": "1.5.0",
     "model_name": "VBoxModel",
     "state": {
      "_dom_classes": [],
      "_model_module": "@jupyter-widgets/controls",
      "_model_module_version": "1.5.0",
      "_model_name": "VBoxModel",
      "_view_count": null,
      "_view_module": "@jupyter-widgets/controls",
      "_view_module_version": "1.5.0",
      "_view_name": "VBoxView",
      "box_style": "",
      "children": [
       "IPY_MODEL_db3e705dbe4d48aa92f949e59913b0d4",
       "IPY_MODEL_6b4755979e174e2a91c654593736b7b3"
      ],
      "layout": "IPY_MODEL_1136abb5a4b8487fb75cd2c13012e426"
     }
    },
    "db3e705dbe4d48aa92f949e59913b0d4": {
     "model_module": "@jupyter-widgets/controls",
     "model_module_version": "1.5.0",
     "model_name": "LabelModel",
     "state": {
      "_dom_classes": [],
      "_model_module": "@jupyter-widgets/controls",
      "_model_module_version": "1.5.0",
      "_model_name": "LabelModel",
      "_view_count": null,
      "_view_module": "@jupyter-widgets/controls",
      "_view_module_version": "1.5.0",
      "_view_name": "LabelView",
      "description": "",
      "description_tooltip": null,
      "layout": "IPY_MODEL_a7414374dd604efcb19408757680c7dd",
      "placeholder": "​",
      "style": "IPY_MODEL_4c18822b98204a47a7e4ef960f5f7131",
      "value": "19.718 MB of 19.718 MB uploaded\r"
     }
    }
   }
  }
 },
 "nbformat": 4,
 "nbformat_minor": 5
}

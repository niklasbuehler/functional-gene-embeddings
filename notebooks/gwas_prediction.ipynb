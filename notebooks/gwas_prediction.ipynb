{
 "cells": [
  {
   "cell_type": "markdown",
   "source": [
    "# SysGen Functional Gene Embedding Project"
   ],
   "metadata": {
    "collapsed": false
   },
   "id": "3422a6b3f81d12ad"
  },
  {
   "cell_type": "code",
   "execution_count": 1,
   "outputs": [],
   "source": [
    "import pandas as pd\n",
    "import numpy as np\n",
    "from sklearn.model_selection import train_test_split\n",
    "from sklearn.linear_model import LinearRegression\n",
    "from sklearn.metrics import mean_squared_error, r2_score\n",
    "from sklearn.decomposition import PCA\n",
    "import xgboost as xgb\n",
    "import plotnine as p9\n",
    "import scipy.stats"
   ],
   "metadata": {
    "collapsed": false,
    "ExecuteTime": {
     "end_time": "2024-01-09T16:12:43.383004782Z",
     "start_time": "2024-01-09T16:12:37.641108799Z"
    }
   },
   "id": "881d50a6e591cc56"
  },
  {
   "cell_type": "markdown",
   "source": [
    "## Data Preparation"
   ],
   "metadata": {
    "collapsed": false
   },
   "id": "f3f6838626ee73bc"
  },
  {
   "cell_type": "markdown",
   "source": [
    "### Load Covariates"
   ],
   "metadata": {
    "collapsed": false
   },
   "id": "c812174fb4548d0e"
  },
  {
   "cell_type": "code",
   "execution_count": 2,
   "outputs": [],
   "source": [
    "def build_control_covariates(metadata):\n",
    "    genesize = metadata.NPARAM.values.astype(float)\n",
    "    genedensity = metadata.NPARAM.values/metadata.NSNPS.values\n",
    "    inverse_mac = 1.0/metadata.MAC.values\n",
    "    cov = np.stack((genesize, np.log(genesize), genedensity, np.log(genedensity), inverse_mac, np.log(inverse_mac)), axis=1)\n",
    "    return cov\n",
    "\n",
    "def munge_sigma(magma_gene_raw):\n",
    "    f = open(magma_gene_raw)\n",
    "    lines = list(f)[2:]\n",
    "    lines = [np.asarray(line.strip('\\n').split(' ')) for line in lines]\n",
    "    sigmas = []\n",
    "    gene_metadata = []\n",
    "    gene_lists = []\n",
    "    for chrom in range(1,23):\n",
    "        chr_start = min(np.where([int(line[1])==chrom for line in lines])[0])\n",
    "        chr_end = max(np.where([int(line[1])==chrom for line in lines])[0])\n",
    "        lines_chr = lines[chr_start:chr_end+1]\n",
    "        n_genes = len(lines_chr)\n",
    "        sigma_chr = np.zeros([n_genes, n_genes])\n",
    "        gene_NSNPs = np.zeros(n_genes)\n",
    "        gene_NPARAM = np.zeros(n_genes)\n",
    "        gene_MAC = np.zeros(n_genes)\n",
    "        for i in range(n_genes):\n",
    "            line = lines_chr[i]\n",
    "            gene_NSNPs[i] = line[4]\n",
    "            gene_NPARAM[i] = line[5]\n",
    "            gene_MAC[i] = line[7]\n",
    "            if line.shape[0] > 9:\n",
    "                gene_corrs = np.asarray([float(c) for c in line[9:]])\n",
    "                sigma_chr[i, i-gene_corrs.shape[0]:i] = gene_corrs\n",
    "        sigma_chr = sigma_chr+sigma_chr.T+np.identity(n_genes)\n",
    "        sigmas.append(sigma_chr)\n",
    "        gene_metadata_chr = pd.DataFrame(data={'NSNPS': gene_NSNPs, 'NPARAM': gene_NPARAM, 'MAC': gene_MAC})\n",
    "        gene_metadata.append(gene_metadata_chr)\n",
    "        gene_list_chr = [line[0] for line in lines_chr]\n",
    "        gene_lists.append(gene_list_chr)\n",
    "    return sigmas, gene_metadata, gene_lists"
   ],
   "metadata": {
    "collapsed": false,
    "ExecuteTime": {
     "end_time": "2024-01-09T16:12:43.431462447Z",
     "start_time": "2024-01-09T16:12:43.398468350Z"
    }
   },
   "id": "f7ec619abae479eb"
  },
  {
   "cell_type": "code",
   "execution_count": 3,
   "outputs": [],
   "source": [
    "sigmas, metadata, gene_lists = munge_sigma('../data/HDL_cholesterol.genes.raw')"
   ],
   "metadata": {
    "collapsed": false,
    "ExecuteTime": {
     "end_time": "2024-01-09T16:12:48.288417981Z",
     "start_time": "2024-01-09T16:12:43.411094789Z"
    }
   },
   "id": "eaef01d2cc5b6877"
  },
  {
   "cell_type": "code",
   "execution_count": 4,
   "outputs": [],
   "source": [
    "# create covariates from pops\n",
    "covariates = []\n",
    "for i in range(0, 22):\n",
    "    #print(i)\n",
    "    covariates.append(pd.DataFrame(build_control_covariates(metadata[i]),\n",
    "                                   index = gene_lists[i],\n",
    "                                   columns = ['genesize',\n",
    "                                              'log_genesize',\n",
    "                                              'genedensity',\n",
    "                                              'log_genedensity',\n",
    "                                              'inverse_mac',\n",
    "                                              'log_inverse_mac'])\n",
    "                      )\n",
    "covariates = pd.concat(covariates)"
   ],
   "metadata": {
    "collapsed": false,
    "ExecuteTime": {
     "end_time": "2024-01-09T16:12:48.427339037Z",
     "start_time": "2024-01-09T16:12:48.286792757Z"
    }
   },
   "id": "a5245c87dfee9cbf"
  },
  {
   "cell_type": "code",
   "execution_count": 5,
   "outputs": [
    {
     "data": {
      "text/plain": "                 genesize  log_genesize  genedensity  log_genedensity  \\\nENSG00000187634      21.0      3.044522     0.230769        -1.466337   \nENSG00000188976      11.0      2.397895     0.166667        -1.791759   \nENSG00000187961       7.0      1.945910     0.189189        -1.665008   \nENSG00000187583      19.0      2.944439     0.387755        -0.947381   \nENSG00000187642       7.0      1.945910     0.250000        -1.386294   \n...                   ...           ...          ...              ...   \nENSG00000008735      14.0      2.639057     0.212121        -1.550597   \nENSG00000100299      12.0      2.484907     0.333333        -1.098612   \nENSG00000251322      35.0      3.555348     0.207101        -1.574551   \nENSG00000100312      10.0      2.302585     0.277778        -1.280934   \nENSG00000079974       6.0      1.791759     0.162162        -1.819158   \n\n                 inverse_mac  log_inverse_mac  \nENSG00000187634     0.013156        -4.330878  \nENSG00000188976     0.019236        -3.950951  \nENSG00000187961     0.016599        -4.098390  \nENSG00000187583     0.011969        -4.425457  \nENSG00000187642     0.006525        -5.032071  \n...                      ...              ...  \nENSG00000008735     0.007717        -4.864268  \nENSG00000100299     0.008163        -4.808111  \nENSG00000251322     0.006002        -5.115722  \nENSG00000100312     0.005423        -5.217048  \nENSG00000079974     0.007884        -4.842911  \n\n[17973 rows x 6 columns]",
      "text/html": "<div>\n<style scoped>\n    .dataframe tbody tr th:only-of-type {\n        vertical-align: middle;\n    }\n\n    .dataframe tbody tr th {\n        vertical-align: top;\n    }\n\n    .dataframe thead th {\n        text-align: right;\n    }\n</style>\n<table border=\"1\" class=\"dataframe\">\n  <thead>\n    <tr style=\"text-align: right;\">\n      <th></th>\n      <th>genesize</th>\n      <th>log_genesize</th>\n      <th>genedensity</th>\n      <th>log_genedensity</th>\n      <th>inverse_mac</th>\n      <th>log_inverse_mac</th>\n    </tr>\n  </thead>\n  <tbody>\n    <tr>\n      <th>ENSG00000187634</th>\n      <td>21.0</td>\n      <td>3.044522</td>\n      <td>0.230769</td>\n      <td>-1.466337</td>\n      <td>0.013156</td>\n      <td>-4.330878</td>\n    </tr>\n    <tr>\n      <th>ENSG00000188976</th>\n      <td>11.0</td>\n      <td>2.397895</td>\n      <td>0.166667</td>\n      <td>-1.791759</td>\n      <td>0.019236</td>\n      <td>-3.950951</td>\n    </tr>\n    <tr>\n      <th>ENSG00000187961</th>\n      <td>7.0</td>\n      <td>1.945910</td>\n      <td>0.189189</td>\n      <td>-1.665008</td>\n      <td>0.016599</td>\n      <td>-4.098390</td>\n    </tr>\n    <tr>\n      <th>ENSG00000187583</th>\n      <td>19.0</td>\n      <td>2.944439</td>\n      <td>0.387755</td>\n      <td>-0.947381</td>\n      <td>0.011969</td>\n      <td>-4.425457</td>\n    </tr>\n    <tr>\n      <th>ENSG00000187642</th>\n      <td>7.0</td>\n      <td>1.945910</td>\n      <td>0.250000</td>\n      <td>-1.386294</td>\n      <td>0.006525</td>\n      <td>-5.032071</td>\n    </tr>\n    <tr>\n      <th>...</th>\n      <td>...</td>\n      <td>...</td>\n      <td>...</td>\n      <td>...</td>\n      <td>...</td>\n      <td>...</td>\n    </tr>\n    <tr>\n      <th>ENSG00000008735</th>\n      <td>14.0</td>\n      <td>2.639057</td>\n      <td>0.212121</td>\n      <td>-1.550597</td>\n      <td>0.007717</td>\n      <td>-4.864268</td>\n    </tr>\n    <tr>\n      <th>ENSG00000100299</th>\n      <td>12.0</td>\n      <td>2.484907</td>\n      <td>0.333333</td>\n      <td>-1.098612</td>\n      <td>0.008163</td>\n      <td>-4.808111</td>\n    </tr>\n    <tr>\n      <th>ENSG00000251322</th>\n      <td>35.0</td>\n      <td>3.555348</td>\n      <td>0.207101</td>\n      <td>-1.574551</td>\n      <td>0.006002</td>\n      <td>-5.115722</td>\n    </tr>\n    <tr>\n      <th>ENSG00000100312</th>\n      <td>10.0</td>\n      <td>2.302585</td>\n      <td>0.277778</td>\n      <td>-1.280934</td>\n      <td>0.005423</td>\n      <td>-5.217048</td>\n    </tr>\n    <tr>\n      <th>ENSG00000079974</th>\n      <td>6.0</td>\n      <td>1.791759</td>\n      <td>0.162162</td>\n      <td>-1.819158</td>\n      <td>0.007884</td>\n      <td>-4.842911</td>\n    </tr>\n  </tbody>\n</table>\n<p>17973 rows × 6 columns</p>\n</div>"
     },
     "execution_count": 5,
     "metadata": {},
     "output_type": "execute_result"
    }
   ],
   "source": [
    "covariates"
   ],
   "metadata": {
    "collapsed": false,
    "ExecuteTime": {
     "end_time": "2024-01-09T16:12:51.960303584Z",
     "start_time": "2024-01-09T16:12:51.778212119Z"
    }
   },
   "id": "f0b42b85709e1dfa"
  },
  {
   "cell_type": "markdown",
   "source": [
    "### Load Embeddings"
   ],
   "metadata": {
    "collapsed": false
   },
   "id": "8e15312073ca27bc"
  },
  {
   "cell_type": "code",
   "execution_count": 6,
   "outputs": [],
   "source": [
    "# emb_path = '../data/Omics_d256.tsv'\n",
    "emb_path = '../data/TabulaSapiens_d128.tsv'"
   ],
   "metadata": {
    "collapsed": false,
    "ExecuteTime": {
     "end_time": "2024-01-09T16:13:10.796063537Z",
     "start_time": "2024-01-09T16:13:10.727835581Z"
    }
   },
   "id": "b56f072ab8efe036"
  },
  {
   "cell_type": "code",
   "execution_count": 7,
   "outputs": [
    {
     "data": {
      "text/plain": "                 FACT_EMB_0  FACT_EMB_1  FACT_EMB_2  FACT_EMB_3  FACT_EMB_4  \\\ngene_id                                                                       \nENSG00000121410    0.397898   -0.619606    0.197080    0.206075    0.487327   \nENSG00000148584    0.019631    0.105285   -0.164675   -0.366149    0.041693   \nENSG00000175899    0.206388   -0.434583    0.135077    0.136972    0.349690   \nENSG00000166535    0.361388   -0.309084    0.044041   -0.345444    0.249813   \nENSG00000184389   -0.084553   -0.079659    0.521774   -0.344599    0.608893   \n...                     ...         ...         ...         ...         ...   \nENSG00000203995   -0.192088   -0.527726    0.564879    0.334749    0.164973   \nENSG00000162378    0.389417   -0.302356    0.226134    0.231177    0.633049   \nENSG00000159840    0.343140   -0.140446    0.471138    0.054814    0.631070   \nENSG00000074755    0.266091   -0.503978    0.428102    0.182519    0.198761   \nENSG00000036549    0.423279   -0.580929    0.496188    0.034237    0.661761   \n\n                 FACT_EMB_5  FACT_EMB_6  FACT_EMB_7  FACT_EMB_8  FACT_EMB_9  \\\ngene_id                                                                       \nENSG00000121410   -0.130210    0.694295    0.066933   -0.002644    0.019016   \nENSG00000148584   -0.605392    0.039391   -0.081647   -0.680132    0.417165   \nENSG00000175899   -0.053918    0.380534   -0.405700    0.025218   -0.166301   \nENSG00000166535   -0.171147    0.622800    0.097036   -0.022604    0.158737   \nENSG00000184389   -0.269933    0.134993    0.208777   -0.292158    0.041449   \n...                     ...         ...         ...         ...         ...   \nENSG00000203995   -0.011938   -0.005079    0.163140   -0.776939    0.165401   \nENSG00000162378   -0.378878    0.270924   -0.321942   -0.136347    0.192838   \nENSG00000159840    0.075271    0.560676   -0.242739   -0.427519    0.212996   \nENSG00000074755    0.126300   -0.011249    0.107005   -0.564683    0.551409   \nENSG00000036549   -0.400316    0.585455   -0.509694   -0.716021    0.214792   \n\n                 ...  FACT_EMB_118  FACT_EMB_119  FACT_EMB_120  FACT_EMB_121  \\\ngene_id          ...                                                           \nENSG00000121410  ...     -0.586537     -0.189327     -0.281588      0.794226   \nENSG00000148584  ...     -0.303413      0.135788     -0.749402      0.081660   \nENSG00000175899  ...      0.444234     -0.126186     -0.215977     -0.316875   \nENSG00000166535  ...     -0.357637      0.251788     -0.656097      0.422899   \nENSG00000184389  ...     -0.331455     -0.152695     -0.602804      0.640094   \n...              ...           ...           ...           ...           ...   \nENSG00000203995  ...     -0.316673      0.324286     -0.619148      0.269568   \nENSG00000162378  ...     -0.366426      0.143965     -0.476664      0.549909   \nENSG00000159840  ...     -0.346511      0.169067     -0.148972      0.167146   \nENSG00000074755  ...     -0.170520      0.176072     -0.537382      0.650437   \nENSG00000036549  ...      0.026374      0.025477     -0.176587      0.411878   \n\n                 FACT_EMB_122  FACT_EMB_123  FACT_EMB_124  FACT_EMB_125  \\\ngene_id                                                                   \nENSG00000121410      0.450134     -0.056704      0.189903      0.090775   \nENSG00000148584      0.071958     -0.663785      0.006457      0.008557   \nENSG00000175899     -0.029652     -0.274389      0.368234      0.035494   \nENSG00000166535      0.086865     -0.457098      0.814789      0.108453   \nENSG00000184389      0.303997     -0.311243      0.588258      0.301015   \n...                       ...           ...           ...           ...   \nENSG00000203995     -0.051767     -0.273430      0.619877      0.170769   \nENSG00000162378      0.454654     -0.310580      0.454901      0.000682   \nENSG00000159840      0.636596     -0.570514      0.616379      0.264107   \nENSG00000074755      0.091706     -0.097338      0.480337      0.037036   \nENSG00000036549      0.245701     -0.311883      0.127958     -0.158784   \n\n                 FACT_EMB_126  FACT_EMB_127  \ngene_id                                      \nENSG00000121410     -0.312061      0.013795  \nENSG00000148584     -0.572154     -0.091617  \nENSG00000175899     -0.097415      0.203788  \nENSG00000166535     -0.549387     -0.137657  \nENSG00000184389     -0.071225     -0.188245  \n...                       ...           ...  \nENSG00000203995     -0.324416     -0.575503  \nENSG00000162378      0.061252     -0.540969  \nENSG00000159840     -0.240854     -0.424334  \nENSG00000074755     -0.513692     -0.722857  \nENSG00000036549      0.056552     -0.197335  \n\n[19693 rows x 128 columns]",
      "text/html": "<div>\n<style scoped>\n    .dataframe tbody tr th:only-of-type {\n        vertical-align: middle;\n    }\n\n    .dataframe tbody tr th {\n        vertical-align: top;\n    }\n\n    .dataframe thead th {\n        text-align: right;\n    }\n</style>\n<table border=\"1\" class=\"dataframe\">\n  <thead>\n    <tr style=\"text-align: right;\">\n      <th></th>\n      <th>FACT_EMB_0</th>\n      <th>FACT_EMB_1</th>\n      <th>FACT_EMB_2</th>\n      <th>FACT_EMB_3</th>\n      <th>FACT_EMB_4</th>\n      <th>FACT_EMB_5</th>\n      <th>FACT_EMB_6</th>\n      <th>FACT_EMB_7</th>\n      <th>FACT_EMB_8</th>\n      <th>FACT_EMB_9</th>\n      <th>...</th>\n      <th>FACT_EMB_118</th>\n      <th>FACT_EMB_119</th>\n      <th>FACT_EMB_120</th>\n      <th>FACT_EMB_121</th>\n      <th>FACT_EMB_122</th>\n      <th>FACT_EMB_123</th>\n      <th>FACT_EMB_124</th>\n      <th>FACT_EMB_125</th>\n      <th>FACT_EMB_126</th>\n      <th>FACT_EMB_127</th>\n    </tr>\n    <tr>\n      <th>gene_id</th>\n      <th></th>\n      <th></th>\n      <th></th>\n      <th></th>\n      <th></th>\n      <th></th>\n      <th></th>\n      <th></th>\n      <th></th>\n      <th></th>\n      <th></th>\n      <th></th>\n      <th></th>\n      <th></th>\n      <th></th>\n      <th></th>\n      <th></th>\n      <th></th>\n      <th></th>\n      <th></th>\n      <th></th>\n    </tr>\n  </thead>\n  <tbody>\n    <tr>\n      <th>ENSG00000121410</th>\n      <td>0.397898</td>\n      <td>-0.619606</td>\n      <td>0.197080</td>\n      <td>0.206075</td>\n      <td>0.487327</td>\n      <td>-0.130210</td>\n      <td>0.694295</td>\n      <td>0.066933</td>\n      <td>-0.002644</td>\n      <td>0.019016</td>\n      <td>...</td>\n      <td>-0.586537</td>\n      <td>-0.189327</td>\n      <td>-0.281588</td>\n      <td>0.794226</td>\n      <td>0.450134</td>\n      <td>-0.056704</td>\n      <td>0.189903</td>\n      <td>0.090775</td>\n      <td>-0.312061</td>\n      <td>0.013795</td>\n    </tr>\n    <tr>\n      <th>ENSG00000148584</th>\n      <td>0.019631</td>\n      <td>0.105285</td>\n      <td>-0.164675</td>\n      <td>-0.366149</td>\n      <td>0.041693</td>\n      <td>-0.605392</td>\n      <td>0.039391</td>\n      <td>-0.081647</td>\n      <td>-0.680132</td>\n      <td>0.417165</td>\n      <td>...</td>\n      <td>-0.303413</td>\n      <td>0.135788</td>\n      <td>-0.749402</td>\n      <td>0.081660</td>\n      <td>0.071958</td>\n      <td>-0.663785</td>\n      <td>0.006457</td>\n      <td>0.008557</td>\n      <td>-0.572154</td>\n      <td>-0.091617</td>\n    </tr>\n    <tr>\n      <th>ENSG00000175899</th>\n      <td>0.206388</td>\n      <td>-0.434583</td>\n      <td>0.135077</td>\n      <td>0.136972</td>\n      <td>0.349690</td>\n      <td>-0.053918</td>\n      <td>0.380534</td>\n      <td>-0.405700</td>\n      <td>0.025218</td>\n      <td>-0.166301</td>\n      <td>...</td>\n      <td>0.444234</td>\n      <td>-0.126186</td>\n      <td>-0.215977</td>\n      <td>-0.316875</td>\n      <td>-0.029652</td>\n      <td>-0.274389</td>\n      <td>0.368234</td>\n      <td>0.035494</td>\n      <td>-0.097415</td>\n      <td>0.203788</td>\n    </tr>\n    <tr>\n      <th>ENSG00000166535</th>\n      <td>0.361388</td>\n      <td>-0.309084</td>\n      <td>0.044041</td>\n      <td>-0.345444</td>\n      <td>0.249813</td>\n      <td>-0.171147</td>\n      <td>0.622800</td>\n      <td>0.097036</td>\n      <td>-0.022604</td>\n      <td>0.158737</td>\n      <td>...</td>\n      <td>-0.357637</td>\n      <td>0.251788</td>\n      <td>-0.656097</td>\n      <td>0.422899</td>\n      <td>0.086865</td>\n      <td>-0.457098</td>\n      <td>0.814789</td>\n      <td>0.108453</td>\n      <td>-0.549387</td>\n      <td>-0.137657</td>\n    </tr>\n    <tr>\n      <th>ENSG00000184389</th>\n      <td>-0.084553</td>\n      <td>-0.079659</td>\n      <td>0.521774</td>\n      <td>-0.344599</td>\n      <td>0.608893</td>\n      <td>-0.269933</td>\n      <td>0.134993</td>\n      <td>0.208777</td>\n      <td>-0.292158</td>\n      <td>0.041449</td>\n      <td>...</td>\n      <td>-0.331455</td>\n      <td>-0.152695</td>\n      <td>-0.602804</td>\n      <td>0.640094</td>\n      <td>0.303997</td>\n      <td>-0.311243</td>\n      <td>0.588258</td>\n      <td>0.301015</td>\n      <td>-0.071225</td>\n      <td>-0.188245</td>\n    </tr>\n    <tr>\n      <th>...</th>\n      <td>...</td>\n      <td>...</td>\n      <td>...</td>\n      <td>...</td>\n      <td>...</td>\n      <td>...</td>\n      <td>...</td>\n      <td>...</td>\n      <td>...</td>\n      <td>...</td>\n      <td>...</td>\n      <td>...</td>\n      <td>...</td>\n      <td>...</td>\n      <td>...</td>\n      <td>...</td>\n      <td>...</td>\n      <td>...</td>\n      <td>...</td>\n      <td>...</td>\n      <td>...</td>\n    </tr>\n    <tr>\n      <th>ENSG00000203995</th>\n      <td>-0.192088</td>\n      <td>-0.527726</td>\n      <td>0.564879</td>\n      <td>0.334749</td>\n      <td>0.164973</td>\n      <td>-0.011938</td>\n      <td>-0.005079</td>\n      <td>0.163140</td>\n      <td>-0.776939</td>\n      <td>0.165401</td>\n      <td>...</td>\n      <td>-0.316673</td>\n      <td>0.324286</td>\n      <td>-0.619148</td>\n      <td>0.269568</td>\n      <td>-0.051767</td>\n      <td>-0.273430</td>\n      <td>0.619877</td>\n      <td>0.170769</td>\n      <td>-0.324416</td>\n      <td>-0.575503</td>\n    </tr>\n    <tr>\n      <th>ENSG00000162378</th>\n      <td>0.389417</td>\n      <td>-0.302356</td>\n      <td>0.226134</td>\n      <td>0.231177</td>\n      <td>0.633049</td>\n      <td>-0.378878</td>\n      <td>0.270924</td>\n      <td>-0.321942</td>\n      <td>-0.136347</td>\n      <td>0.192838</td>\n      <td>...</td>\n      <td>-0.366426</td>\n      <td>0.143965</td>\n      <td>-0.476664</td>\n      <td>0.549909</td>\n      <td>0.454654</td>\n      <td>-0.310580</td>\n      <td>0.454901</td>\n      <td>0.000682</td>\n      <td>0.061252</td>\n      <td>-0.540969</td>\n    </tr>\n    <tr>\n      <th>ENSG00000159840</th>\n      <td>0.343140</td>\n      <td>-0.140446</td>\n      <td>0.471138</td>\n      <td>0.054814</td>\n      <td>0.631070</td>\n      <td>0.075271</td>\n      <td>0.560676</td>\n      <td>-0.242739</td>\n      <td>-0.427519</td>\n      <td>0.212996</td>\n      <td>...</td>\n      <td>-0.346511</td>\n      <td>0.169067</td>\n      <td>-0.148972</td>\n      <td>0.167146</td>\n      <td>0.636596</td>\n      <td>-0.570514</td>\n      <td>0.616379</td>\n      <td>0.264107</td>\n      <td>-0.240854</td>\n      <td>-0.424334</td>\n    </tr>\n    <tr>\n      <th>ENSG00000074755</th>\n      <td>0.266091</td>\n      <td>-0.503978</td>\n      <td>0.428102</td>\n      <td>0.182519</td>\n      <td>0.198761</td>\n      <td>0.126300</td>\n      <td>-0.011249</td>\n      <td>0.107005</td>\n      <td>-0.564683</td>\n      <td>0.551409</td>\n      <td>...</td>\n      <td>-0.170520</td>\n      <td>0.176072</td>\n      <td>-0.537382</td>\n      <td>0.650437</td>\n      <td>0.091706</td>\n      <td>-0.097338</td>\n      <td>0.480337</td>\n      <td>0.037036</td>\n      <td>-0.513692</td>\n      <td>-0.722857</td>\n    </tr>\n    <tr>\n      <th>ENSG00000036549</th>\n      <td>0.423279</td>\n      <td>-0.580929</td>\n      <td>0.496188</td>\n      <td>0.034237</td>\n      <td>0.661761</td>\n      <td>-0.400316</td>\n      <td>0.585455</td>\n      <td>-0.509694</td>\n      <td>-0.716021</td>\n      <td>0.214792</td>\n      <td>...</td>\n      <td>0.026374</td>\n      <td>0.025477</td>\n      <td>-0.176587</td>\n      <td>0.411878</td>\n      <td>0.245701</td>\n      <td>-0.311883</td>\n      <td>0.127958</td>\n      <td>-0.158784</td>\n      <td>0.056552</td>\n      <td>-0.197335</td>\n    </tr>\n  </tbody>\n</table>\n<p>19693 rows × 128 columns</p>\n</div>"
     },
     "execution_count": 7,
     "metadata": {},
     "output_type": "execute_result"
    }
   ],
   "source": [
    "# load embedding\n",
    "emb = pd.read_csv(emb_path, sep = \"\\t\").set_index(\"gene_id\")\n",
    "emb"
   ],
   "metadata": {
    "collapsed": false,
    "ExecuteTime": {
     "end_time": "2024-01-09T16:13:15.158235421Z",
     "start_time": "2024-01-09T16:13:13.289994880Z"
    }
   },
   "id": "cf95187bbb505f8f"
  },
  {
   "cell_type": "markdown",
   "source": [
    "### Load GWAS MAGMA Scores"
   ],
   "metadata": {
    "collapsed": false
   },
   "id": "a968444ac9d04e84"
  },
  {
   "cell_type": "code",
   "execution_count": 8,
   "outputs": [
    {
     "data": {
      "text/plain": "                  GENE  CHR     START      STOP  NSNPS  NPARAM       N  \\\n0      ENSG00000187634    1    860260    879955     91      21  422405   \n1      ENSG00000188976    1    879584    894689     66      11  422405   \n2      ENSG00000187961    1    895967    901095     37       7  422405   \n3      ENSG00000187583    1    901877    911245     49      19  422405   \n4      ENSG00000187642    1    910579    917497     28       7  422405   \n...                ...  ...       ...       ...    ...     ...     ...   \n17968  ENSG00000008735   22  51039114  51052409     66      14  422405   \n17969  ENSG00000100299   22  51061182  51066607     36      12  422405   \n17970  ENSG00000251322   22  51112843  51171726    169      35  422405   \n17971  ENSG00000100312   22  51176624  51183762     36      10  422405   \n17972  ENSG00000079974   22  51205929  51222091     37       6  422405   \n\n         ZSTAT         P  \n0      1.89430  0.029092  \n1      3.07660  0.001047  \n2      3.00680  0.001320  \n3      1.90960  0.028095  \n4      3.89010  0.000050  \n...        ...       ...  \n17968  1.51710  0.064622  \n17969  2.77490  0.002761  \n17970  0.62568  0.265760  \n17971  1.33790  0.090472  \n17972  0.24099  0.404780  \n\n[17973 rows x 9 columns]",
      "text/html": "<div>\n<style scoped>\n    .dataframe tbody tr th:only-of-type {\n        vertical-align: middle;\n    }\n\n    .dataframe tbody tr th {\n        vertical-align: top;\n    }\n\n    .dataframe thead th {\n        text-align: right;\n    }\n</style>\n<table border=\"1\" class=\"dataframe\">\n  <thead>\n    <tr style=\"text-align: right;\">\n      <th></th>\n      <th>GENE</th>\n      <th>CHR</th>\n      <th>START</th>\n      <th>STOP</th>\n      <th>NSNPS</th>\n      <th>NPARAM</th>\n      <th>N</th>\n      <th>ZSTAT</th>\n      <th>P</th>\n    </tr>\n  </thead>\n  <tbody>\n    <tr>\n      <th>0</th>\n      <td>ENSG00000187634</td>\n      <td>1</td>\n      <td>860260</td>\n      <td>879955</td>\n      <td>91</td>\n      <td>21</td>\n      <td>422405</td>\n      <td>1.89430</td>\n      <td>0.029092</td>\n    </tr>\n    <tr>\n      <th>1</th>\n      <td>ENSG00000188976</td>\n      <td>1</td>\n      <td>879584</td>\n      <td>894689</td>\n      <td>66</td>\n      <td>11</td>\n      <td>422405</td>\n      <td>3.07660</td>\n      <td>0.001047</td>\n    </tr>\n    <tr>\n      <th>2</th>\n      <td>ENSG00000187961</td>\n      <td>1</td>\n      <td>895967</td>\n      <td>901095</td>\n      <td>37</td>\n      <td>7</td>\n      <td>422405</td>\n      <td>3.00680</td>\n      <td>0.001320</td>\n    </tr>\n    <tr>\n      <th>3</th>\n      <td>ENSG00000187583</td>\n      <td>1</td>\n      <td>901877</td>\n      <td>911245</td>\n      <td>49</td>\n      <td>19</td>\n      <td>422405</td>\n      <td>1.90960</td>\n      <td>0.028095</td>\n    </tr>\n    <tr>\n      <th>4</th>\n      <td>ENSG00000187642</td>\n      <td>1</td>\n      <td>910579</td>\n      <td>917497</td>\n      <td>28</td>\n      <td>7</td>\n      <td>422405</td>\n      <td>3.89010</td>\n      <td>0.000050</td>\n    </tr>\n    <tr>\n      <th>...</th>\n      <td>...</td>\n      <td>...</td>\n      <td>...</td>\n      <td>...</td>\n      <td>...</td>\n      <td>...</td>\n      <td>...</td>\n      <td>...</td>\n      <td>...</td>\n    </tr>\n    <tr>\n      <th>17968</th>\n      <td>ENSG00000008735</td>\n      <td>22</td>\n      <td>51039114</td>\n      <td>51052409</td>\n      <td>66</td>\n      <td>14</td>\n      <td>422405</td>\n      <td>1.51710</td>\n      <td>0.064622</td>\n    </tr>\n    <tr>\n      <th>17969</th>\n      <td>ENSG00000100299</td>\n      <td>22</td>\n      <td>51061182</td>\n      <td>51066607</td>\n      <td>36</td>\n      <td>12</td>\n      <td>422405</td>\n      <td>2.77490</td>\n      <td>0.002761</td>\n    </tr>\n    <tr>\n      <th>17970</th>\n      <td>ENSG00000251322</td>\n      <td>22</td>\n      <td>51112843</td>\n      <td>51171726</td>\n      <td>169</td>\n      <td>35</td>\n      <td>422405</td>\n      <td>0.62568</td>\n      <td>0.265760</td>\n    </tr>\n    <tr>\n      <th>17971</th>\n      <td>ENSG00000100312</td>\n      <td>22</td>\n      <td>51176624</td>\n      <td>51183762</td>\n      <td>36</td>\n      <td>10</td>\n      <td>422405</td>\n      <td>1.33790</td>\n      <td>0.090472</td>\n    </tr>\n    <tr>\n      <th>17972</th>\n      <td>ENSG00000079974</td>\n      <td>22</td>\n      <td>51205929</td>\n      <td>51222091</td>\n      <td>37</td>\n      <td>6</td>\n      <td>422405</td>\n      <td>0.24099</td>\n      <td>0.404780</td>\n    </tr>\n  </tbody>\n</table>\n<p>17973 rows × 9 columns</p>\n</div>"
     },
     "execution_count": 8,
     "metadata": {},
     "output_type": "execute_result"
    }
   ],
   "source": [
    "magma = pd.read_csv('../data/HDL_cholesterol.genes.out', delim_whitespace=True)\n",
    "magma"
   ],
   "metadata": {
    "collapsed": false,
    "ExecuteTime": {
     "end_time": "2024-01-09T16:13:22.389665721Z",
     "start_time": "2024-01-09T16:13:22.241746056Z"
    }
   },
   "id": "dffef81e8fbf5b18"
  },
  {
   "cell_type": "markdown",
   "source": [
    "### Merge Data"
   ],
   "metadata": {
    "collapsed": false
   },
   "id": "a6fbb304b2a2ecf6"
  },
  {
   "cell_type": "code",
   "execution_count": 9,
   "outputs": [],
   "source": [
    "magma = magma.merge(covariates, left_on = \"GENE\", right_index = True)"
   ],
   "metadata": {
    "collapsed": false,
    "ExecuteTime": {
     "end_time": "2024-01-09T16:13:27.322980296Z",
     "start_time": "2024-01-09T16:13:27.223720581Z"
    }
   },
   "id": "be6c962066667455"
  },
  {
   "cell_type": "code",
   "execution_count": 10,
   "outputs": [
    {
     "data": {
      "text/plain": "                  GENE  CHR     START      STOP  NSNPS  NPARAM       N  \\\n0      ENSG00000187634    1    860260    879955     91      21  422405   \n1      ENSG00000188976    1    879584    894689     66      11  422405   \n2      ENSG00000187961    1    895967    901095     37       7  422405   \n3      ENSG00000187583    1    901877    911245     49      19  422405   \n4      ENSG00000187642    1    910579    917497     28       7  422405   \n...                ...  ...       ...       ...    ...     ...     ...   \n17968  ENSG00000008735   22  51039114  51052409     66      14  422405   \n17969  ENSG00000100299   22  51061182  51066607     36      12  422405   \n17970  ENSG00000251322   22  51112843  51171726    169      35  422405   \n17971  ENSG00000100312   22  51176624  51183762     36      10  422405   \n17972  ENSG00000079974   22  51205929  51222091     37       6  422405   \n\n         ZSTAT         P  genesize  log_genesize  genedensity  \\\n0      1.89430  0.029092      21.0      3.044522     0.230769   \n1      3.07660  0.001047      11.0      2.397895     0.166667   \n2      3.00680  0.001320       7.0      1.945910     0.189189   \n3      1.90960  0.028095      19.0      2.944439     0.387755   \n4      3.89010  0.000050       7.0      1.945910     0.250000   \n...        ...       ...       ...           ...          ...   \n17968  1.51710  0.064622      14.0      2.639057     0.212121   \n17969  2.77490  0.002761      12.0      2.484907     0.333333   \n17970  0.62568  0.265760      35.0      3.555348     0.207101   \n17971  1.33790  0.090472      10.0      2.302585     0.277778   \n17972  0.24099  0.404780       6.0      1.791759     0.162162   \n\n       log_genedensity  inverse_mac  log_inverse_mac  \n0            -1.466337     0.013156        -4.330878  \n1            -1.791759     0.019236        -3.950951  \n2            -1.665008     0.016599        -4.098390  \n3            -0.947381     0.011969        -4.425457  \n4            -1.386294     0.006525        -5.032071  \n...                ...          ...              ...  \n17968        -1.550597     0.007717        -4.864268  \n17969        -1.098612     0.008163        -4.808111  \n17970        -1.574551     0.006002        -5.115722  \n17971        -1.280934     0.005423        -5.217048  \n17972        -1.819158     0.007884        -4.842911  \n\n[17973 rows x 15 columns]",
      "text/html": "<div>\n<style scoped>\n    .dataframe tbody tr th:only-of-type {\n        vertical-align: middle;\n    }\n\n    .dataframe tbody tr th {\n        vertical-align: top;\n    }\n\n    .dataframe thead th {\n        text-align: right;\n    }\n</style>\n<table border=\"1\" class=\"dataframe\">\n  <thead>\n    <tr style=\"text-align: right;\">\n      <th></th>\n      <th>GENE</th>\n      <th>CHR</th>\n      <th>START</th>\n      <th>STOP</th>\n      <th>NSNPS</th>\n      <th>NPARAM</th>\n      <th>N</th>\n      <th>ZSTAT</th>\n      <th>P</th>\n      <th>genesize</th>\n      <th>log_genesize</th>\n      <th>genedensity</th>\n      <th>log_genedensity</th>\n      <th>inverse_mac</th>\n      <th>log_inverse_mac</th>\n    </tr>\n  </thead>\n  <tbody>\n    <tr>\n      <th>0</th>\n      <td>ENSG00000187634</td>\n      <td>1</td>\n      <td>860260</td>\n      <td>879955</td>\n      <td>91</td>\n      <td>21</td>\n      <td>422405</td>\n      <td>1.89430</td>\n      <td>0.029092</td>\n      <td>21.0</td>\n      <td>3.044522</td>\n      <td>0.230769</td>\n      <td>-1.466337</td>\n      <td>0.013156</td>\n      <td>-4.330878</td>\n    </tr>\n    <tr>\n      <th>1</th>\n      <td>ENSG00000188976</td>\n      <td>1</td>\n      <td>879584</td>\n      <td>894689</td>\n      <td>66</td>\n      <td>11</td>\n      <td>422405</td>\n      <td>3.07660</td>\n      <td>0.001047</td>\n      <td>11.0</td>\n      <td>2.397895</td>\n      <td>0.166667</td>\n      <td>-1.791759</td>\n      <td>0.019236</td>\n      <td>-3.950951</td>\n    </tr>\n    <tr>\n      <th>2</th>\n      <td>ENSG00000187961</td>\n      <td>1</td>\n      <td>895967</td>\n      <td>901095</td>\n      <td>37</td>\n      <td>7</td>\n      <td>422405</td>\n      <td>3.00680</td>\n      <td>0.001320</td>\n      <td>7.0</td>\n      <td>1.945910</td>\n      <td>0.189189</td>\n      <td>-1.665008</td>\n      <td>0.016599</td>\n      <td>-4.098390</td>\n    </tr>\n    <tr>\n      <th>3</th>\n      <td>ENSG00000187583</td>\n      <td>1</td>\n      <td>901877</td>\n      <td>911245</td>\n      <td>49</td>\n      <td>19</td>\n      <td>422405</td>\n      <td>1.90960</td>\n      <td>0.028095</td>\n      <td>19.0</td>\n      <td>2.944439</td>\n      <td>0.387755</td>\n      <td>-0.947381</td>\n      <td>0.011969</td>\n      <td>-4.425457</td>\n    </tr>\n    <tr>\n      <th>4</th>\n      <td>ENSG00000187642</td>\n      <td>1</td>\n      <td>910579</td>\n      <td>917497</td>\n      <td>28</td>\n      <td>7</td>\n      <td>422405</td>\n      <td>3.89010</td>\n      <td>0.000050</td>\n      <td>7.0</td>\n      <td>1.945910</td>\n      <td>0.250000</td>\n      <td>-1.386294</td>\n      <td>0.006525</td>\n      <td>-5.032071</td>\n    </tr>\n    <tr>\n      <th>...</th>\n      <td>...</td>\n      <td>...</td>\n      <td>...</td>\n      <td>...</td>\n      <td>...</td>\n      <td>...</td>\n      <td>...</td>\n      <td>...</td>\n      <td>...</td>\n      <td>...</td>\n      <td>...</td>\n      <td>...</td>\n      <td>...</td>\n      <td>...</td>\n      <td>...</td>\n    </tr>\n    <tr>\n      <th>17968</th>\n      <td>ENSG00000008735</td>\n      <td>22</td>\n      <td>51039114</td>\n      <td>51052409</td>\n      <td>66</td>\n      <td>14</td>\n      <td>422405</td>\n      <td>1.51710</td>\n      <td>0.064622</td>\n      <td>14.0</td>\n      <td>2.639057</td>\n      <td>0.212121</td>\n      <td>-1.550597</td>\n      <td>0.007717</td>\n      <td>-4.864268</td>\n    </tr>\n    <tr>\n      <th>17969</th>\n      <td>ENSG00000100299</td>\n      <td>22</td>\n      <td>51061182</td>\n      <td>51066607</td>\n      <td>36</td>\n      <td>12</td>\n      <td>422405</td>\n      <td>2.77490</td>\n      <td>0.002761</td>\n      <td>12.0</td>\n      <td>2.484907</td>\n      <td>0.333333</td>\n      <td>-1.098612</td>\n      <td>0.008163</td>\n      <td>-4.808111</td>\n    </tr>\n    <tr>\n      <th>17970</th>\n      <td>ENSG00000251322</td>\n      <td>22</td>\n      <td>51112843</td>\n      <td>51171726</td>\n      <td>169</td>\n      <td>35</td>\n      <td>422405</td>\n      <td>0.62568</td>\n      <td>0.265760</td>\n      <td>35.0</td>\n      <td>3.555348</td>\n      <td>0.207101</td>\n      <td>-1.574551</td>\n      <td>0.006002</td>\n      <td>-5.115722</td>\n    </tr>\n    <tr>\n      <th>17971</th>\n      <td>ENSG00000100312</td>\n      <td>22</td>\n      <td>51176624</td>\n      <td>51183762</td>\n      <td>36</td>\n      <td>10</td>\n      <td>422405</td>\n      <td>1.33790</td>\n      <td>0.090472</td>\n      <td>10.0</td>\n      <td>2.302585</td>\n      <td>0.277778</td>\n      <td>-1.280934</td>\n      <td>0.005423</td>\n      <td>-5.217048</td>\n    </tr>\n    <tr>\n      <th>17972</th>\n      <td>ENSG00000079974</td>\n      <td>22</td>\n      <td>51205929</td>\n      <td>51222091</td>\n      <td>37</td>\n      <td>6</td>\n      <td>422405</td>\n      <td>0.24099</td>\n      <td>0.404780</td>\n      <td>6.0</td>\n      <td>1.791759</td>\n      <td>0.162162</td>\n      <td>-1.819158</td>\n      <td>0.007884</td>\n      <td>-4.842911</td>\n    </tr>\n  </tbody>\n</table>\n<p>17973 rows × 15 columns</p>\n</div>"
     },
     "execution_count": 10,
     "metadata": {},
     "output_type": "execute_result"
    }
   ],
   "source": [
    "magma"
   ],
   "metadata": {
    "collapsed": false,
    "ExecuteTime": {
     "end_time": "2024-01-09T16:13:27.802625442Z",
     "start_time": "2024-01-09T16:13:27.698993450Z"
    }
   },
   "id": "ebba78137a13c27d"
  },
  {
   "cell_type": "markdown",
   "source": [
    "### Project Y to LY"
   ],
   "metadata": {
    "collapsed": false
   },
   "id": "19963c5310e87f5e"
  },
  {
   "cell_type": "code",
   "execution_count": 11,
   "outputs": [],
   "source": [
    "def compute_Ls(sigmas, Y):\n",
    "    Ls = []\n",
    "    min_lambda=0\n",
    "    for sigma in sigmas:\n",
    "        W = np.linalg.eigvalsh(sigma)\n",
    "        min_lambda = min(min_lambda, min(W))\n",
    "    #Y = pd.read_table(args.gene_results+'.genes.out', delim_whitespace=True).ZSTAT.values\n",
    "    ridge = abs(min_lambda)+.05+.9*max(0, np.var(Y)-1)\n",
    "    for sigma in sigmas:\n",
    "        sigma = sigma+ridge*np.identity(sigma.shape[0])\n",
    "        L = np.linalg.cholesky(np.linalg.inv(sigma))\n",
    "        Ls.append(L)\n",
    "    return Ls"
   ],
   "metadata": {
    "collapsed": false,
    "ExecuteTime": {
     "end_time": "2024-01-09T16:13:30.011458201Z",
     "start_time": "2024-01-09T16:13:29.893089585Z"
    }
   },
   "id": "19e8e463343c4443"
  },
  {
   "cell_type": "code",
   "execution_count": 12,
   "outputs": [],
   "source": [
    "Ls = compute_Ls(sigmas, magma.ZSTAT)\n",
    "\n",
    "def project_Y(Ls, magma_Z):\n",
    "    LYs = []\n",
    "    for i in range(22):\n",
    "        L = Ls[i]\n",
    "        magma_temp = magma.set_index(\"GENE\").reindex(gene_lists[i]).reset_index()\n",
    "\n",
    "        LYs.append(pd.DataFrame({\"GENE\": magma_temp.GENE, \"LY\": np.matmul(L, magma_temp.ZSTAT)}))\n",
    "    return pd.concat(LYs)\n",
    "\n",
    "def project_Y_back(Ls, res):\n",
    "    LYs = []\n",
    "    for i in range(22):\n",
    "        L = np.linalg.inv(Ls[i])\n",
    "        temp = res.set_index(\"GENE\").reindex(gene_lists[i]).reset_index()\n",
    "\n",
    "        LYs.append(pd.DataFrame({\"GENE\": temp.dropna().GENE,\n",
    "                                 \"pred\": np.matmul(L[~temp.pred_LY.isna(), :][:, ~temp.pred_LY.isna()],\n",
    "                                                   temp.dropna().pred_LY),\n",
    "                                 }))\n",
    "    return pd.concat(LYs)\n",
    "\n",
    "magma = magma.merge(project_Y(Ls, magma))"
   ],
   "metadata": {
    "collapsed": false,
    "ExecuteTime": {
     "end_time": "2024-01-09T16:14:04.189984518Z",
     "start_time": "2024-01-09T16:13:30.509679736Z"
    }
   },
   "id": "dc02e39fcf45d6e3"
  },
  {
   "cell_type": "code",
   "execution_count": 13,
   "outputs": [
    {
     "data": {
      "text/plain": "                  GENE  CHR     START      STOP  NSNPS  NPARAM       N  \\\n0      ENSG00000187634    1    860260    879955     91      21  422405   \n1      ENSG00000188976    1    879584    894689     66      11  422405   \n2      ENSG00000187961    1    895967    901095     37       7  422405   \n3      ENSG00000187583    1    901877    911245     49      19  422405   \n4      ENSG00000187642    1    910579    917497     28       7  422405   \n...                ...  ...       ...       ...    ...     ...     ...   \n17968  ENSG00000008735   22  51039114  51052409     66      14  422405   \n17969  ENSG00000100299   22  51061182  51066607     36      12  422405   \n17970  ENSG00000251322   22  51112843  51171726    169      35  422405   \n17971  ENSG00000100312   22  51176624  51183762     36      10  422405   \n17972  ENSG00000079974   22  51205929  51222091     37       6  422405   \n\n         ZSTAT         P  genesize  log_genesize  genedensity  \\\n0      1.89430  0.029092      21.0      3.044522     0.230769   \n1      3.07660  0.001047      11.0      2.397895     0.166667   \n2      3.00680  0.001320       7.0      1.945910     0.189189   \n3      1.90960  0.028095      19.0      2.944439     0.387755   \n4      3.89010  0.000050       7.0      1.945910     0.250000   \n...        ...       ...       ...           ...          ...   \n17968  1.51710  0.064622      14.0      2.639057     0.212121   \n17969  2.77490  0.002761      12.0      2.484907     0.333333   \n17970  0.62568  0.265760      35.0      3.555348     0.207101   \n17971  1.33790  0.090472      10.0      2.302585     0.277778   \n17972  0.24099  0.404780       6.0      1.791759     0.162162   \n\n       log_genedensity  inverse_mac  log_inverse_mac        LY  \n0            -1.466337     0.013156        -4.330878  0.999534  \n1            -1.791759     0.019236        -3.950951  1.551349  \n2            -1.665008     0.016599        -4.098390  1.148646  \n3            -0.947381     0.011969        -4.425457  0.708156  \n4            -1.386294     0.006525        -5.032071  1.854531  \n...                ...          ...              ...       ...  \n17968        -1.550597     0.007717        -4.864268  0.512377  \n17969        -1.098612     0.008163        -4.808111  1.098611  \n17970        -1.574551     0.006002        -5.115722  0.082490  \n17971        -1.280934     0.005423        -5.217048  0.569190  \n17972        -1.819158     0.007884        -4.842911 -0.049906  \n\n[17973 rows x 16 columns]",
      "text/html": "<div>\n<style scoped>\n    .dataframe tbody tr th:only-of-type {\n        vertical-align: middle;\n    }\n\n    .dataframe tbody tr th {\n        vertical-align: top;\n    }\n\n    .dataframe thead th {\n        text-align: right;\n    }\n</style>\n<table border=\"1\" class=\"dataframe\">\n  <thead>\n    <tr style=\"text-align: right;\">\n      <th></th>\n      <th>GENE</th>\n      <th>CHR</th>\n      <th>START</th>\n      <th>STOP</th>\n      <th>NSNPS</th>\n      <th>NPARAM</th>\n      <th>N</th>\n      <th>ZSTAT</th>\n      <th>P</th>\n      <th>genesize</th>\n      <th>log_genesize</th>\n      <th>genedensity</th>\n      <th>log_genedensity</th>\n      <th>inverse_mac</th>\n      <th>log_inverse_mac</th>\n      <th>LY</th>\n    </tr>\n  </thead>\n  <tbody>\n    <tr>\n      <th>0</th>\n      <td>ENSG00000187634</td>\n      <td>1</td>\n      <td>860260</td>\n      <td>879955</td>\n      <td>91</td>\n      <td>21</td>\n      <td>422405</td>\n      <td>1.89430</td>\n      <td>0.029092</td>\n      <td>21.0</td>\n      <td>3.044522</td>\n      <td>0.230769</td>\n      <td>-1.466337</td>\n      <td>0.013156</td>\n      <td>-4.330878</td>\n      <td>0.999534</td>\n    </tr>\n    <tr>\n      <th>1</th>\n      <td>ENSG00000188976</td>\n      <td>1</td>\n      <td>879584</td>\n      <td>894689</td>\n      <td>66</td>\n      <td>11</td>\n      <td>422405</td>\n      <td>3.07660</td>\n      <td>0.001047</td>\n      <td>11.0</td>\n      <td>2.397895</td>\n      <td>0.166667</td>\n      <td>-1.791759</td>\n      <td>0.019236</td>\n      <td>-3.950951</td>\n      <td>1.551349</td>\n    </tr>\n    <tr>\n      <th>2</th>\n      <td>ENSG00000187961</td>\n      <td>1</td>\n      <td>895967</td>\n      <td>901095</td>\n      <td>37</td>\n      <td>7</td>\n      <td>422405</td>\n      <td>3.00680</td>\n      <td>0.001320</td>\n      <td>7.0</td>\n      <td>1.945910</td>\n      <td>0.189189</td>\n      <td>-1.665008</td>\n      <td>0.016599</td>\n      <td>-4.098390</td>\n      <td>1.148646</td>\n    </tr>\n    <tr>\n      <th>3</th>\n      <td>ENSG00000187583</td>\n      <td>1</td>\n      <td>901877</td>\n      <td>911245</td>\n      <td>49</td>\n      <td>19</td>\n      <td>422405</td>\n      <td>1.90960</td>\n      <td>0.028095</td>\n      <td>19.0</td>\n      <td>2.944439</td>\n      <td>0.387755</td>\n      <td>-0.947381</td>\n      <td>0.011969</td>\n      <td>-4.425457</td>\n      <td>0.708156</td>\n    </tr>\n    <tr>\n      <th>4</th>\n      <td>ENSG00000187642</td>\n      <td>1</td>\n      <td>910579</td>\n      <td>917497</td>\n      <td>28</td>\n      <td>7</td>\n      <td>422405</td>\n      <td>3.89010</td>\n      <td>0.000050</td>\n      <td>7.0</td>\n      <td>1.945910</td>\n      <td>0.250000</td>\n      <td>-1.386294</td>\n      <td>0.006525</td>\n      <td>-5.032071</td>\n      <td>1.854531</td>\n    </tr>\n    <tr>\n      <th>...</th>\n      <td>...</td>\n      <td>...</td>\n      <td>...</td>\n      <td>...</td>\n      <td>...</td>\n      <td>...</td>\n      <td>...</td>\n      <td>...</td>\n      <td>...</td>\n      <td>...</td>\n      <td>...</td>\n      <td>...</td>\n      <td>...</td>\n      <td>...</td>\n      <td>...</td>\n      <td>...</td>\n    </tr>\n    <tr>\n      <th>17968</th>\n      <td>ENSG00000008735</td>\n      <td>22</td>\n      <td>51039114</td>\n      <td>51052409</td>\n      <td>66</td>\n      <td>14</td>\n      <td>422405</td>\n      <td>1.51710</td>\n      <td>0.064622</td>\n      <td>14.0</td>\n      <td>2.639057</td>\n      <td>0.212121</td>\n      <td>-1.550597</td>\n      <td>0.007717</td>\n      <td>-4.864268</td>\n      <td>0.512377</td>\n    </tr>\n    <tr>\n      <th>17969</th>\n      <td>ENSG00000100299</td>\n      <td>22</td>\n      <td>51061182</td>\n      <td>51066607</td>\n      <td>36</td>\n      <td>12</td>\n      <td>422405</td>\n      <td>2.77490</td>\n      <td>0.002761</td>\n      <td>12.0</td>\n      <td>2.484907</td>\n      <td>0.333333</td>\n      <td>-1.098612</td>\n      <td>0.008163</td>\n      <td>-4.808111</td>\n      <td>1.098611</td>\n    </tr>\n    <tr>\n      <th>17970</th>\n      <td>ENSG00000251322</td>\n      <td>22</td>\n      <td>51112843</td>\n      <td>51171726</td>\n      <td>169</td>\n      <td>35</td>\n      <td>422405</td>\n      <td>0.62568</td>\n      <td>0.265760</td>\n      <td>35.0</td>\n      <td>3.555348</td>\n      <td>0.207101</td>\n      <td>-1.574551</td>\n      <td>0.006002</td>\n      <td>-5.115722</td>\n      <td>0.082490</td>\n    </tr>\n    <tr>\n      <th>17971</th>\n      <td>ENSG00000100312</td>\n      <td>22</td>\n      <td>51176624</td>\n      <td>51183762</td>\n      <td>36</td>\n      <td>10</td>\n      <td>422405</td>\n      <td>1.33790</td>\n      <td>0.090472</td>\n      <td>10.0</td>\n      <td>2.302585</td>\n      <td>0.277778</td>\n      <td>-1.280934</td>\n      <td>0.005423</td>\n      <td>-5.217048</td>\n      <td>0.569190</td>\n    </tr>\n    <tr>\n      <th>17972</th>\n      <td>ENSG00000079974</td>\n      <td>22</td>\n      <td>51205929</td>\n      <td>51222091</td>\n      <td>37</td>\n      <td>6</td>\n      <td>422405</td>\n      <td>0.24099</td>\n      <td>0.404780</td>\n      <td>6.0</td>\n      <td>1.791759</td>\n      <td>0.162162</td>\n      <td>-1.819158</td>\n      <td>0.007884</td>\n      <td>-4.842911</td>\n      <td>-0.049906</td>\n    </tr>\n  </tbody>\n</table>\n<p>17973 rows × 16 columns</p>\n</div>"
     },
     "execution_count": 13,
     "metadata": {},
     "output_type": "execute_result"
    }
   ],
   "source": [
    "magma"
   ],
   "metadata": {
    "collapsed": false,
    "ExecuteTime": {
     "end_time": "2024-01-09T16:14:04.344833400Z",
     "start_time": "2024-01-09T16:14:04.188425054Z"
    }
   },
   "id": "e723c698b597ee46"
  },
  {
   "cell_type": "markdown",
   "source": [
    "### Merge Data"
   ],
   "metadata": {
    "collapsed": false
   },
   "id": "10638a47a605f0dc"
  },
  {
   "cell_type": "code",
   "execution_count": 14,
   "outputs": [],
   "source": [
    "# merge with embedding\n",
    "dt = magma.merge(emb, left_on = \"GENE\", right_on = \"gene_id\")"
   ],
   "metadata": {
    "collapsed": false,
    "ExecuteTime": {
     "end_time": "2024-01-09T16:14:04.345641083Z",
     "start_time": "2024-01-09T16:14:04.266374043Z"
    }
   },
   "id": "98c5c07cafeed9ed"
  },
  {
   "cell_type": "markdown",
   "source": [
    "## Regression\n",
    "\n",
    "Split by Chromosomes."
   ],
   "metadata": {
    "collapsed": false
   },
   "id": "ad069b5370b7fab8"
  },
  {
   "cell_type": "code",
   "execution_count": 15,
   "outputs": [
    {
     "name": "stdout",
     "output_type": "stream",
     "text": [
      "Chrom: 1: R2: 0.05099379242251353\n",
      "Chrom: 2: R2: 0.08586852320402485\n",
      "Chrom: 3: R2: 0.04631388404033613\n",
      "Chrom: 4: R2: 0.034853147512094285\n",
      "Chrom: 5: R2: 0.07185389367014995\n",
      "Chrom: 6: R2: 0.023484498789707174\n",
      "Chrom: 7: R2: 0.03672946090522651\n",
      "Chrom: 8: R2: 0.06489075155608892\n",
      "Chrom: 9: R2: 0.0507536503645008\n",
      "Chrom: 10: R2: 0.048830403901810204\n",
      "Chrom: 11: R2: 0.03206011359320616\n",
      "Chrom: 12: R2: 0.029728877015914167\n",
      "Chrom: 13: R2: 0.061498465131198686\n",
      "Chrom: 14: R2: 0.0377912608993518\n",
      "Chrom: 15: R2: 0.07524775086967747\n",
      "Chrom: 16: R2: 0.043241870456996574\n",
      "Chrom: 17: R2: 0.02983618698630172\n",
      "Chrom: 18: R2: 0.02590073930577077\n",
      "Chrom: 19: R2: 0.04011999593104609\n",
      "Chrom: 20: R2: 0.04394459368991046\n",
      "Chrom: 21: R2: 0.21067533582026443\n",
      "Chrom: 22: R2: 0.008186955871895028\n",
      "Overall R2: 0.08115402645080058\n",
      "Per chrom R2:\n",
      "0.05642746034701697\n",
      "0.04824792656957603\n",
      "0.14223567227864434\n",
      "0.04004781987653469\n",
      "0.05711330849919376\n",
      "0.25297903089228346\n",
      "0.02731632759632501\n",
      "0.04942916953445188\n",
      "0.06442779165741842\n",
      "0.03232340966322793\n",
      "0.08484024415185047\n",
      "0.05973089800490419\n",
      "0.036275629004701083\n",
      "0.0653651178678568\n",
      "0.08956491368166301\n",
      "0.12794609062897966\n",
      "0.043827035636996636\n",
      "0.030871999961441906\n",
      "0.022261051954432787\n",
      "0.19958196218960647\n",
      "0.20985833164114387\n",
      "0.07382793734289456\n"
     ]
    }
   ],
   "source": [
    "df = []\n",
    "for chrom in range(1,23):\n",
    "    reg = xgb.XGBRegressor(tree_method=\"hist\", reg_lambda = 1000, reg_alpha = 100)\n",
    "    mod = reg.fit(\n",
    "        dt.query(\"CHR != @chrom\").drop([\"GENE\", \"CHR\", \"START\", \"STOP\", \"NSNPS\", \"NPARAM\", \"N\", \"ZSTAT\", \"P\", \"LY\"], axis=1),\n",
    "        dt.query(\"CHR != @chrom\")['LY']\n",
    "    )\n",
    "    pred = mod.predict(\n",
    "        dt.query(\"CHR == @chrom\").drop([\"GENE\", \"CHR\", \"START\", \"STOP\", \"NSNPS\", \"NPARAM\", \"N\", \"ZSTAT\", \"P\", \"LY\"], axis=1),\n",
    "    )\n",
    "\n",
    "    df_chrom = dt.query(\"CHR == @chrom\")[[\"GENE\", \"CHR\", \"START\", \"STOP\", \"NSNPS\", \"NPARAM\", \"N\", \"ZSTAT\", \"P\", \"LY\"]]\n",
    "    df_chrom['pred_LY'] = pred\n",
    "\n",
    "    df.append(df_chrom)\n",
    "    print(f\"Chrom: {chrom}: R2: {scipy.stats.pearsonr(df_chrom.LY, df_chrom.pred_LY)[0]**2}\")\n",
    "\n",
    "print()\n",
    "\n",
    "df = pd.concat(df)\n",
    "df = df.merge(project_Y_back(Ls, df))\n",
    "\n",
    "print(f\"Overall R2: {scipy.stats.pearsonr(df.ZSTAT, df.pred)[0]**2}\")\n",
    "print(\"Per chrom R2:\")\n",
    "\n",
    "for i in range(1, 23):\n",
    "    df_tmp = df.query(\"CHR == @i\")\n",
    "\n",
    "    print(scipy.stats.pearsonr(df_tmp.ZSTAT, df_tmp.pred)[0]**2)\n",
    "\n",
    "# df.to_csv(snakemake.output.pred, sep = '\\t')"
   ],
   "metadata": {
    "collapsed": false,
    "ExecuteTime": {
     "end_time": "2024-01-09T16:17:09.281019667Z",
     "start_time": "2024-01-09T16:14:04.333230422Z"
    }
   },
   "id": "c1f629d807781d80"
  },
  {
   "cell_type": "markdown",
   "source": [
    "## Old code"
   ],
   "metadata": {
    "collapsed": false
   },
   "id": "60e45f66691ddf04"
  },
  {
   "cell_type": "code",
   "execution_count": 16,
   "outputs": [
    {
     "ename": "NameError",
     "evalue": "name 'merged_data' is not defined",
     "output_type": "error",
     "traceback": [
      "\u001B[0;31m---------------------------------------------------------------------------\u001B[0m",
      "\u001B[0;31mNameError\u001B[0m                                 Traceback (most recent call last)",
      "Cell \u001B[0;32mIn[16], line 1\u001B[0m\n\u001B[0;32m----> 1\u001B[0m X \u001B[38;5;241m=\u001B[39m \u001B[43mmerged_data\u001B[49m\u001B[38;5;241m.\u001B[39miloc[:, \u001B[38;5;241m1\u001B[39m:\u001B[38;5;241m257\u001B[39m]  \u001B[38;5;66;03m# Columns 1 to 256 are the embedding features\u001B[39;00m\n\u001B[1;32m      2\u001B[0m y \u001B[38;5;241m=\u001B[39m merged_data[\u001B[38;5;124m'\u001B[39m\u001B[38;5;124mZSTAT\u001B[39m\u001B[38;5;124m'\u001B[39m]\n\u001B[1;32m      3\u001B[0m X_train, X_test, y_train, y_test \u001B[38;5;241m=\u001B[39m train_test_split(X, y, test_size\u001B[38;5;241m=\u001B[39m\u001B[38;5;241m0.2\u001B[39m, random_state\u001B[38;5;241m=\u001B[39m\u001B[38;5;241m42\u001B[39m)\n",
      "\u001B[0;31mNameError\u001B[0m: name 'merged_data' is not defined"
     ]
    }
   ],
   "source": [
    "X = merged_data.iloc[:, 1:257]  # Columns 1 to 256 are the embedding features\n",
    "y = merged_data['ZSTAT']\n",
    "X_train, X_test, y_train, y_test = train_test_split(X, y, test_size=0.2, random_state=42)"
   ],
   "metadata": {
    "collapsed": false,
    "ExecuteTime": {
     "end_time": "2023-12-27T14:47:46.333309664Z",
     "start_time": "2023-12-27T14:47:46.066327400Z"
    }
   },
   "id": "145903ba7fdb459c"
  },
  {
   "cell_type": "code",
   "execution_count": null,
   "outputs": [],
   "source": [
    "model = LinearRegression()\n",
    "model.fit(X_train, y_train)"
   ],
   "metadata": {
    "collapsed": false,
    "ExecuteTime": {
     "start_time": "2023-12-27T14:47:46.337971030Z"
    }
   },
   "id": "5b8486d8cd3cba04"
  },
  {
   "cell_type": "code",
   "execution_count": null,
   "outputs": [],
   "source": [
    "# Predictions\n",
    "predictions = model.predict(X_test)\n",
    "predictions"
   ],
   "metadata": {
    "collapsed": false,
    "ExecuteTime": {
     "start_time": "2023-12-27T14:47:46.341365478Z"
    }
   },
   "id": "45b22535fa689286"
  },
  {
   "cell_type": "code",
   "execution_count": null,
   "outputs": [],
   "source": [
    "# Evaluate Model\n",
    "mse = mean_squared_error(y_test, predictions)\n",
    "r2 = r2_score(y_test, predictions)\n",
    "\n",
    "print(f'Mean Squared Error: {mse}')\n",
    "print(f'R2 Score: {r2}')"
   ],
   "metadata": {
    "collapsed": false,
    "ExecuteTime": {
     "start_time": "2023-12-27T14:47:46.345794571Z"
    }
   },
   "id": "initial_id"
  },
  {
   "cell_type": "code",
   "execution_count": null,
   "outputs": [],
   "source": [
    "# Perform PCA\n",
    "pca = PCA(n_components=10)  # Set the desired number of principal components\n",
    "principal_components = pca.fit_transform(X)"
   ],
   "metadata": {
    "collapsed": false,
    "ExecuteTime": {
     "start_time": "2023-12-27T14:47:46.390383421Z"
    }
   },
   "id": "4c5990501498b6d9"
  },
  {
   "cell_type": "code",
   "execution_count": null,
   "outputs": [],
   "source": [
    "# Create DataFrame with Principal Components\n",
    "pc_columns = [f'PC{i}' for i in range(1, pca.n_components_ + 1)]\n",
    "pc_df = pd.DataFrame(data=principal_components, columns=pc_columns)\n",
    "pc_df"
   ],
   "metadata": {
    "collapsed": false,
    "ExecuteTime": {
     "start_time": "2023-12-27T14:47:46.390839610Z"
    }
   },
   "id": "3e089126369e4a87"
  },
  {
   "cell_type": "code",
   "execution_count": null,
   "outputs": [],
   "source": [
    "# Concatenate PCA components with original data\n",
    "merged_data_pca = pd.concat([pc_df, y], axis=1)\n",
    "\n",
    "# Split Data\n",
    "X_pca = merged_data_pca.iloc[:, :-2]  # Exclude GENE and ZSTAT columns\n",
    "y_pca = merged_data_pca['ZSTAT']\n",
    "X_train_pca, X_test_pca, y_train_pca, y_test_pca = train_test_split(X_pca, y_pca, test_size=0.2, random_state=42)"
   ],
   "metadata": {
    "collapsed": false,
    "ExecuteTime": {
     "start_time": "2023-12-27T14:47:46.391192617Z"
    }
   },
   "id": "102bb3c63f3b73e"
  },
  {
   "cell_type": "code",
   "execution_count": null,
   "outputs": [],
   "source": [
    "# Train Linear Regression Model on PCA components\n",
    "model_pca = LinearRegression()\n",
    "model_pca.fit(X_train_pca, y_train_pca)"
   ],
   "metadata": {
    "collapsed": false,
    "ExecuteTime": {
     "start_time": "2023-12-27T14:47:46.392284521Z"
    }
   },
   "id": "1c7dc249226cf6cc"
  },
  {
   "cell_type": "code",
   "execution_count": null,
   "outputs": [],
   "source": [
    "# Predictions using PCA components\n",
    "predictions_pca = model_pca.predict(X_test_pca)\n",
    "predictions_pca"
   ],
   "metadata": {
    "collapsed": false,
    "ExecuteTime": {
     "end_time": "2023-12-27T14:47:46.418934738Z",
     "start_time": "2023-12-27T14:47:46.392592206Z"
    }
   },
   "id": "312413597b9e4f68"
  },
  {
   "cell_type": "code",
   "execution_count": null,
   "outputs": [],
   "source": [
    "# Evaluate Model with PCA\n",
    "mse_pca = mean_squared_error(y_test_pca, predictions_pca)\n",
    "r2_pca = r2_score(y_test_pca, predictions_pca)\n",
    "\n",
    "print(f'Mean Squared Error with PCA: {mse_pca}')\n",
    "print(f'R2 Score with PCA: {r2_pca}')"
   ],
   "metadata": {
    "collapsed": false,
    "ExecuteTime": {
     "start_time": "2023-12-27T14:47:46.392833490Z"
    }
   },
   "id": "935a367e4fdaa60c"
  },
  {
   "cell_type": "code",
   "execution_count": null,
   "outputs": [],
   "source": [
    "import torch\n",
    "import torch.nn as nn\n",
    "import torch.optim as optim\n",
    "import numpy as np\n",
    "from sklearn.preprocessing import StandardScaler"
   ],
   "metadata": {
    "collapsed": false,
    "ExecuteTime": {
     "start_time": "2023-12-27T14:47:46.393072070Z"
    }
   },
   "id": "541323850523c937"
  },
  {
   "cell_type": "code",
   "execution_count": null,
   "outputs": [],
   "source": [
    "# Standardize the data\n",
    "scaler = StandardScaler()\n",
    "X_standardized = scaler.fit_transform(X)\n",
    "\n",
    "# Split Data\n",
    "X_train, X_test = train_test_split(X_standardized, test_size=0.2, random_state=42)"
   ],
   "metadata": {
    "collapsed": false,
    "ExecuteTime": {
     "start_time": "2023-12-27T14:47:46.393301800Z"
    }
   },
   "id": "25ee47b2ae3c688b"
  },
  {
   "cell_type": "code",
   "execution_count": null,
   "outputs": [],
   "source": [
    "# PyTorch Autoencoder\n",
    "class Autoencoder(nn.Module):\n",
    "    def __init__(self, input_size, encoding_dim):\n",
    "        super(Autoencoder, self).__init__()\n",
    "        self.encoder = nn.Linear(input_size, encoding_dim)\n",
    "        self.decoder = nn.Linear(encoding_dim, input_size)\n",
    "\n",
    "    def forward(self, x):\n",
    "        x = torch.relu(self.encoder(x))\n",
    "        x = self.decoder(x)\n",
    "        return x\n",
    "\n",
    "# Train Autoencoder\n",
    "def train_autoencoder(model, criterion, optimizer, data, num_epochs=10):\n",
    "    for epoch in range(num_epochs):\n",
    "        model.train()\n",
    "        optimizer.zero_grad()\n",
    "        outputs = model(data)\n",
    "        loss = criterion(outputs, data)\n",
    "        loss.backward()\n",
    "        optimizer.step()\n",
    "\n",
    "        if epoch % 100 == 0:\n",
    "            print(f'Epoch {epoch}/{num_epochs}, Loss: {loss.item()}')\n",
    "\n",
    "# Create PyTorch DataLoader\n",
    "train_data = torch.Tensor(X_train)\n",
    "test_data = torch.Tensor(X_test)\n",
    "\n",
    "# Parameters\n",
    "input_size = X_train.shape[1]\n",
    "encoding_dim = 64\n",
    "\n",
    "# Initialize Autoencoder\n",
    "autoencoder = Autoencoder(input_size, encoding_dim)\n",
    "criterion = nn.MSELoss()\n",
    "optimizer = optim.Adam(autoencoder.parameters(), lr=0.001)"
   ],
   "metadata": {
    "collapsed": false,
    "ExecuteTime": {
     "start_time": "2023-12-27T14:47:46.393602732Z"
    }
   },
   "id": "47f904c2c14820d8"
  },
  {
   "cell_type": "code",
   "execution_count": null,
   "outputs": [],
   "source": [
    "# Train Autoencoder\n",
    "train_autoencoder(autoencoder, criterion, optimizer, train_data, num_epochs=500)"
   ],
   "metadata": {
    "collapsed": false,
    "ExecuteTime": {
     "start_time": "2023-12-27T14:47:46.394968381Z"
    }
   },
   "id": "d7ea0eaabac7c7aa"
  },
  {
   "cell_type": "code",
   "execution_count": null,
   "outputs": [],
   "source": [
    "# Evaluate Autoencoder\n",
    "autoencoder.eval()\n",
    "encoded_data = autoencoder.encoder(test_data).detach().numpy()"
   ],
   "metadata": {
    "collapsed": false,
    "ExecuteTime": {
     "start_time": "2023-12-27T14:47:46.395409504Z"
    }
   },
   "id": "e5ce86994327a7b7"
  },
  {
   "cell_type": "code",
   "execution_count": null,
   "outputs": [],
   "source": [
    "# PCA\n",
    "pca = PCA(n_components=encoding_dim)\n",
    "pca.fit(X_train)\n",
    "pca_data = pca.transform(X_test)\n",
    "\n",
    "# Compare Autoencoder and PCA\n",
    "mse_autoencoder = mean_squared_error(test_data.numpy(), autoencoder(test_data).detach().numpy())\n",
    "mse_pca = mean_squared_error(X_test, pca.inverse_transform(pca_data))\n",
    "\n",
    "print(f'Mean Squared Error for Autoencoder: {mse_autoencoder}')\n",
    "print(f'Mean Squared Error for PCA: {mse_pca}')"
   ],
   "metadata": {
    "collapsed": false,
    "ExecuteTime": {
     "start_time": "2023-12-27T14:47:46.395719598Z"
    }
   },
   "id": "eacd9661ecf0d800"
  }
 ],
 "metadata": {
  "kernelspec": {
   "display_name": "Python 3",
   "language": "python",
   "name": "python3"
  },
  "language_info": {
   "codemirror_mode": {
    "name": "ipython",
    "version": 2
   },
   "file_extension": ".py",
   "mimetype": "text/x-python",
   "name": "python",
   "nbconvert_exporter": "python",
   "pygments_lexer": "ipython2",
   "version": "2.7.6"
  }
 },
 "nbformat": 4,
 "nbformat_minor": 5
}

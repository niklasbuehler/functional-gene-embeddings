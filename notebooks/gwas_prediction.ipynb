{
 "cells": [
  {
   "cell_type": "markdown",
   "source": [
    "# SysGen Functional Gene Embedding Project"
   ],
   "metadata": {
    "collapsed": false
   },
   "id": "3422a6b3f81d12ad"
  },
  {
   "cell_type": "code",
   "execution_count": 1,
   "outputs": [],
   "source": [
    "import pandas as pd\n",
    "import numpy as np\n",
    "from sklearn.model_selection import train_test_split\n",
    "from sklearn.linear_model import LinearRegression\n",
    "from sklearn.metrics import mean_squared_error, r2_score\n",
    "from sklearn.decomposition import PCA\n",
    "import xgboost as xgb\n",
    "import plotnine as p9\n",
    "import scipy.stats"
   ],
   "metadata": {
    "collapsed": false,
    "ExecuteTime": {
     "end_time": "2023-12-27T14:45:45.778645844Z",
     "start_time": "2023-12-27T14:45:44.851616925Z"
    }
   },
   "id": "881d50a6e591cc56"
  },
  {
   "cell_type": "markdown",
   "source": [
    "## Data Preparation"
   ],
   "metadata": {
    "collapsed": false
   },
   "id": "f3f6838626ee73bc"
  },
  {
   "cell_type": "markdown",
   "source": [
    "### Load Covariates"
   ],
   "metadata": {
    "collapsed": false
   },
   "id": "c812174fb4548d0e"
  },
  {
   "cell_type": "code",
   "execution_count": 2,
   "outputs": [],
   "source": [
    "def build_control_covariates(metadata):\n",
    "    genesize = metadata.NPARAM.values.astype(float)\n",
    "    genedensity = metadata.NPARAM.values/metadata.NSNPS.values\n",
    "    inverse_mac = 1.0/metadata.MAC.values\n",
    "    cov = np.stack((genesize, np.log(genesize), genedensity, np.log(genedensity), inverse_mac, np.log(inverse_mac)), axis=1)\n",
    "    return cov\n",
    "\n",
    "def munge_sigma(magma_gene_raw):\n",
    "    f = open(magma_gene_raw)\n",
    "    lines = list(f)[2:]\n",
    "    lines = [np.asarray(line.strip('\\n').split(' ')) for line in lines]\n",
    "    sigmas = []\n",
    "    gene_metadata = []\n",
    "    gene_lists = []\n",
    "    for chrom in range(1,23):\n",
    "        chr_start = min(np.where([int(line[1])==chrom for line in lines])[0])\n",
    "        chr_end = max(np.where([int(line[1])==chrom for line in lines])[0])\n",
    "        lines_chr = lines[chr_start:chr_end+1]\n",
    "        n_genes = len(lines_chr)\n",
    "        sigma_chr = np.zeros([n_genes, n_genes])\n",
    "        gene_NSNPs = np.zeros(n_genes)\n",
    "        gene_NPARAM = np.zeros(n_genes)\n",
    "        gene_MAC = np.zeros(n_genes)\n",
    "        for i in range(n_genes):\n",
    "            line = lines_chr[i]\n",
    "            gene_NSNPs[i] = line[4]\n",
    "            gene_NPARAM[i] = line[5]\n",
    "            gene_MAC[i] = line[7]\n",
    "            if line.shape[0] > 9:\n",
    "                gene_corrs = np.asarray([float(c) for c in line[9:]])\n",
    "                sigma_chr[i, i-gene_corrs.shape[0]:i] = gene_corrs\n",
    "        sigma_chr = sigma_chr+sigma_chr.T+np.identity(n_genes)\n",
    "        sigmas.append(sigma_chr)\n",
    "        gene_metadata_chr = pd.DataFrame(data={'NSNPS': gene_NSNPs, 'NPARAM': gene_NPARAM, 'MAC': gene_MAC})\n",
    "        gene_metadata.append(gene_metadata_chr)\n",
    "        gene_list_chr = [line[0] for line in lines_chr]\n",
    "        gene_lists.append(gene_list_chr)\n",
    "    return sigmas, gene_metadata, gene_lists"
   ],
   "metadata": {
    "collapsed": false,
    "ExecuteTime": {
     "end_time": "2023-12-27T14:45:45.779085927Z",
     "start_time": "2023-12-27T14:45:45.778153461Z"
    }
   },
   "id": "f7ec619abae479eb"
  },
  {
   "cell_type": "code",
   "execution_count": 3,
   "outputs": [],
   "source": [
    "sigmas, metadata, gene_lists = munge_sigma('../data/HDL_cholesterol.genes.raw')"
   ],
   "metadata": {
    "collapsed": false,
    "ExecuteTime": {
     "end_time": "2023-12-27T14:45:47.055338642Z",
     "start_time": "2023-12-27T14:45:45.778491813Z"
    }
   },
   "id": "eaef01d2cc5b6877"
  },
  {
   "cell_type": "code",
   "execution_count": 4,
   "outputs": [],
   "source": [
    "# create covariates from pops\n",
    "covariates = []\n",
    "for i in range(0, 22):\n",
    "    #print(i)\n",
    "    covariates.append(pd.DataFrame(build_control_covariates(metadata[i]),\n",
    "                                   index = gene_lists[i],\n",
    "                                   columns = ['genesize',\n",
    "                                              'log_genesize',\n",
    "                                              'genedensity',\n",
    "                                              'log_genedensity',\n",
    "                                              'inverse_mac',\n",
    "                                              'log_inverse_mac'])\n",
    "                      )\n",
    "covariates = pd.concat(covariates)"
   ],
   "metadata": {
    "collapsed": false,
    "ExecuteTime": {
     "end_time": "2023-12-27T14:45:47.106745732Z",
     "start_time": "2023-12-27T14:45:47.060264788Z"
    }
   },
   "id": "a5245c87dfee9cbf"
  },
  {
   "cell_type": "code",
   "execution_count": 5,
   "outputs": [
    {
     "data": {
      "text/plain": "                 genesize  log_genesize  genedensity  log_genedensity  \\\nENSG00000187634      21.0      3.044522     0.230769        -1.466337   \nENSG00000188976      11.0      2.397895     0.166667        -1.791759   \nENSG00000187961       7.0      1.945910     0.189189        -1.665008   \nENSG00000187583      19.0      2.944439     0.387755        -0.947381   \nENSG00000187642       7.0      1.945910     0.250000        -1.386294   \n...                   ...           ...          ...              ...   \nENSG00000008735      14.0      2.639057     0.212121        -1.550597   \nENSG00000100299      12.0      2.484907     0.333333        -1.098612   \nENSG00000251322      35.0      3.555348     0.207101        -1.574551   \nENSG00000100312      10.0      2.302585     0.277778        -1.280934   \nENSG00000079974       6.0      1.791759     0.162162        -1.819158   \n\n                 inverse_mac  log_inverse_mac  \nENSG00000187634     0.013156        -4.330878  \nENSG00000188976     0.019236        -3.950951  \nENSG00000187961     0.016599        -4.098390  \nENSG00000187583     0.011969        -4.425457  \nENSG00000187642     0.006525        -5.032071  \n...                      ...              ...  \nENSG00000008735     0.007717        -4.864268  \nENSG00000100299     0.008163        -4.808111  \nENSG00000251322     0.006002        -5.115722  \nENSG00000100312     0.005423        -5.217048  \nENSG00000079974     0.007884        -4.842911  \n\n[17973 rows x 6 columns]",
      "text/html": "<div>\n<style scoped>\n    .dataframe tbody tr th:only-of-type {\n        vertical-align: middle;\n    }\n\n    .dataframe tbody tr th {\n        vertical-align: top;\n    }\n\n    .dataframe thead th {\n        text-align: right;\n    }\n</style>\n<table border=\"1\" class=\"dataframe\">\n  <thead>\n    <tr style=\"text-align: right;\">\n      <th></th>\n      <th>genesize</th>\n      <th>log_genesize</th>\n      <th>genedensity</th>\n      <th>log_genedensity</th>\n      <th>inverse_mac</th>\n      <th>log_inverse_mac</th>\n    </tr>\n  </thead>\n  <tbody>\n    <tr>\n      <th>ENSG00000187634</th>\n      <td>21.0</td>\n      <td>3.044522</td>\n      <td>0.230769</td>\n      <td>-1.466337</td>\n      <td>0.013156</td>\n      <td>-4.330878</td>\n    </tr>\n    <tr>\n      <th>ENSG00000188976</th>\n      <td>11.0</td>\n      <td>2.397895</td>\n      <td>0.166667</td>\n      <td>-1.791759</td>\n      <td>0.019236</td>\n      <td>-3.950951</td>\n    </tr>\n    <tr>\n      <th>ENSG00000187961</th>\n      <td>7.0</td>\n      <td>1.945910</td>\n      <td>0.189189</td>\n      <td>-1.665008</td>\n      <td>0.016599</td>\n      <td>-4.098390</td>\n    </tr>\n    <tr>\n      <th>ENSG00000187583</th>\n      <td>19.0</td>\n      <td>2.944439</td>\n      <td>0.387755</td>\n      <td>-0.947381</td>\n      <td>0.011969</td>\n      <td>-4.425457</td>\n    </tr>\n    <tr>\n      <th>ENSG00000187642</th>\n      <td>7.0</td>\n      <td>1.945910</td>\n      <td>0.250000</td>\n      <td>-1.386294</td>\n      <td>0.006525</td>\n      <td>-5.032071</td>\n    </tr>\n    <tr>\n      <th>...</th>\n      <td>...</td>\n      <td>...</td>\n      <td>...</td>\n      <td>...</td>\n      <td>...</td>\n      <td>...</td>\n    </tr>\n    <tr>\n      <th>ENSG00000008735</th>\n      <td>14.0</td>\n      <td>2.639057</td>\n      <td>0.212121</td>\n      <td>-1.550597</td>\n      <td>0.007717</td>\n      <td>-4.864268</td>\n    </tr>\n    <tr>\n      <th>ENSG00000100299</th>\n      <td>12.0</td>\n      <td>2.484907</td>\n      <td>0.333333</td>\n      <td>-1.098612</td>\n      <td>0.008163</td>\n      <td>-4.808111</td>\n    </tr>\n    <tr>\n      <th>ENSG00000251322</th>\n      <td>35.0</td>\n      <td>3.555348</td>\n      <td>0.207101</td>\n      <td>-1.574551</td>\n      <td>0.006002</td>\n      <td>-5.115722</td>\n    </tr>\n    <tr>\n      <th>ENSG00000100312</th>\n      <td>10.0</td>\n      <td>2.302585</td>\n      <td>0.277778</td>\n      <td>-1.280934</td>\n      <td>0.005423</td>\n      <td>-5.217048</td>\n    </tr>\n    <tr>\n      <th>ENSG00000079974</th>\n      <td>6.0</td>\n      <td>1.791759</td>\n      <td>0.162162</td>\n      <td>-1.819158</td>\n      <td>0.007884</td>\n      <td>-4.842911</td>\n    </tr>\n  </tbody>\n</table>\n<p>17973 rows × 6 columns</p>\n</div>"
     },
     "execution_count": 5,
     "metadata": {},
     "output_type": "execute_result"
    }
   ],
   "source": [
    "covariates"
   ],
   "metadata": {
    "collapsed": false,
    "ExecuteTime": {
     "end_time": "2023-12-27T14:45:47.108967692Z",
     "start_time": "2023-12-27T14:45:47.080461849Z"
    }
   },
   "id": "f0b42b85709e1dfa"
  },
  {
   "cell_type": "markdown",
   "source": [
    "### Load Embeddings"
   ],
   "metadata": {
    "collapsed": false
   },
   "id": "8e15312073ca27bc"
  },
  {
   "cell_type": "code",
   "execution_count": 6,
   "outputs": [],
   "source": [
    "emb_path = '../data/Omics_d256.tsv'"
   ],
   "metadata": {
    "collapsed": false,
    "ExecuteTime": {
     "end_time": "2023-12-27T14:45:47.109468620Z",
     "start_time": "2023-12-27T14:45:47.099983820Z"
    }
   },
   "id": "b56f072ab8efe036"
  },
  {
   "cell_type": "code",
   "execution_count": 7,
   "outputs": [
    {
     "data": {
      "text/plain": "                 FACT_EMB_0  FACT_EMB_1  FACT_EMB_2  FACT_EMB_3  FACT_EMB_4  \\\ngene_id                                                                       \nENSG00000000003   -1.193790   -0.038485    0.477347   -1.355883   -1.283844   \nENSG00000000005   -0.678243   -0.082044    0.628727   -0.036960   -0.327301   \nENSG00000000419    0.763473    0.029731    0.157848   -1.063333   -1.121445   \nENSG00000000457    0.500445    0.107114    0.758035   -1.097068    0.355529   \nENSG00000000460    0.085451    0.300662   -0.520867   -0.111104    0.116884   \n...                     ...         ...         ...         ...         ...   \nENSG00000280178    0.151255    0.066157    0.085184   -0.053143   -0.270811   \nENSG00000280253    0.139209    0.173939   -0.025301    0.197056   -0.086932   \nENSG00000280267   -0.799880   -0.290801    0.281187   -0.347249   -0.004650   \nENSG00000280297    0.125944    0.020628   -0.069116   -0.076246   -0.322970   \nENSG00000280433    0.137917    0.355594   -0.161207   -0.017142   -0.096485   \n\n                 FACT_EMB_5  FACT_EMB_6  FACT_EMB_7  FACT_EMB_8  FACT_EMB_9  \\\ngene_id                                                                       \nENSG00000000003    0.577406   -0.085741   -0.141601    0.929133    1.186045   \nENSG00000000005   -0.132137   -0.658378    0.382881    0.321670    0.529753   \nENSG00000000419    0.855230    0.054342    0.782584    0.679390    1.211714   \nENSG00000000457    0.676653    0.562473   -0.585225    0.680695    0.630335   \nENSG00000000460    1.271965    0.750282   -0.769611    0.652003    0.748371   \n...                     ...         ...         ...         ...         ...   \nENSG00000280178    0.211693   -0.401942    0.048608    0.396584   -0.216256   \nENSG00000280253    0.248732   -0.317894    0.000547    0.264560   -0.110397   \nENSG00000280267    0.019152    0.336727    0.289013   -0.390199   -0.204644   \nENSG00000280297    0.216778   -0.389412    0.208437    0.143095   -0.213645   \nENSG00000280433    0.333895   -0.323954    0.023822    0.129767    0.179938   \n\n                 ...  FACT_EMB_246  FACT_EMB_247  FACT_EMB_248  FACT_EMB_249  \\\ngene_id          ...                                                           \nENSG00000000003  ...      1.202038     -0.015473      0.732149     -0.470897   \nENSG00000000005  ...      0.158936      1.025258     -0.944454     -0.110598   \nENSG00000000419  ...      0.215326     -0.662693      0.154820      0.359877   \nENSG00000000457  ...     -0.443879      0.226092      0.258948      0.716421   \nENSG00000000460  ...     -0.781987     -0.538280     -1.022490     -0.261985   \n...              ...           ...           ...           ...           ...   \nENSG00000280178  ...      0.036106      0.029502     -0.247412     -0.039378   \nENSG00000280253  ...      0.139947     -0.031823     -0.109894      0.097934   \nENSG00000280267  ...     -0.213539     -0.293435     -0.636833      0.811885   \nENSG00000280297  ...     -0.069501      0.155821     -0.123458      0.270595   \nENSG00000280433  ...      0.141053     -0.084122     -0.224260      0.109534   \n\n                 FACT_EMB_250  FACT_EMB_251  FACT_EMB_252  FACT_EMB_253  \\\ngene_id                                                                   \nENSG00000000003      0.163932      0.514095     -1.121097      0.353111   \nENSG00000000005      0.059320     -0.250677     -0.524779     -0.302290   \nENSG00000000419     -0.675248     -0.293355     -0.355871      0.380746   \nENSG00000000457      0.022804     -0.488464     -0.700852     -0.285765   \nENSG00000000460     -0.225361      0.223187     -0.840165      1.048801   \n...                       ...           ...           ...           ...   \nENSG00000280178     -0.355921     -0.143174     -0.001159      0.033741   \nENSG00000280253     -0.243768     -0.176109     -0.002984     -0.027844   \nENSG00000280267     -0.119030      0.375083      0.600217     -0.772333   \nENSG00000280297     -0.460678      0.027504      0.098230     -0.058452   \nENSG00000280433     -0.150956     -0.119640      0.128425      0.017256   \n\n                 FACT_EMB_254  FACT_EMB_255  \ngene_id                                      \nENSG00000000003     -0.375309      0.271749  \nENSG00000000005      0.627002      0.164144  \nENSG00000000419     -0.834603     -0.782095  \nENSG00000000457      0.137165     -0.220267  \nENSG00000000460     -0.219930     -0.667091  \n...                       ...           ...  \nENSG00000280178     -0.136875     -0.467921  \nENSG00000280253      0.069011     -0.645361  \nENSG00000280267      0.670361     -0.510163  \nENSG00000280297      0.088184     -0.454670  \nENSG00000280433     -0.099188     -0.617878  \n\n[19385 rows x 256 columns]",
      "text/html": "<div>\n<style scoped>\n    .dataframe tbody tr th:only-of-type {\n        vertical-align: middle;\n    }\n\n    .dataframe tbody tr th {\n        vertical-align: top;\n    }\n\n    .dataframe thead th {\n        text-align: right;\n    }\n</style>\n<table border=\"1\" class=\"dataframe\">\n  <thead>\n    <tr style=\"text-align: right;\">\n      <th></th>\n      <th>FACT_EMB_0</th>\n      <th>FACT_EMB_1</th>\n      <th>FACT_EMB_2</th>\n      <th>FACT_EMB_3</th>\n      <th>FACT_EMB_4</th>\n      <th>FACT_EMB_5</th>\n      <th>FACT_EMB_6</th>\n      <th>FACT_EMB_7</th>\n      <th>FACT_EMB_8</th>\n      <th>FACT_EMB_9</th>\n      <th>...</th>\n      <th>FACT_EMB_246</th>\n      <th>FACT_EMB_247</th>\n      <th>FACT_EMB_248</th>\n      <th>FACT_EMB_249</th>\n      <th>FACT_EMB_250</th>\n      <th>FACT_EMB_251</th>\n      <th>FACT_EMB_252</th>\n      <th>FACT_EMB_253</th>\n      <th>FACT_EMB_254</th>\n      <th>FACT_EMB_255</th>\n    </tr>\n    <tr>\n      <th>gene_id</th>\n      <th></th>\n      <th></th>\n      <th></th>\n      <th></th>\n      <th></th>\n      <th></th>\n      <th></th>\n      <th></th>\n      <th></th>\n      <th></th>\n      <th></th>\n      <th></th>\n      <th></th>\n      <th></th>\n      <th></th>\n      <th></th>\n      <th></th>\n      <th></th>\n      <th></th>\n      <th></th>\n      <th></th>\n    </tr>\n  </thead>\n  <tbody>\n    <tr>\n      <th>ENSG00000000003</th>\n      <td>-1.193790</td>\n      <td>-0.038485</td>\n      <td>0.477347</td>\n      <td>-1.355883</td>\n      <td>-1.283844</td>\n      <td>0.577406</td>\n      <td>-0.085741</td>\n      <td>-0.141601</td>\n      <td>0.929133</td>\n      <td>1.186045</td>\n      <td>...</td>\n      <td>1.202038</td>\n      <td>-0.015473</td>\n      <td>0.732149</td>\n      <td>-0.470897</td>\n      <td>0.163932</td>\n      <td>0.514095</td>\n      <td>-1.121097</td>\n      <td>0.353111</td>\n      <td>-0.375309</td>\n      <td>0.271749</td>\n    </tr>\n    <tr>\n      <th>ENSG00000000005</th>\n      <td>-0.678243</td>\n      <td>-0.082044</td>\n      <td>0.628727</td>\n      <td>-0.036960</td>\n      <td>-0.327301</td>\n      <td>-0.132137</td>\n      <td>-0.658378</td>\n      <td>0.382881</td>\n      <td>0.321670</td>\n      <td>0.529753</td>\n      <td>...</td>\n      <td>0.158936</td>\n      <td>1.025258</td>\n      <td>-0.944454</td>\n      <td>-0.110598</td>\n      <td>0.059320</td>\n      <td>-0.250677</td>\n      <td>-0.524779</td>\n      <td>-0.302290</td>\n      <td>0.627002</td>\n      <td>0.164144</td>\n    </tr>\n    <tr>\n      <th>ENSG00000000419</th>\n      <td>0.763473</td>\n      <td>0.029731</td>\n      <td>0.157848</td>\n      <td>-1.063333</td>\n      <td>-1.121445</td>\n      <td>0.855230</td>\n      <td>0.054342</td>\n      <td>0.782584</td>\n      <td>0.679390</td>\n      <td>1.211714</td>\n      <td>...</td>\n      <td>0.215326</td>\n      <td>-0.662693</td>\n      <td>0.154820</td>\n      <td>0.359877</td>\n      <td>-0.675248</td>\n      <td>-0.293355</td>\n      <td>-0.355871</td>\n      <td>0.380746</td>\n      <td>-0.834603</td>\n      <td>-0.782095</td>\n    </tr>\n    <tr>\n      <th>ENSG00000000457</th>\n      <td>0.500445</td>\n      <td>0.107114</td>\n      <td>0.758035</td>\n      <td>-1.097068</td>\n      <td>0.355529</td>\n      <td>0.676653</td>\n      <td>0.562473</td>\n      <td>-0.585225</td>\n      <td>0.680695</td>\n      <td>0.630335</td>\n      <td>...</td>\n      <td>-0.443879</td>\n      <td>0.226092</td>\n      <td>0.258948</td>\n      <td>0.716421</td>\n      <td>0.022804</td>\n      <td>-0.488464</td>\n      <td>-0.700852</td>\n      <td>-0.285765</td>\n      <td>0.137165</td>\n      <td>-0.220267</td>\n    </tr>\n    <tr>\n      <th>ENSG00000000460</th>\n      <td>0.085451</td>\n      <td>0.300662</td>\n      <td>-0.520867</td>\n      <td>-0.111104</td>\n      <td>0.116884</td>\n      <td>1.271965</td>\n      <td>0.750282</td>\n      <td>-0.769611</td>\n      <td>0.652003</td>\n      <td>0.748371</td>\n      <td>...</td>\n      <td>-0.781987</td>\n      <td>-0.538280</td>\n      <td>-1.022490</td>\n      <td>-0.261985</td>\n      <td>-0.225361</td>\n      <td>0.223187</td>\n      <td>-0.840165</td>\n      <td>1.048801</td>\n      <td>-0.219930</td>\n      <td>-0.667091</td>\n    </tr>\n    <tr>\n      <th>...</th>\n      <td>...</td>\n      <td>...</td>\n      <td>...</td>\n      <td>...</td>\n      <td>...</td>\n      <td>...</td>\n      <td>...</td>\n      <td>...</td>\n      <td>...</td>\n      <td>...</td>\n      <td>...</td>\n      <td>...</td>\n      <td>...</td>\n      <td>...</td>\n      <td>...</td>\n      <td>...</td>\n      <td>...</td>\n      <td>...</td>\n      <td>...</td>\n      <td>...</td>\n      <td>...</td>\n    </tr>\n    <tr>\n      <th>ENSG00000280178</th>\n      <td>0.151255</td>\n      <td>0.066157</td>\n      <td>0.085184</td>\n      <td>-0.053143</td>\n      <td>-0.270811</td>\n      <td>0.211693</td>\n      <td>-0.401942</td>\n      <td>0.048608</td>\n      <td>0.396584</td>\n      <td>-0.216256</td>\n      <td>...</td>\n      <td>0.036106</td>\n      <td>0.029502</td>\n      <td>-0.247412</td>\n      <td>-0.039378</td>\n      <td>-0.355921</td>\n      <td>-0.143174</td>\n      <td>-0.001159</td>\n      <td>0.033741</td>\n      <td>-0.136875</td>\n      <td>-0.467921</td>\n    </tr>\n    <tr>\n      <th>ENSG00000280253</th>\n      <td>0.139209</td>\n      <td>0.173939</td>\n      <td>-0.025301</td>\n      <td>0.197056</td>\n      <td>-0.086932</td>\n      <td>0.248732</td>\n      <td>-0.317894</td>\n      <td>0.000547</td>\n      <td>0.264560</td>\n      <td>-0.110397</td>\n      <td>...</td>\n      <td>0.139947</td>\n      <td>-0.031823</td>\n      <td>-0.109894</td>\n      <td>0.097934</td>\n      <td>-0.243768</td>\n      <td>-0.176109</td>\n      <td>-0.002984</td>\n      <td>-0.027844</td>\n      <td>0.069011</td>\n      <td>-0.645361</td>\n    </tr>\n    <tr>\n      <th>ENSG00000280267</th>\n      <td>-0.799880</td>\n      <td>-0.290801</td>\n      <td>0.281187</td>\n      <td>-0.347249</td>\n      <td>-0.004650</td>\n      <td>0.019152</td>\n      <td>0.336727</td>\n      <td>0.289013</td>\n      <td>-0.390199</td>\n      <td>-0.204644</td>\n      <td>...</td>\n      <td>-0.213539</td>\n      <td>-0.293435</td>\n      <td>-0.636833</td>\n      <td>0.811885</td>\n      <td>-0.119030</td>\n      <td>0.375083</td>\n      <td>0.600217</td>\n      <td>-0.772333</td>\n      <td>0.670361</td>\n      <td>-0.510163</td>\n    </tr>\n    <tr>\n      <th>ENSG00000280297</th>\n      <td>0.125944</td>\n      <td>0.020628</td>\n      <td>-0.069116</td>\n      <td>-0.076246</td>\n      <td>-0.322970</td>\n      <td>0.216778</td>\n      <td>-0.389412</td>\n      <td>0.208437</td>\n      <td>0.143095</td>\n      <td>-0.213645</td>\n      <td>...</td>\n      <td>-0.069501</td>\n      <td>0.155821</td>\n      <td>-0.123458</td>\n      <td>0.270595</td>\n      <td>-0.460678</td>\n      <td>0.027504</td>\n      <td>0.098230</td>\n      <td>-0.058452</td>\n      <td>0.088184</td>\n      <td>-0.454670</td>\n    </tr>\n    <tr>\n      <th>ENSG00000280433</th>\n      <td>0.137917</td>\n      <td>0.355594</td>\n      <td>-0.161207</td>\n      <td>-0.017142</td>\n      <td>-0.096485</td>\n      <td>0.333895</td>\n      <td>-0.323954</td>\n      <td>0.023822</td>\n      <td>0.129767</td>\n      <td>0.179938</td>\n      <td>...</td>\n      <td>0.141053</td>\n      <td>-0.084122</td>\n      <td>-0.224260</td>\n      <td>0.109534</td>\n      <td>-0.150956</td>\n      <td>-0.119640</td>\n      <td>0.128425</td>\n      <td>0.017256</td>\n      <td>-0.099188</td>\n      <td>-0.617878</td>\n    </tr>\n  </tbody>\n</table>\n<p>19385 rows × 256 columns</p>\n</div>"
     },
     "execution_count": 7,
     "metadata": {},
     "output_type": "execute_result"
    }
   ],
   "source": [
    "# load embedding\n",
    "emb = pd.read_csv(emb_path, sep = \"\\t\").set_index(\"gene_id\")\n",
    "emb"
   ],
   "metadata": {
    "collapsed": false,
    "ExecuteTime": {
     "end_time": "2023-12-27T14:45:49.288418511Z",
     "start_time": "2023-12-27T14:45:47.110219007Z"
    }
   },
   "id": "cf95187bbb505f8f"
  },
  {
   "cell_type": "markdown",
   "source": [
    "### Load GWAS MAGMA Scores"
   ],
   "metadata": {
    "collapsed": false
   },
   "id": "a968444ac9d04e84"
  },
  {
   "cell_type": "code",
   "execution_count": 8,
   "outputs": [
    {
     "data": {
      "text/plain": "                  GENE  CHR     START      STOP  NSNPS  NPARAM       N  \\\n0      ENSG00000187634    1    860260    879955     91      21  422405   \n1      ENSG00000188976    1    879584    894689     66      11  422405   \n2      ENSG00000187961    1    895967    901095     37       7  422405   \n3      ENSG00000187583    1    901877    911245     49      19  422405   \n4      ENSG00000187642    1    910579    917497     28       7  422405   \n...                ...  ...       ...       ...    ...     ...     ...   \n17968  ENSG00000008735   22  51039114  51052409     66      14  422405   \n17969  ENSG00000100299   22  51061182  51066607     36      12  422405   \n17970  ENSG00000251322   22  51112843  51171726    169      35  422405   \n17971  ENSG00000100312   22  51176624  51183762     36      10  422405   \n17972  ENSG00000079974   22  51205929  51222091     37       6  422405   \n\n         ZSTAT         P  \n0      1.89430  0.029092  \n1      3.07660  0.001047  \n2      3.00680  0.001320  \n3      1.90960  0.028095  \n4      3.89010  0.000050  \n...        ...       ...  \n17968  1.51710  0.064622  \n17969  2.77490  0.002761  \n17970  0.62568  0.265760  \n17971  1.33790  0.090472  \n17972  0.24099  0.404780  \n\n[17973 rows x 9 columns]",
      "text/html": "<div>\n<style scoped>\n    .dataframe tbody tr th:only-of-type {\n        vertical-align: middle;\n    }\n\n    .dataframe tbody tr th {\n        vertical-align: top;\n    }\n\n    .dataframe thead th {\n        text-align: right;\n    }\n</style>\n<table border=\"1\" class=\"dataframe\">\n  <thead>\n    <tr style=\"text-align: right;\">\n      <th></th>\n      <th>GENE</th>\n      <th>CHR</th>\n      <th>START</th>\n      <th>STOP</th>\n      <th>NSNPS</th>\n      <th>NPARAM</th>\n      <th>N</th>\n      <th>ZSTAT</th>\n      <th>P</th>\n    </tr>\n  </thead>\n  <tbody>\n    <tr>\n      <th>0</th>\n      <td>ENSG00000187634</td>\n      <td>1</td>\n      <td>860260</td>\n      <td>879955</td>\n      <td>91</td>\n      <td>21</td>\n      <td>422405</td>\n      <td>1.89430</td>\n      <td>0.029092</td>\n    </tr>\n    <tr>\n      <th>1</th>\n      <td>ENSG00000188976</td>\n      <td>1</td>\n      <td>879584</td>\n      <td>894689</td>\n      <td>66</td>\n      <td>11</td>\n      <td>422405</td>\n      <td>3.07660</td>\n      <td>0.001047</td>\n    </tr>\n    <tr>\n      <th>2</th>\n      <td>ENSG00000187961</td>\n      <td>1</td>\n      <td>895967</td>\n      <td>901095</td>\n      <td>37</td>\n      <td>7</td>\n      <td>422405</td>\n      <td>3.00680</td>\n      <td>0.001320</td>\n    </tr>\n    <tr>\n      <th>3</th>\n      <td>ENSG00000187583</td>\n      <td>1</td>\n      <td>901877</td>\n      <td>911245</td>\n      <td>49</td>\n      <td>19</td>\n      <td>422405</td>\n      <td>1.90960</td>\n      <td>0.028095</td>\n    </tr>\n    <tr>\n      <th>4</th>\n      <td>ENSG00000187642</td>\n      <td>1</td>\n      <td>910579</td>\n      <td>917497</td>\n      <td>28</td>\n      <td>7</td>\n      <td>422405</td>\n      <td>3.89010</td>\n      <td>0.000050</td>\n    </tr>\n    <tr>\n      <th>...</th>\n      <td>...</td>\n      <td>...</td>\n      <td>...</td>\n      <td>...</td>\n      <td>...</td>\n      <td>...</td>\n      <td>...</td>\n      <td>...</td>\n      <td>...</td>\n    </tr>\n    <tr>\n      <th>17968</th>\n      <td>ENSG00000008735</td>\n      <td>22</td>\n      <td>51039114</td>\n      <td>51052409</td>\n      <td>66</td>\n      <td>14</td>\n      <td>422405</td>\n      <td>1.51710</td>\n      <td>0.064622</td>\n    </tr>\n    <tr>\n      <th>17969</th>\n      <td>ENSG00000100299</td>\n      <td>22</td>\n      <td>51061182</td>\n      <td>51066607</td>\n      <td>36</td>\n      <td>12</td>\n      <td>422405</td>\n      <td>2.77490</td>\n      <td>0.002761</td>\n    </tr>\n    <tr>\n      <th>17970</th>\n      <td>ENSG00000251322</td>\n      <td>22</td>\n      <td>51112843</td>\n      <td>51171726</td>\n      <td>169</td>\n      <td>35</td>\n      <td>422405</td>\n      <td>0.62568</td>\n      <td>0.265760</td>\n    </tr>\n    <tr>\n      <th>17971</th>\n      <td>ENSG00000100312</td>\n      <td>22</td>\n      <td>51176624</td>\n      <td>51183762</td>\n      <td>36</td>\n      <td>10</td>\n      <td>422405</td>\n      <td>1.33790</td>\n      <td>0.090472</td>\n    </tr>\n    <tr>\n      <th>17972</th>\n      <td>ENSG00000079974</td>\n      <td>22</td>\n      <td>51205929</td>\n      <td>51222091</td>\n      <td>37</td>\n      <td>6</td>\n      <td>422405</td>\n      <td>0.24099</td>\n      <td>0.404780</td>\n    </tr>\n  </tbody>\n</table>\n<p>17973 rows × 9 columns</p>\n</div>"
     },
     "execution_count": 8,
     "metadata": {},
     "output_type": "execute_result"
    }
   ],
   "source": [
    "magma = pd.read_csv('../data/HDL_cholesterol.genes.out', delim_whitespace=True)\n",
    "magma"
   ],
   "metadata": {
    "collapsed": false,
    "ExecuteTime": {
     "end_time": "2023-12-27T14:45:49.406124734Z",
     "start_time": "2023-12-27T14:45:49.289127864Z"
    }
   },
   "id": "dffef81e8fbf5b18"
  },
  {
   "cell_type": "markdown",
   "source": [
    "### Merge Data"
   ],
   "metadata": {
    "collapsed": false
   },
   "id": "a6fbb304b2a2ecf6"
  },
  {
   "cell_type": "code",
   "execution_count": 9,
   "outputs": [],
   "source": [
    "magma = magma.merge(covariates, left_on = \"GENE\", right_index = True)"
   ],
   "metadata": {
    "collapsed": false,
    "ExecuteTime": {
     "end_time": "2023-12-27T14:45:49.670339159Z",
     "start_time": "2023-12-27T14:45:49.345137751Z"
    }
   },
   "id": "be6c962066667455"
  },
  {
   "cell_type": "code",
   "execution_count": 10,
   "outputs": [
    {
     "data": {
      "text/plain": "                  GENE  CHR     START      STOP  NSNPS  NPARAM       N  \\\n0      ENSG00000187634    1    860260    879955     91      21  422405   \n1      ENSG00000188976    1    879584    894689     66      11  422405   \n2      ENSG00000187961    1    895967    901095     37       7  422405   \n3      ENSG00000187583    1    901877    911245     49      19  422405   \n4      ENSG00000187642    1    910579    917497     28       7  422405   \n...                ...  ...       ...       ...    ...     ...     ...   \n17968  ENSG00000008735   22  51039114  51052409     66      14  422405   \n17969  ENSG00000100299   22  51061182  51066607     36      12  422405   \n17970  ENSG00000251322   22  51112843  51171726    169      35  422405   \n17971  ENSG00000100312   22  51176624  51183762     36      10  422405   \n17972  ENSG00000079974   22  51205929  51222091     37       6  422405   \n\n         ZSTAT         P  genesize  log_genesize  genedensity  \\\n0      1.89430  0.029092      21.0      3.044522     0.230769   \n1      3.07660  0.001047      11.0      2.397895     0.166667   \n2      3.00680  0.001320       7.0      1.945910     0.189189   \n3      1.90960  0.028095      19.0      2.944439     0.387755   \n4      3.89010  0.000050       7.0      1.945910     0.250000   \n...        ...       ...       ...           ...          ...   \n17968  1.51710  0.064622      14.0      2.639057     0.212121   \n17969  2.77490  0.002761      12.0      2.484907     0.333333   \n17970  0.62568  0.265760      35.0      3.555348     0.207101   \n17971  1.33790  0.090472      10.0      2.302585     0.277778   \n17972  0.24099  0.404780       6.0      1.791759     0.162162   \n\n       log_genedensity  inverse_mac  log_inverse_mac  \n0            -1.466337     0.013156        -4.330878  \n1            -1.791759     0.019236        -3.950951  \n2            -1.665008     0.016599        -4.098390  \n3            -0.947381     0.011969        -4.425457  \n4            -1.386294     0.006525        -5.032071  \n...                ...          ...              ...  \n17968        -1.550597     0.007717        -4.864268  \n17969        -1.098612     0.008163        -4.808111  \n17970        -1.574551     0.006002        -5.115722  \n17971        -1.280934     0.005423        -5.217048  \n17972        -1.819158     0.007884        -4.842911  \n\n[17973 rows x 15 columns]",
      "text/html": "<div>\n<style scoped>\n    .dataframe tbody tr th:only-of-type {\n        vertical-align: middle;\n    }\n\n    .dataframe tbody tr th {\n        vertical-align: top;\n    }\n\n    .dataframe thead th {\n        text-align: right;\n    }\n</style>\n<table border=\"1\" class=\"dataframe\">\n  <thead>\n    <tr style=\"text-align: right;\">\n      <th></th>\n      <th>GENE</th>\n      <th>CHR</th>\n      <th>START</th>\n      <th>STOP</th>\n      <th>NSNPS</th>\n      <th>NPARAM</th>\n      <th>N</th>\n      <th>ZSTAT</th>\n      <th>P</th>\n      <th>genesize</th>\n      <th>log_genesize</th>\n      <th>genedensity</th>\n      <th>log_genedensity</th>\n      <th>inverse_mac</th>\n      <th>log_inverse_mac</th>\n    </tr>\n  </thead>\n  <tbody>\n    <tr>\n      <th>0</th>\n      <td>ENSG00000187634</td>\n      <td>1</td>\n      <td>860260</td>\n      <td>879955</td>\n      <td>91</td>\n      <td>21</td>\n      <td>422405</td>\n      <td>1.89430</td>\n      <td>0.029092</td>\n      <td>21.0</td>\n      <td>3.044522</td>\n      <td>0.230769</td>\n      <td>-1.466337</td>\n      <td>0.013156</td>\n      <td>-4.330878</td>\n    </tr>\n    <tr>\n      <th>1</th>\n      <td>ENSG00000188976</td>\n      <td>1</td>\n      <td>879584</td>\n      <td>894689</td>\n      <td>66</td>\n      <td>11</td>\n      <td>422405</td>\n      <td>3.07660</td>\n      <td>0.001047</td>\n      <td>11.0</td>\n      <td>2.397895</td>\n      <td>0.166667</td>\n      <td>-1.791759</td>\n      <td>0.019236</td>\n      <td>-3.950951</td>\n    </tr>\n    <tr>\n      <th>2</th>\n      <td>ENSG00000187961</td>\n      <td>1</td>\n      <td>895967</td>\n      <td>901095</td>\n      <td>37</td>\n      <td>7</td>\n      <td>422405</td>\n      <td>3.00680</td>\n      <td>0.001320</td>\n      <td>7.0</td>\n      <td>1.945910</td>\n      <td>0.189189</td>\n      <td>-1.665008</td>\n      <td>0.016599</td>\n      <td>-4.098390</td>\n    </tr>\n    <tr>\n      <th>3</th>\n      <td>ENSG00000187583</td>\n      <td>1</td>\n      <td>901877</td>\n      <td>911245</td>\n      <td>49</td>\n      <td>19</td>\n      <td>422405</td>\n      <td>1.90960</td>\n      <td>0.028095</td>\n      <td>19.0</td>\n      <td>2.944439</td>\n      <td>0.387755</td>\n      <td>-0.947381</td>\n      <td>0.011969</td>\n      <td>-4.425457</td>\n    </tr>\n    <tr>\n      <th>4</th>\n      <td>ENSG00000187642</td>\n      <td>1</td>\n      <td>910579</td>\n      <td>917497</td>\n      <td>28</td>\n      <td>7</td>\n      <td>422405</td>\n      <td>3.89010</td>\n      <td>0.000050</td>\n      <td>7.0</td>\n      <td>1.945910</td>\n      <td>0.250000</td>\n      <td>-1.386294</td>\n      <td>0.006525</td>\n      <td>-5.032071</td>\n    </tr>\n    <tr>\n      <th>...</th>\n      <td>...</td>\n      <td>...</td>\n      <td>...</td>\n      <td>...</td>\n      <td>...</td>\n      <td>...</td>\n      <td>...</td>\n      <td>...</td>\n      <td>...</td>\n      <td>...</td>\n      <td>...</td>\n      <td>...</td>\n      <td>...</td>\n      <td>...</td>\n      <td>...</td>\n    </tr>\n    <tr>\n      <th>17968</th>\n      <td>ENSG00000008735</td>\n      <td>22</td>\n      <td>51039114</td>\n      <td>51052409</td>\n      <td>66</td>\n      <td>14</td>\n      <td>422405</td>\n      <td>1.51710</td>\n      <td>0.064622</td>\n      <td>14.0</td>\n      <td>2.639057</td>\n      <td>0.212121</td>\n      <td>-1.550597</td>\n      <td>0.007717</td>\n      <td>-4.864268</td>\n    </tr>\n    <tr>\n      <th>17969</th>\n      <td>ENSG00000100299</td>\n      <td>22</td>\n      <td>51061182</td>\n      <td>51066607</td>\n      <td>36</td>\n      <td>12</td>\n      <td>422405</td>\n      <td>2.77490</td>\n      <td>0.002761</td>\n      <td>12.0</td>\n      <td>2.484907</td>\n      <td>0.333333</td>\n      <td>-1.098612</td>\n      <td>0.008163</td>\n      <td>-4.808111</td>\n    </tr>\n    <tr>\n      <th>17970</th>\n      <td>ENSG00000251322</td>\n      <td>22</td>\n      <td>51112843</td>\n      <td>51171726</td>\n      <td>169</td>\n      <td>35</td>\n      <td>422405</td>\n      <td>0.62568</td>\n      <td>0.265760</td>\n      <td>35.0</td>\n      <td>3.555348</td>\n      <td>0.207101</td>\n      <td>-1.574551</td>\n      <td>0.006002</td>\n      <td>-5.115722</td>\n    </tr>\n    <tr>\n      <th>17971</th>\n      <td>ENSG00000100312</td>\n      <td>22</td>\n      <td>51176624</td>\n      <td>51183762</td>\n      <td>36</td>\n      <td>10</td>\n      <td>422405</td>\n      <td>1.33790</td>\n      <td>0.090472</td>\n      <td>10.0</td>\n      <td>2.302585</td>\n      <td>0.277778</td>\n      <td>-1.280934</td>\n      <td>0.005423</td>\n      <td>-5.217048</td>\n    </tr>\n    <tr>\n      <th>17972</th>\n      <td>ENSG00000079974</td>\n      <td>22</td>\n      <td>51205929</td>\n      <td>51222091</td>\n      <td>37</td>\n      <td>6</td>\n      <td>422405</td>\n      <td>0.24099</td>\n      <td>0.404780</td>\n      <td>6.0</td>\n      <td>1.791759</td>\n      <td>0.162162</td>\n      <td>-1.819158</td>\n      <td>0.007884</td>\n      <td>-4.842911</td>\n    </tr>\n  </tbody>\n</table>\n<p>17973 rows × 15 columns</p>\n</div>"
     },
     "execution_count": 10,
     "metadata": {},
     "output_type": "execute_result"
    }
   ],
   "source": [
    "magma"
   ],
   "metadata": {
    "collapsed": false,
    "ExecuteTime": {
     "end_time": "2023-12-27T14:45:50.012190669Z",
     "start_time": "2023-12-27T14:45:49.362487049Z"
    }
   },
   "id": "ebba78137a13c27d"
  },
  {
   "cell_type": "markdown",
   "source": [
    "### Project Y to LY\n",
    "\n",
    "TODO: What is this exactly?"
   ],
   "metadata": {
    "collapsed": false
   },
   "id": "19963c5310e87f5e"
  },
  {
   "cell_type": "code",
   "execution_count": 11,
   "outputs": [],
   "source": [
    "def compute_Ls(sigmas, Y):\n",
    "    Ls = []\n",
    "    min_lambda=0\n",
    "    for sigma in sigmas:\n",
    "        W = np.linalg.eigvalsh(sigma)\n",
    "        min_lambda = min(min_lambda, min(W))\n",
    "    #Y = pd.read_table(args.gene_results+'.genes.out', delim_whitespace=True).ZSTAT.values\n",
    "    ridge = abs(min_lambda)+.05+.9*max(0, np.var(Y)-1)\n",
    "    for sigma in sigmas:\n",
    "        sigma = sigma+ridge*np.identity(sigma.shape[0])\n",
    "        L = np.linalg.cholesky(np.linalg.inv(sigma))\n",
    "        Ls.append(L)\n",
    "    return Ls"
   ],
   "metadata": {
    "collapsed": false,
    "ExecuteTime": {
     "end_time": "2023-12-27T14:45:50.012679552Z",
     "start_time": "2023-12-27T14:45:49.380969368Z"
    }
   },
   "id": "19e8e463343c4443"
  },
  {
   "cell_type": "code",
   "execution_count": 12,
   "outputs": [],
   "source": [
    "Ls = compute_Ls(sigmas, magma.ZSTAT)\n",
    "\n",
    "def project_Y(Ls, magma_Z):\n",
    "    LYs = []\n",
    "    for i in range(22):\n",
    "        L = Ls[i]\n",
    "        magma_temp = magma.set_index(\"GENE\").reindex(gene_lists[i]).reset_index()\n",
    "\n",
    "        LYs.append(pd.DataFrame({\"GENE\": magma_temp.GENE, \"LY\": np.matmul(L, magma_temp.ZSTAT)}))\n",
    "    return pd.concat(LYs)\n",
    "\n",
    "def project_Y_back(Ls, res):\n",
    "    LYs = []\n",
    "    for i in range(22):\n",
    "        L = np.linalg.inv(Ls[i])\n",
    "        temp = res.set_index(\"GENE\").reindex(gene_lists[i]).reset_index()\n",
    "\n",
    "        LYs.append(pd.DataFrame({\"GENE\": temp.dropna().GENE,\n",
    "                                 \"pred\": np.matmul(L[~temp.pred_LY.isna(), :][:, ~temp.pred_LY.isna()],\n",
    "                                                   temp.dropna().pred_LY),\n",
    "                                 }))\n",
    "    return pd.concat(LYs)\n",
    "\n",
    "magma = magma.merge(project_Y(Ls, magma))"
   ],
   "metadata": {
    "collapsed": false,
    "ExecuteTime": {
     "end_time": "2023-12-27T14:45:57.325183664Z",
     "start_time": "2023-12-27T14:45:49.422301311Z"
    }
   },
   "id": "dc02e39fcf45d6e3"
  },
  {
   "cell_type": "code",
   "execution_count": 13,
   "outputs": [
    {
     "data": {
      "text/plain": "                  GENE  CHR     START      STOP  NSNPS  NPARAM       N  \\\n0      ENSG00000187634    1    860260    879955     91      21  422405   \n1      ENSG00000188976    1    879584    894689     66      11  422405   \n2      ENSG00000187961    1    895967    901095     37       7  422405   \n3      ENSG00000187583    1    901877    911245     49      19  422405   \n4      ENSG00000187642    1    910579    917497     28       7  422405   \n...                ...  ...       ...       ...    ...     ...     ...   \n17968  ENSG00000008735   22  51039114  51052409     66      14  422405   \n17969  ENSG00000100299   22  51061182  51066607     36      12  422405   \n17970  ENSG00000251322   22  51112843  51171726    169      35  422405   \n17971  ENSG00000100312   22  51176624  51183762     36      10  422405   \n17972  ENSG00000079974   22  51205929  51222091     37       6  422405   \n\n         ZSTAT         P  genesize  log_genesize  genedensity  \\\n0      1.89430  0.029092      21.0      3.044522     0.230769   \n1      3.07660  0.001047      11.0      2.397895     0.166667   \n2      3.00680  0.001320       7.0      1.945910     0.189189   \n3      1.90960  0.028095      19.0      2.944439     0.387755   \n4      3.89010  0.000050       7.0      1.945910     0.250000   \n...        ...       ...       ...           ...          ...   \n17968  1.51710  0.064622      14.0      2.639057     0.212121   \n17969  2.77490  0.002761      12.0      2.484907     0.333333   \n17970  0.62568  0.265760      35.0      3.555348     0.207101   \n17971  1.33790  0.090472      10.0      2.302585     0.277778   \n17972  0.24099  0.404780       6.0      1.791759     0.162162   \n\n       log_genedensity  inverse_mac  log_inverse_mac        LY  \n0            -1.466337     0.013156        -4.330878  0.999534  \n1            -1.791759     0.019236        -3.950951  1.551349  \n2            -1.665008     0.016599        -4.098390  1.148646  \n3            -0.947381     0.011969        -4.425457  0.708156  \n4            -1.386294     0.006525        -5.032071  1.854531  \n...                ...          ...              ...       ...  \n17968        -1.550597     0.007717        -4.864268  0.512377  \n17969        -1.098612     0.008163        -4.808111  1.098611  \n17970        -1.574551     0.006002        -5.115722  0.082490  \n17971        -1.280934     0.005423        -5.217048  0.569190  \n17972        -1.819158     0.007884        -4.842911 -0.049906  \n\n[17973 rows x 16 columns]",
      "text/html": "<div>\n<style scoped>\n    .dataframe tbody tr th:only-of-type {\n        vertical-align: middle;\n    }\n\n    .dataframe tbody tr th {\n        vertical-align: top;\n    }\n\n    .dataframe thead th {\n        text-align: right;\n    }\n</style>\n<table border=\"1\" class=\"dataframe\">\n  <thead>\n    <tr style=\"text-align: right;\">\n      <th></th>\n      <th>GENE</th>\n      <th>CHR</th>\n      <th>START</th>\n      <th>STOP</th>\n      <th>NSNPS</th>\n      <th>NPARAM</th>\n      <th>N</th>\n      <th>ZSTAT</th>\n      <th>P</th>\n      <th>genesize</th>\n      <th>log_genesize</th>\n      <th>genedensity</th>\n      <th>log_genedensity</th>\n      <th>inverse_mac</th>\n      <th>log_inverse_mac</th>\n      <th>LY</th>\n    </tr>\n  </thead>\n  <tbody>\n    <tr>\n      <th>0</th>\n      <td>ENSG00000187634</td>\n      <td>1</td>\n      <td>860260</td>\n      <td>879955</td>\n      <td>91</td>\n      <td>21</td>\n      <td>422405</td>\n      <td>1.89430</td>\n      <td>0.029092</td>\n      <td>21.0</td>\n      <td>3.044522</td>\n      <td>0.230769</td>\n      <td>-1.466337</td>\n      <td>0.013156</td>\n      <td>-4.330878</td>\n      <td>0.999534</td>\n    </tr>\n    <tr>\n      <th>1</th>\n      <td>ENSG00000188976</td>\n      <td>1</td>\n      <td>879584</td>\n      <td>894689</td>\n      <td>66</td>\n      <td>11</td>\n      <td>422405</td>\n      <td>3.07660</td>\n      <td>0.001047</td>\n      <td>11.0</td>\n      <td>2.397895</td>\n      <td>0.166667</td>\n      <td>-1.791759</td>\n      <td>0.019236</td>\n      <td>-3.950951</td>\n      <td>1.551349</td>\n    </tr>\n    <tr>\n      <th>2</th>\n      <td>ENSG00000187961</td>\n      <td>1</td>\n      <td>895967</td>\n      <td>901095</td>\n      <td>37</td>\n      <td>7</td>\n      <td>422405</td>\n      <td>3.00680</td>\n      <td>0.001320</td>\n      <td>7.0</td>\n      <td>1.945910</td>\n      <td>0.189189</td>\n      <td>-1.665008</td>\n      <td>0.016599</td>\n      <td>-4.098390</td>\n      <td>1.148646</td>\n    </tr>\n    <tr>\n      <th>3</th>\n      <td>ENSG00000187583</td>\n      <td>1</td>\n      <td>901877</td>\n      <td>911245</td>\n      <td>49</td>\n      <td>19</td>\n      <td>422405</td>\n      <td>1.90960</td>\n      <td>0.028095</td>\n      <td>19.0</td>\n      <td>2.944439</td>\n      <td>0.387755</td>\n      <td>-0.947381</td>\n      <td>0.011969</td>\n      <td>-4.425457</td>\n      <td>0.708156</td>\n    </tr>\n    <tr>\n      <th>4</th>\n      <td>ENSG00000187642</td>\n      <td>1</td>\n      <td>910579</td>\n      <td>917497</td>\n      <td>28</td>\n      <td>7</td>\n      <td>422405</td>\n      <td>3.89010</td>\n      <td>0.000050</td>\n      <td>7.0</td>\n      <td>1.945910</td>\n      <td>0.250000</td>\n      <td>-1.386294</td>\n      <td>0.006525</td>\n      <td>-5.032071</td>\n      <td>1.854531</td>\n    </tr>\n    <tr>\n      <th>...</th>\n      <td>...</td>\n      <td>...</td>\n      <td>...</td>\n      <td>...</td>\n      <td>...</td>\n      <td>...</td>\n      <td>...</td>\n      <td>...</td>\n      <td>...</td>\n      <td>...</td>\n      <td>...</td>\n      <td>...</td>\n      <td>...</td>\n      <td>...</td>\n      <td>...</td>\n      <td>...</td>\n    </tr>\n    <tr>\n      <th>17968</th>\n      <td>ENSG00000008735</td>\n      <td>22</td>\n      <td>51039114</td>\n      <td>51052409</td>\n      <td>66</td>\n      <td>14</td>\n      <td>422405</td>\n      <td>1.51710</td>\n      <td>0.064622</td>\n      <td>14.0</td>\n      <td>2.639057</td>\n      <td>0.212121</td>\n      <td>-1.550597</td>\n      <td>0.007717</td>\n      <td>-4.864268</td>\n      <td>0.512377</td>\n    </tr>\n    <tr>\n      <th>17969</th>\n      <td>ENSG00000100299</td>\n      <td>22</td>\n      <td>51061182</td>\n      <td>51066607</td>\n      <td>36</td>\n      <td>12</td>\n      <td>422405</td>\n      <td>2.77490</td>\n      <td>0.002761</td>\n      <td>12.0</td>\n      <td>2.484907</td>\n      <td>0.333333</td>\n      <td>-1.098612</td>\n      <td>0.008163</td>\n      <td>-4.808111</td>\n      <td>1.098611</td>\n    </tr>\n    <tr>\n      <th>17970</th>\n      <td>ENSG00000251322</td>\n      <td>22</td>\n      <td>51112843</td>\n      <td>51171726</td>\n      <td>169</td>\n      <td>35</td>\n      <td>422405</td>\n      <td>0.62568</td>\n      <td>0.265760</td>\n      <td>35.0</td>\n      <td>3.555348</td>\n      <td>0.207101</td>\n      <td>-1.574551</td>\n      <td>0.006002</td>\n      <td>-5.115722</td>\n      <td>0.082490</td>\n    </tr>\n    <tr>\n      <th>17971</th>\n      <td>ENSG00000100312</td>\n      <td>22</td>\n      <td>51176624</td>\n      <td>51183762</td>\n      <td>36</td>\n      <td>10</td>\n      <td>422405</td>\n      <td>1.33790</td>\n      <td>0.090472</td>\n      <td>10.0</td>\n      <td>2.302585</td>\n      <td>0.277778</td>\n      <td>-1.280934</td>\n      <td>0.005423</td>\n      <td>-5.217048</td>\n      <td>0.569190</td>\n    </tr>\n    <tr>\n      <th>17972</th>\n      <td>ENSG00000079974</td>\n      <td>22</td>\n      <td>51205929</td>\n      <td>51222091</td>\n      <td>37</td>\n      <td>6</td>\n      <td>422405</td>\n      <td>0.24099</td>\n      <td>0.404780</td>\n      <td>6.0</td>\n      <td>1.791759</td>\n      <td>0.162162</td>\n      <td>-1.819158</td>\n      <td>0.007884</td>\n      <td>-4.842911</td>\n      <td>-0.049906</td>\n    </tr>\n  </tbody>\n</table>\n<p>17973 rows × 16 columns</p>\n</div>"
     },
     "execution_count": 13,
     "metadata": {},
     "output_type": "execute_result"
    }
   ],
   "source": [
    "magma"
   ],
   "metadata": {
    "collapsed": false,
    "ExecuteTime": {
     "end_time": "2023-12-27T14:45:57.374349634Z",
     "start_time": "2023-12-27T14:45:57.338788264Z"
    }
   },
   "id": "e723c698b597ee46"
  },
  {
   "cell_type": "markdown",
   "source": [
    "### Merge Data"
   ],
   "metadata": {
    "collapsed": false
   },
   "id": "10638a47a605f0dc"
  },
  {
   "cell_type": "code",
   "execution_count": 14,
   "outputs": [],
   "source": [
    "# merge with embedding\n",
    "dt = magma.merge(emb, left_on = \"GENE\", right_on = \"gene_id\")"
   ],
   "metadata": {
    "collapsed": false,
    "ExecuteTime": {
     "end_time": "2023-12-27T14:45:57.459032117Z",
     "start_time": "2023-12-27T14:45:57.369076005Z"
    }
   },
   "id": "98c5c07cafeed9ed"
  },
  {
   "cell_type": "markdown",
   "source": [
    "## Regression\n",
    "\n",
    "Split by Chromosomes."
   ],
   "metadata": {
    "collapsed": false
   },
   "id": "ad069b5370b7fab8"
  },
  {
   "cell_type": "code",
   "execution_count": 15,
   "outputs": [
    {
     "name": "stdout",
     "output_type": "stream",
     "text": [
      "Chrom: 1: R2: 0.07525334525537461\n",
      "Chrom: 2: R2: 0.11041946486781463\n",
      "Chrom: 3: R2: 0.07101397097248709\n",
      "Chrom: 4: R2: 0.06367080705018728\n",
      "Chrom: 5: R2: 0.07676319218327589\n",
      "Chrom: 6: R2: 0.03075019478768777\n",
      "Chrom: 7: R2: 0.053877252939014124\n",
      "Chrom: 8: R2: 0.07305649129367954\n",
      "Chrom: 9: R2: 0.06310958093218305\n",
      "Chrom: 10: R2: 0.07321509777592132\n",
      "Chrom: 11: R2: 0.05258632445117058\n",
      "Chrom: 12: R2: 0.05650955600295825\n",
      "Chrom: 13: R2: 0.09195255493413862\n",
      "Chrom: 14: R2: 0.06392773534850946\n",
      "Chrom: 15: R2: 0.06425214710222564\n",
      "Chrom: 16: R2: 0.0547694050821071\n",
      "Chrom: 17: R2: 0.0498257195413476\n",
      "Chrom: 18: R2: 0.041166781884540996\n",
      "Chrom: 19: R2: 0.05471255920661859\n",
      "Chrom: 20: R2: 0.05431657493686166\n",
      "Chrom: 21: R2: 0.2429877283843677\n",
      "Chrom: 22: R2: 0.010847405385980464\n",
      "Overall R2: 0.09524026030438075\n",
      "\n",
      "Per chrom R2:\n",
      "0.0804065433444994\n",
      "0.06725134335099976\n",
      "0.18181764973308354\n",
      "0.07327736017959016\n",
      "0.03059141850620522\n",
      "0.21989611128886694\n",
      "0.05037218461677569\n",
      "0.0696986472443637\n",
      "0.0721257922657933\n",
      "0.05950166924611103\n",
      "0.10244032574834419\n",
      "0.10287346419521598\n",
      "0.07500605891411542\n",
      "0.09388329220762026\n",
      "0.0945153128694408\n",
      "0.13868946663522497\n",
      "0.07788948703565064\n",
      "0.04909639281480897\n",
      "0.03774504139548425\n",
      "0.1697583535981759\n",
      "0.2739760229354141\n",
      "0.07864224555615076\n"
     ]
    }
   ],
   "source": [
    "df = []\n",
    "for chrom in range(1,23):\n",
    "    reg = xgb.XGBRegressor(tree_method=\"hist\", reg_lambda = 1000, reg_alpha = 100)\n",
    "    mod = reg.fit(\n",
    "        dt.query(\"CHR != @chrom\").drop([\"GENE\", \"CHR\", \"START\", \"STOP\", \"NSNPS\", \"NPARAM\", \"N\", \"ZSTAT\", \"P\", \"LY\"], axis=1),\n",
    "        dt.query(\"CHR != @chrom\")['LY']\n",
    "    )\n",
    "    pred = mod.predict(\n",
    "        dt.query(\"CHR == @chrom\").drop([\"GENE\", \"CHR\", \"START\", \"STOP\", \"NSNPS\", \"NPARAM\", \"N\", \"ZSTAT\", \"P\", \"LY\"], axis=1),\n",
    "    )\n",
    "\n",
    "    df_chrom = dt.query(\"CHR == @chrom\")[[\"GENE\", \"CHR\", \"START\", \"STOP\", \"NSNPS\", \"NPARAM\", \"N\", \"ZSTAT\", \"P\", \"LY\"]]\n",
    "    df_chrom['pred_LY'] = pred\n",
    "\n",
    "    df.append(df_chrom)\n",
    "    print(f\"Chrom: {chrom}: R2: {scipy.stats.pearsonr(df_chrom.LY, df_chrom.pred_LY)[0]**2}\")\n",
    "\n",
    "\n",
    "df = pd.concat(df)\n",
    "df = df.merge(project_Y_back(Ls, df))\n",
    "\n",
    "print(f\"Overall R2: {scipy.stats.pearsonr(df.ZSTAT, df.pred)[0]**2}\")\n",
    "print()\n",
    "print(\"Per chrom R2:\")\n",
    "\n",
    "for i in range(1, 23):\n",
    "    df_tmp = df.query(\"CHR == @i\")\n",
    "\n",
    "    print(scipy.stats.pearsonr(df_tmp.ZSTAT, df_tmp.pred)[0]**2)\n",
    "\n",
    "# df.to_csv(snakemake.output.pred, sep = '\\t')"
   ],
   "metadata": {
    "collapsed": false,
    "ExecuteTime": {
     "end_time": "2023-12-27T14:47:46.088614934Z",
     "start_time": "2023-12-27T14:45:57.430665037Z"
    }
   },
   "id": "c1f629d807781d80"
  },
  {
   "cell_type": "markdown",
   "source": [
    "## Old code"
   ],
   "metadata": {
    "collapsed": false
   },
   "id": "60e45f66691ddf04"
  },
  {
   "cell_type": "code",
   "execution_count": 16,
   "outputs": [
    {
     "ename": "NameError",
     "evalue": "name 'merged_data' is not defined",
     "output_type": "error",
     "traceback": [
      "\u001B[0;31m---------------------------------------------------------------------------\u001B[0m",
      "\u001B[0;31mNameError\u001B[0m                                 Traceback (most recent call last)",
      "Cell \u001B[0;32mIn[16], line 1\u001B[0m\n\u001B[0;32m----> 1\u001B[0m X \u001B[38;5;241m=\u001B[39m \u001B[43mmerged_data\u001B[49m\u001B[38;5;241m.\u001B[39miloc[:, \u001B[38;5;241m1\u001B[39m:\u001B[38;5;241m257\u001B[39m]  \u001B[38;5;66;03m# Columns 1 to 256 are the embedding features\u001B[39;00m\n\u001B[1;32m      2\u001B[0m y \u001B[38;5;241m=\u001B[39m merged_data[\u001B[38;5;124m'\u001B[39m\u001B[38;5;124mZSTAT\u001B[39m\u001B[38;5;124m'\u001B[39m]\n\u001B[1;32m      3\u001B[0m X_train, X_test, y_train, y_test \u001B[38;5;241m=\u001B[39m train_test_split(X, y, test_size\u001B[38;5;241m=\u001B[39m\u001B[38;5;241m0.2\u001B[39m, random_state\u001B[38;5;241m=\u001B[39m\u001B[38;5;241m42\u001B[39m)\n",
      "\u001B[0;31mNameError\u001B[0m: name 'merged_data' is not defined"
     ]
    }
   ],
   "source": [
    "X = merged_data.iloc[:, 1:257]  # Columns 1 to 256 are the embedding features\n",
    "y = merged_data['ZSTAT']\n",
    "X_train, X_test, y_train, y_test = train_test_split(X, y, test_size=0.2, random_state=42)"
   ],
   "metadata": {
    "collapsed": false,
    "ExecuteTime": {
     "end_time": "2023-12-27T14:47:46.333309664Z",
     "start_time": "2023-12-27T14:47:46.066327400Z"
    }
   },
   "id": "145903ba7fdb459c"
  },
  {
   "cell_type": "code",
   "execution_count": null,
   "outputs": [],
   "source": [
    "model = LinearRegression()\n",
    "model.fit(X_train, y_train)"
   ],
   "metadata": {
    "collapsed": false,
    "ExecuteTime": {
     "start_time": "2023-12-27T14:47:46.337971030Z"
    }
   },
   "id": "5b8486d8cd3cba04"
  },
  {
   "cell_type": "code",
   "execution_count": null,
   "outputs": [],
   "source": [
    "# Predictions\n",
    "predictions = model.predict(X_test)\n",
    "predictions"
   ],
   "metadata": {
    "collapsed": false,
    "ExecuteTime": {
     "start_time": "2023-12-27T14:47:46.341365478Z"
    }
   },
   "id": "45b22535fa689286"
  },
  {
   "cell_type": "code",
   "execution_count": null,
   "outputs": [],
   "source": [
    "# Evaluate Model\n",
    "mse = mean_squared_error(y_test, predictions)\n",
    "r2 = r2_score(y_test, predictions)\n",
    "\n",
    "print(f'Mean Squared Error: {mse}')\n",
    "print(f'R2 Score: {r2}')"
   ],
   "metadata": {
    "collapsed": false,
    "ExecuteTime": {
     "start_time": "2023-12-27T14:47:46.345794571Z"
    }
   },
   "id": "initial_id"
  },
  {
   "cell_type": "code",
   "execution_count": null,
   "outputs": [],
   "source": [
    "# Perform PCA\n",
    "pca = PCA(n_components=10)  # Set the desired number of principal components\n",
    "principal_components = pca.fit_transform(X)"
   ],
   "metadata": {
    "collapsed": false,
    "ExecuteTime": {
     "start_time": "2023-12-27T14:47:46.390383421Z"
    }
   },
   "id": "4c5990501498b6d9"
  },
  {
   "cell_type": "code",
   "execution_count": null,
   "outputs": [],
   "source": [
    "# Create DataFrame with Principal Components\n",
    "pc_columns = [f'PC{i}' for i in range(1, pca.n_components_ + 1)]\n",
    "pc_df = pd.DataFrame(data=principal_components, columns=pc_columns)\n",
    "pc_df"
   ],
   "metadata": {
    "collapsed": false,
    "ExecuteTime": {
     "start_time": "2023-12-27T14:47:46.390839610Z"
    }
   },
   "id": "3e089126369e4a87"
  },
  {
   "cell_type": "code",
   "execution_count": null,
   "outputs": [],
   "source": [
    "# Concatenate PCA components with original data\n",
    "merged_data_pca = pd.concat([pc_df, y], axis=1)\n",
    "\n",
    "# Split Data\n",
    "X_pca = merged_data_pca.iloc[:, :-2]  # Exclude GENE and ZSTAT columns\n",
    "y_pca = merged_data_pca['ZSTAT']\n",
    "X_train_pca, X_test_pca, y_train_pca, y_test_pca = train_test_split(X_pca, y_pca, test_size=0.2, random_state=42)"
   ],
   "metadata": {
    "collapsed": false,
    "ExecuteTime": {
     "start_time": "2023-12-27T14:47:46.391192617Z"
    }
   },
   "id": "102bb3c63f3b73e"
  },
  {
   "cell_type": "code",
   "execution_count": null,
   "outputs": [],
   "source": [
    "# Train Linear Regression Model on PCA components\n",
    "model_pca = LinearRegression()\n",
    "model_pca.fit(X_train_pca, y_train_pca)"
   ],
   "metadata": {
    "collapsed": false,
    "ExecuteTime": {
     "start_time": "2023-12-27T14:47:46.392284521Z"
    }
   },
   "id": "1c7dc249226cf6cc"
  },
  {
   "cell_type": "code",
   "execution_count": null,
   "outputs": [],
   "source": [
    "# Predictions using PCA components\n",
    "predictions_pca = model_pca.predict(X_test_pca)\n",
    "predictions_pca"
   ],
   "metadata": {
    "collapsed": false,
    "ExecuteTime": {
     "end_time": "2023-12-27T14:47:46.418934738Z",
     "start_time": "2023-12-27T14:47:46.392592206Z"
    }
   },
   "id": "312413597b9e4f68"
  },
  {
   "cell_type": "code",
   "execution_count": null,
   "outputs": [],
   "source": [
    "# Evaluate Model with PCA\n",
    "mse_pca = mean_squared_error(y_test_pca, predictions_pca)\n",
    "r2_pca = r2_score(y_test_pca, predictions_pca)\n",
    "\n",
    "print(f'Mean Squared Error with PCA: {mse_pca}')\n",
    "print(f'R2 Score with PCA: {r2_pca}')"
   ],
   "metadata": {
    "collapsed": false,
    "ExecuteTime": {
     "start_time": "2023-12-27T14:47:46.392833490Z"
    }
   },
   "id": "935a367e4fdaa60c"
  },
  {
   "cell_type": "code",
   "execution_count": null,
   "outputs": [],
   "source": [
    "import torch\n",
    "import torch.nn as nn\n",
    "import torch.optim as optim\n",
    "import numpy as np\n",
    "from sklearn.preprocessing import StandardScaler"
   ],
   "metadata": {
    "collapsed": false,
    "ExecuteTime": {
     "start_time": "2023-12-27T14:47:46.393072070Z"
    }
   },
   "id": "541323850523c937"
  },
  {
   "cell_type": "code",
   "execution_count": null,
   "outputs": [],
   "source": [
    "# Standardize the data\n",
    "scaler = StandardScaler()\n",
    "X_standardized = scaler.fit_transform(X)\n",
    "\n",
    "# Split Data\n",
    "X_train, X_test = train_test_split(X_standardized, test_size=0.2, random_state=42)"
   ],
   "metadata": {
    "collapsed": false,
    "ExecuteTime": {
     "start_time": "2023-12-27T14:47:46.393301800Z"
    }
   },
   "id": "25ee47b2ae3c688b"
  },
  {
   "cell_type": "code",
   "execution_count": null,
   "outputs": [],
   "source": [
    "# PyTorch Autoencoder\n",
    "class Autoencoder(nn.Module):\n",
    "    def __init__(self, input_size, encoding_dim):\n",
    "        super(Autoencoder, self).__init__()\n",
    "        self.encoder = nn.Linear(input_size, encoding_dim)\n",
    "        self.decoder = nn.Linear(encoding_dim, input_size)\n",
    "\n",
    "    def forward(self, x):\n",
    "        x = torch.relu(self.encoder(x))\n",
    "        x = self.decoder(x)\n",
    "        return x\n",
    "\n",
    "# Train Autoencoder\n",
    "def train_autoencoder(model, criterion, optimizer, data, num_epochs=10):\n",
    "    for epoch in range(num_epochs):\n",
    "        model.train()\n",
    "        optimizer.zero_grad()\n",
    "        outputs = model(data)\n",
    "        loss = criterion(outputs, data)\n",
    "        loss.backward()\n",
    "        optimizer.step()\n",
    "\n",
    "        if epoch % 100 == 0:\n",
    "            print(f'Epoch {epoch}/{num_epochs}, Loss: {loss.item()}')\n",
    "\n",
    "# Create PyTorch DataLoader\n",
    "train_data = torch.Tensor(X_train)\n",
    "test_data = torch.Tensor(X_test)\n",
    "\n",
    "# Parameters\n",
    "input_size = X_train.shape[1]\n",
    "encoding_dim = 64\n",
    "\n",
    "# Initialize Autoencoder\n",
    "autoencoder = Autoencoder(input_size, encoding_dim)\n",
    "criterion = nn.MSELoss()\n",
    "optimizer = optim.Adam(autoencoder.parameters(), lr=0.001)"
   ],
   "metadata": {
    "collapsed": false,
    "ExecuteTime": {
     "start_time": "2023-12-27T14:47:46.393602732Z"
    }
   },
   "id": "47f904c2c14820d8"
  },
  {
   "cell_type": "code",
   "execution_count": null,
   "outputs": [],
   "source": [
    "# Train Autoencoder\n",
    "train_autoencoder(autoencoder, criterion, optimizer, train_data, num_epochs=500)"
   ],
   "metadata": {
    "collapsed": false,
    "ExecuteTime": {
     "start_time": "2023-12-27T14:47:46.394968381Z"
    }
   },
   "id": "d7ea0eaabac7c7aa"
  },
  {
   "cell_type": "code",
   "execution_count": null,
   "outputs": [],
   "source": [
    "# Evaluate Autoencoder\n",
    "autoencoder.eval()\n",
    "encoded_data = autoencoder.encoder(test_data).detach().numpy()"
   ],
   "metadata": {
    "collapsed": false,
    "ExecuteTime": {
     "start_time": "2023-12-27T14:47:46.395409504Z"
    }
   },
   "id": "e5ce86994327a7b7"
  },
  {
   "cell_type": "code",
   "execution_count": null,
   "outputs": [],
   "source": [
    "# PCA\n",
    "pca = PCA(n_components=encoding_dim)\n",
    "pca.fit(X_train)\n",
    "pca_data = pca.transform(X_test)\n",
    "\n",
    "# Compare Autoencoder and PCA\n",
    "mse_autoencoder = mean_squared_error(test_data.numpy(), autoencoder(test_data).detach().numpy())\n",
    "mse_pca = mean_squared_error(X_test, pca.inverse_transform(pca_data))\n",
    "\n",
    "print(f'Mean Squared Error for Autoencoder: {mse_autoencoder}')\n",
    "print(f'Mean Squared Error for PCA: {mse_pca}')"
   ],
   "metadata": {
    "collapsed": false,
    "ExecuteTime": {
     "start_time": "2023-12-27T14:47:46.395719598Z"
    }
   },
   "id": "eacd9661ecf0d800"
  }
 ],
 "metadata": {
  "kernelspec": {
   "display_name": "Python 3",
   "language": "python",
   "name": "python3"
  },
  "language_info": {
   "codemirror_mode": {
    "name": "ipython",
    "version": 2
   },
   "file_extension": ".py",
   "mimetype": "text/x-python",
   "name": "python",
   "nbconvert_exporter": "python",
   "pygments_lexer": "ipython2",
   "version": "2.7.6"
  }
 },
 "nbformat": 4,
 "nbformat_minor": 5
}
